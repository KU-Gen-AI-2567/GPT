{
  "cells": [
    {
      "cell_type": "markdown",
      "metadata": {
        "colab_type": "text",
        "id": "view-in-github"
      },
      "source": [
        "<a href=\"https://colab.research.google.com/github/KU-Gen-AI-2567/GPT/blob/main/GPT_demo.ipynb\" target=\"_parent\"><img src=\"https://colab.research.google.com/assets/colab-badge.svg\" alt=\"Open In Colab\"/></a>"
      ]
    },
    {
      "cell_type": "markdown",
      "metadata": {
        "id": "3Gpvcd-dWuZg"
      },
      "source": [
        "# GPT - 01418496\n",
        "**สมาชิกกลุ่ม**\n",
        "\n",
        "นายศิวกร ภาสว่าง 6410451423\n",
        "\n",
        "นางสาว เเพรวรุ้ง พุดชะวา 6410451253\n",
        "\n",
        "นางสาว มารีน่า มิทซุย 6410450222\n",
        "\n",
        "หมู่ 200\n",
        "\n",
        "ชุดข้อมูล : Disneyland Reviews\n",
        "\n",
        "ลิ้งดาวน์โหลด : https://www.kaggle.com/datasets/arushchillar/disneyland-reviews"
      ]
    },
    {
      "cell_type": "code",
      "execution_count": 1,
      "metadata": {
        "id": "TJ99SV3bWuZh"
      },
      "outputs": [],
      "source": [
        "import tensorflow as tf\n",
        "import numpy as np\n",
        "import os\n",
        "import kagglehub\n",
        "import shutil\n",
        "import pandas as pd"
      ]
    },
    {
      "cell_type": "markdown",
      "metadata": {
        "id": "GQrUf4zRWuZh"
      },
      "source": [
        "## Setting to execute on Processor (GPU or CPU)"
      ]
    },
    {
      "cell_type": "code",
      "execution_count": 2,
      "metadata": {
        "colab": {
          "base_uri": "https://localhost:8080/"
        },
        "id": "ChVjtilkWuZi",
        "outputId": "7357f0b5-98c0-455a-b96e-d27e9ff11221"
      },
      "outputs": [
        {
          "name": "stdout",
          "output_type": "stream",
          "text": [
            "Execute on GPU\n"
          ]
        }
      ],
      "source": [
        "gpus = tf.config.list_physical_devices(\"GPU\")\n",
        "if len(gpus) > 0:\n",
        "    tf.config.experimental.set_memory_growth(gpus[0], True)\n",
        "    print(\"Execute on GPU\")\n",
        "else:\n",
        "    print(\"Execute on CPU\")"
      ]
    },
    {
      "cell_type": "markdown",
      "metadata": {
        "id": "Ij-RDzKpWuZi"
      },
      "source": [
        "## Download Dataset"
      ]
    },
    {
      "cell_type": "code",
      "execution_count": 3,
      "metadata": {
        "colab": {
          "base_uri": "https://localhost:8080/"
        },
        "id": "Cso5wPROWuZi",
        "outputId": "ec6bf197-ecf6-4032-9e54-47cbac4ce372"
      },
      "outputs": [
        {
          "name": "stdout",
          "output_type": "stream",
          "text": [
            "Downloading from https://www.kaggle.com/api/v1/datasets/download/arushchillar/disneyland-reviews?dataset_version_number=1...\n"
          ]
        },
        {
          "name": "stderr",
          "output_type": "stream",
          "text": [
            "100%|██████████| 11.1M/11.1M [00:01<00:00, 7.20MB/s]"
          ]
        },
        {
          "name": "stdout",
          "output_type": "stream",
          "text": [
            "Extracting files...\n"
          ]
        },
        {
          "name": "stderr",
          "output_type": "stream",
          "text": [
            "\n"
          ]
        },
        {
          "name": "stdout",
          "output_type": "stream",
          "text": [
            "Path to dataset files: /root/.cache/kagglehub/datasets/arushchillar/disneyland-reviews/versions/1\n",
            "Download Dataset Complete\n"
          ]
        }
      ],
      "source": [
        "# Download the dataset folder in latest version\n",
        "if not \"dataset\" in os.listdir(\".\"):\n",
        "    path = kagglehub.dataset_download(\"arushchillar/disneyland-reviews\")\n",
        "    print(\"Path to dataset files:\", path)\n",
        "    shutil.move(path, \"./dataset\")\n",
        "    print(\"Download Dataset Complete\")\n",
        "else:\n",
        "    print(\"Download Dataset Already\")"
      ]
    },
    {
      "cell_type": "markdown",
      "metadata": {
        "id": "6KyZCEc7WuZi"
      },
      "source": [
        "## Prepossessing"
      ]
    },
    {
      "cell_type": "code",
      "execution_count": 4,
      "metadata": {
        "colab": {
          "base_uri": "https://localhost:8080/"
        },
        "id": "asz8mrRCWuZi",
        "outputId": "cea21af1-4535-4840-8a85-92a473c40bc6"
      },
      "outputs": [
        {
          "name": "stdout",
          "output_type": "stream",
          "text": [
            "   Review_ID  Rating Year_Month     Reviewer_Location  \\\n",
            "0  670772142       4     2019-4             Australia   \n",
            "1  670682799       4     2019-5           Philippines   \n",
            "2  670623270       4     2019-4  United Arab Emirates   \n",
            "3  670607911       4     2019-4             Australia   \n",
            "4  670607296       4     2019-4        United Kingdom   \n",
            "\n",
            "                                         Review_Text               Branch  \n",
            "0  If you've ever been to Disneyland anywhere you...  Disneyland_HongKong  \n",
            "1  Its been a while since d last time we visit HK...  Disneyland_HongKong  \n",
            "2  Thanks God it wasn   t too hot or too humid wh...  Disneyland_HongKong  \n",
            "3  HK Disneyland is a great compact park. Unfortu...  Disneyland_HongKong  \n",
            "4  the location is not in the city, took around 1...  Disneyland_HongKong  \n"
          ]
        }
      ],
      "source": [
        "file_path = \"./dataset/DisneylandReviews.csv\"\n",
        "df = pd.read_csv(file_path, encoding=\"ISO-8859-1\")\n",
        "\n",
        "print(df.head())"
      ]
    },
    {
      "cell_type": "code",
      "execution_count": 5,
      "metadata": {
        "colab": {
          "base_uri": "https://localhost:8080/"
        },
        "id": "o2kpq-WJeIHs",
        "outputId": "0e90c061-04a8-4b7f-8b60-5e68f7bdfdbe"
      },
      "outputs": [
        {
          "name": "stdout",
          "output_type": "stream",
          "text": [
            "      reviewer_location               branch  rating  \\\n",
            "0             Australia  Disneyland_HongKong       4   \n",
            "1           Philippines  Disneyland_HongKong       4   \n",
            "2  United Arab Emirates  Disneyland_HongKong       4   \n",
            "3             Australia  Disneyland_HongKong       4   \n",
            "4        United Kingdom  Disneyland_HongKong       4   \n",
            "\n",
            "                                         review_text  \n",
            "0  If you've ever been to Disneyland anywhere you...  \n",
            "1  Its been a while since d last time we visit HK...  \n",
            "2  Thanks God it wasn   t too hot or too humid wh...  \n",
            "3  HK Disneyland is a great compact park. Unfortu...  \n",
            "4  the location is not in the city, took around 1...  \n"
          ]
        }
      ],
      "source": [
        "df_selected = df[[\"Reviewer_Location\", \"Branch\", \"Rating\", \"Review_Text\"]]\n",
        "df_selected = df_selected.rename(columns=str.lower)\n",
        "print(df_selected.head())"
      ]
    },
    {
      "cell_type": "code",
      "execution_count": 6,
      "metadata": {
        "colab": {
          "base_uri": "https://localhost:8080/"
        },
        "id": "-TmtK_TIcGi8",
        "outputId": "6830b749-0d53-4073-fef4-2ab9d105d2f9"
      },
      "outputs": [
        {
          "data": {
            "text/plain": [
              "{'reviewer_location': 'Australia',\n",
              " 'branch': 'Disneyland_HongKong',\n",
              " 'rating': 4,\n",
              " 'review_text': \"If you've ever been to Disneyland anywhere you'll find Disneyland Hong Kong very similar in the layout when you walk into main street! It has a very familiar feel. One of the rides  its a Small World  is absolutely fabulous and worth doing. The day we visited was fairly hot and relatively busy but the queues moved fairly well. \"}"
            ]
          },
          "execution_count": 6,
          "metadata": {},
          "output_type": "execute_result"
        }
      ],
      "source": [
        "data_list = df_selected.to_dict(orient=\"records\")\n",
        "data_list[0]"
      ]
    },
    {
      "cell_type": "markdown",
      "metadata": {
        "id": "aEZZAiU-dNvb"
      },
      "source": [
        "### Sequence construction"
      ]
    },
    {
      "cell_type": "code",
      "execution_count": 7,
      "metadata": {
        "colab": {
          "base_uri": "https://localhost:8080/"
        },
        "id": "fET05xSadTP8",
        "outputId": "f3f005b4-b387-418f-d4db-0a719509061b"
      },
      "outputs": [
        {
          "name": "stdout",
          "output_type": "stream",
          "text": [
            "42656 recipes loaded\n",
            "Disneyland review : United States : Disneyland_HongKong : 5 : Disneyland never cease to amaze me! I've been to Disneyland florida and I thought I have exhausted the kid in me but nope! I still had so much fun in disneyland hong kong. 2 DL off my bucketlist and more to come!     \n"
          ]
        }
      ],
      "source": [
        "filtered_data = [\n",
        "    \"Disneyland review : \"\n",
        "    + x[\"reviewer_location\"]\n",
        "    + \" : \"\n",
        "    + x[\"branch\"]\n",
        "    + \" : \"\n",
        "    + str(x[\"rating\"])\n",
        "    + \" : \"\n",
        "    + x[\"review_text\"]\n",
        "\n",
        "    for x in data_list\n",
        "    if x[\"reviewer_location\"] is not None\n",
        "    and x[\"branch\"] is not None\n",
        "    and x[\"rating\"] is not None\n",
        "    and x[\"review_text\"] is not None\n",
        "]\n",
        "\n",
        "n_data = len(filtered_data)\n",
        "print(f\"{n_data} recipes loaded\")\n",
        "\n",
        "example = filtered_data[10]\n",
        "print(example)"
      ]
    },
    {
      "cell_type": "markdown",
      "metadata": {
        "id": "sjC6LOBohl6q"
      },
      "source": [
        "### Tokenization"
      ]
    },
    {
      "cell_type": "code",
      "execution_count": 8,
      "metadata": {
        "colab": {
          "base_uri": "https://localhost:8080/",
          "height": 54
        },
        "id": "8ObIm4LRhj3T",
        "outputId": "d683f26b-756a-45c4-a6d4-8d3a711675b1"
      },
      "outputs": [
        {
          "data": {
            "application/vnd.google.colaboratory.intrinsic+json": {
              "type": "string"
            },
            "text/plain": [
              "\"Disneyland review : United States : Disneyland_HongKong : 5 : Disneyland never cease to amaze me ! I've been to Disneyland florida and I thought I have exhausted the kid in me but nope ! I still had so much fun in disneyland hong kong . 2 DL off my bucketlist and more to come ! \""
            ]
          },
          "execution_count": 8,
          "metadata": {},
          "output_type": "execute_result"
        }
      ],
      "source": [
        "import re\n",
        "import string\n",
        "\n",
        "def pad_punctuation(s):\n",
        "    s = re.sub(r\"([^\\w\\s'-])\", r\" \\1 \", s) # ไม่แยก _ , -\n",
        "    s = re.sub(\" +\", \" \", s)\n",
        "    return s\n",
        "\n",
        "text_data = [pad_punctuation(x) for x in filtered_data]\n",
        "\n",
        "example_data = text_data[10]\n",
        "example_data"
      ]
    },
    {
      "cell_type": "code",
      "execution_count": 9,
      "metadata": {
        "colab": {
          "base_uri": "https://localhost:8080/"
        },
        "id": "HB0UxOi-jtiK",
        "outputId": "36fa9fe0-aa6d-4d56-b048-8981005fabc4"
      },
      "outputs": [
        {
          "name": "stdout",
          "output_type": "stream",
          "text": [
            "0: \n",
            "1: [UNK]\n",
            "2: .\n",
            "3: the\n",
            "4: :\n",
            "5: and\n",
            "6: ,\n",
            "7: to\n",
            "8: a\n",
            "9: of\n"
          ]
        }
      ],
      "source": [
        "import tensorflow as tf\n",
        "from tensorflow.keras import layers\n",
        "\n",
        "BATCH_SIZE = 64 \n",
        "VOCAB_SIZE = 20000 \n",
        "MAX_LEN = 80 \n",
        "\n",
        "text_ds = tf.data.Dataset.from_tensor_slices(text_data)\n",
        "text_ds = text_ds.batch(BATCH_SIZE)\n",
        "text_ds = text_ds.shuffle(1000)\n",
        "\n",
        "\n",
        "vectorize_layer = layers.TextVectorization( \n",
        "    standardize=\"lower\", \n",
        "    max_tokens=VOCAB_SIZE,\n",
        "    output_mode=\"int\",\n",
        "    output_sequence_length=MAX_LEN + 1,\n",
        ")\n",
        "\n",
        "vectorize_layer.adapt(text_ds)\n",
        "vocab = vectorize_layer.get_vocabulary()\n",
        "\n",
        "for i, word in enumerate(vocab[:10]):\n",
        "    print(f\"{i}: {word}\")"
      ]
    },
    {
      "cell_type": "code",
      "execution_count": 10,
      "metadata": {
        "colab": {
          "base_uri": "https://localhost:8080/"
        },
        "id": "vpoG-W8Uk8L3",
        "outputId": "ee53ea0b-315d-4994-c6c5-29716f99dc4c"
      },
      "outputs": [
        {
          "name": "stdout",
          "output_type": "stream",
          "text": [
            "[   14    22     4    45    64     4   104     4    39     4    14   195\n",
            " 14792     7  4191   158    19   426    91     7    14   246     5    17\n",
            "   349    17    34  1631     3   431    11   158    21  4345    19    17\n",
            "   125    44    35    89    98    11    14   234   235     2    80  1006\n",
            "   205    42     1     5    68     7   221    19     0     0     0     0\n",
            "     0     0     0     0     0     0     0     0     0     0     0     0\n",
            "     0     0     0     0     0     0     0     0     0]\n"
          ]
        }
      ],
      "source": [
        "example_tokenised = vectorize_layer(example_data)\n",
        "print(example_tokenised.numpy())"
      ]
    },
    {
      "cell_type": "markdown",
      "metadata": {
        "id": "AfTCL9Bhk-9u"
      },
      "source": [
        "### Training set"
      ]
    },
    {
      "cell_type": "code",
      "execution_count": 11,
      "metadata": {
        "colab": {
          "base_uri": "https://localhost:8080/"
        },
        "id": "wAEmiBW4lC8v",
        "outputId": "3d02cdde-5201-4f4c-ec0f-4f8033d0785f"
      },
      "outputs": [
        {
          "data": {
            "text/plain": [
              "<tf.Tensor: shape=(80,), dtype=int64, numpy=\n",
              "array([  14,   22,    4, 5472,    4,  104,    4,   76,    4,   30,  234,\n",
              "        235,   12,  118, 1559,   42,  855,    2,   52,   95,  153,   67,\n",
              "         51,   86,    7,   75,  161,   80,  186,  208,   38,   19,   19,\n",
              "         52,  518,   13,   69,   19,   19, 1464, 1070,   27,   52,  720,\n",
              "         11,    3,   20,   29,   95,  153,  145,   19,   19,    0,    0,\n",
              "          0,    0,    0,    0,    0,    0,    0,    0,    0,    0,    0,\n",
              "          0,    0,    0,    0,    0,    0,    0,    0,    0,    0,    0,\n",
              "          0,    0,    0])>"
            ]
          },
          "execution_count": 11,
          "metadata": {},
          "output_type": "execute_result"
        }
      ],
      "source": [
        "def prepare_inputs(text):\n",
        "    text = tf.expand_dims(text, -1)\n",
        "    tokenized_sentences = vectorize_layer(text)\n",
        "    x = tokenized_sentences[:, :-1]\n",
        "    y = tokenized_sentences[:, 1:]\n",
        "    return x, y\n",
        "\n",
        "train_ds = text_ds.map(prepare_inputs)\n",
        "example_input_output = train_ds.take(1).get_single_element()\n",
        "\n",
        "example_input_output[0][0]"
      ]
    },
    {
      "cell_type": "code",
      "execution_count": 12,
      "metadata": {
        "colab": {
          "base_uri": "https://localhost:8080/"
        },
        "id": "2QjmJ4trlFSX",
        "outputId": "a37059dd-cab1-4bc2-b731-10b9a09c6f38"
      },
      "outputs": [
        {
          "data": {
            "text/plain": [
              "<tf.Tensor: shape=(80,), dtype=int64, numpy=\n",
              "array([  22,    4, 5472,    4,  104,    4,   76,    4,   30,  234,  235,\n",
              "         12,  118, 1559,   42,  855,    2,   52,   95,  153,   67,   51,\n",
              "         86,    7,   75,  161,   80,  186,  208,   38,   19,   19,   52,\n",
              "        518,   13,   69,   19,   19, 1464, 1070,   27,   52,  720,   11,\n",
              "          3,   20,   29,   95,  153,  145,   19,   19,    0,    0,    0,\n",
              "          0,    0,    0,    0,    0,    0,    0,    0,    0,    0,    0,\n",
              "          0,    0,    0,    0,    0,    0,    0,    0,    0,    0,    0,\n",
              "          0,    0,    0])>"
            ]
          },
          "execution_count": 12,
          "metadata": {},
          "output_type": "execute_result"
        }
      ],
      "source": [
        "example_input_output[1][0]"
      ]
    },
    {
      "cell_type": "markdown",
      "metadata": {
        "id": "UsqF56p7qm3b"
      },
      "source": [
        "### Casual masking"
      ]
    },
    {
      "cell_type": "code",
      "execution_count": 13,
      "metadata": {
        "colab": {
          "base_uri": "https://localhost:8080/"
        },
        "id": "m6HcZz0wqvA2",
        "outputId": "a2ecbd20-62eb-4137-d594-c760a130200a"
      },
      "outputs": [
        {
          "data": {
            "text/plain": [
              "array([[1, 1, 1, 1, 1, 1, 1, 1, 1, 1],\n",
              "       [0, 1, 1, 1, 1, 1, 1, 1, 1, 1],\n",
              "       [0, 0, 1, 1, 1, 1, 1, 1, 1, 1],\n",
              "       [0, 0, 0, 1, 1, 1, 1, 1, 1, 1],\n",
              "       [0, 0, 0, 0, 1, 1, 1, 1, 1, 1],\n",
              "       [0, 0, 0, 0, 0, 1, 1, 1, 1, 1],\n",
              "       [0, 0, 0, 0, 0, 0, 1, 1, 1, 1],\n",
              "       [0, 0, 0, 0, 0, 0, 0, 1, 1, 1],\n",
              "       [0, 0, 0, 0, 0, 0, 0, 0, 1, 1],\n",
              "       [0, 0, 0, 0, 0, 0, 0, 0, 0, 1]], dtype=int32)"
            ]
          },
          "execution_count": 13,
          "metadata": {},
          "output_type": "execute_result"
        }
      ],
      "source": [
        "import numpy as np\n",
        "\n",
        "def causal_attention_mask(batch_size, n_dest, n_src, dtype):\n",
        "    i = tf.range(n_dest)[:, None]\n",
        "    j = tf.range(n_src)\n",
        "    m = i >= j - n_src + n_dest\n",
        "    mask = tf.cast(m, dtype)\n",
        "    mask = tf.reshape(mask, [1, n_dest, n_src])\n",
        "    mult = tf.concat([tf.expand_dims(batch_size, -1), tf.constant([1, 1], dtype=tf.int32)], 0)\n",
        "    return tf.tile(mask, mult)\n",
        "\n",
        "np.transpose(causal_attention_mask(1, 10, 10, dtype=tf.int32)[0])"
      ]
    },
    {
      "cell_type": "markdown",
      "metadata": {
        "id": "vrkeTsXEWuZi"
      },
      "source": [
        "## Create Model"
      ]
    },
    {
      "cell_type": "code",
      "execution_count": 14,
      "metadata": {
        "id": "YYPvDmZEWuZi"
      },
      "outputs": [],
      "source": [
        "# code to create model\n",
        "class TransformerBlock(layers.Layer):\n",
        "    def __init__(self, num_heads, key_dim, embed_dim, ff_dim, dropout_rate=0.1):\n",
        "        super(TransformerBlock, self).__init__()\n",
        "        self.num_heads = num_heads\n",
        "        self.key_dim = key_dim\n",
        "        self.embed_dim = embed_dim\n",
        "        self.ff_dim = ff_dim\n",
        "        self.dropout_rate = dropout_rate\n",
        "        self.attn = layers.MultiHeadAttention(num_heads, key_dim, output_shape=embed_dim)\n",
        "        self.dropout_1 = layers.Dropout(self.dropout_rate)\n",
        "        self.ln_1 = layers.LayerNormalization(epsilon=1e-6)\n",
        "        self.ffn_1 = layers.Dense(self.ff_dim, activation=\"relu\")\n",
        "        self.ffn_2 = layers.Dense(self.embed_dim)\n",
        "        self.dropout_2 = layers.Dropout(self.dropout_rate)\n",
        "        self.ln_2 = layers.LayerNormalization(epsilon=1e-6)\n",
        "\n",
        "    def call(self, inputs):\n",
        "        input_shape = tf.shape(inputs)\n",
        "        batch_size = input_shape[0]\n",
        "        seq_len = input_shape[1]\n",
        "        causal_mask = causal_attention_mask(batch_size, seq_len, seq_len, tf.bool)\n",
        "        attention_output, attention_scores = self.attn(inputs, inputs, attention_mask=causal_mask, return_attention_scores=True)\n",
        "        attention_output = self.dropout_1(attention_output)\n",
        "        out1 = self.ln_1(inputs + attention_output)\n",
        "        ffn_1 = self.ffn_1(out1)\n",
        "        ffn_2 = self.ffn_2(ffn_1)\n",
        "        ffn_output = self.dropout_2(ffn_2)\n",
        "        return (self.ln_2(out1 + ffn_output), attention_scores)\n",
        "\n",
        "    def get_config(self):\n",
        "        config = super().get_config()\n",
        "        config.update(\n",
        "            {\n",
        "                \"key_dim\": self.key_dim,\n",
        "                \"embed_dim\": self.embed_dim,\n",
        "                \"num_heads\": self.num_heads,\n",
        "                \"ff_dim\": self.ff_dim,\n",
        "                \"dropout_rate\": self.dropout_rate,\n",
        "            }\n",
        "        )\n",
        "        return config"
      ]
    },
    {
      "cell_type": "code",
      "execution_count": 15,
      "metadata": {
        "id": "n4fhkcjN4Uhy"
      },
      "outputs": [],
      "source": [
        "class TokenAndPositionEmbedding(layers.Layer):\n",
        "    def __init__(self, max_len, vocab_size, embed_dim):\n",
        "        super(TokenAndPositionEmbedding, self).__init__()\n",
        "        self.max_len = max_len\n",
        "        self.vocab_size = vocab_size\n",
        "        self.embed_dim = embed_dim\n",
        "        self.token_emb = layers.Embedding(input_dim=vocab_size, output_dim=embed_dim)\n",
        "        self.pos_emb = layers.Embedding(input_dim=max_len, output_dim=embed_dim) # GPT-style\n",
        "\n",
        "    def call(self, x):\n",
        "        maxlen = tf.shape(x)[-1]\n",
        "        positions = tf.range(start=0, limit=maxlen, delta=1)\n",
        "        positions = self.pos_emb(positions)\n",
        "        x = self.token_emb(x)\n",
        "        return x + positions\n",
        "\n",
        "    def get_config(self):\n",
        "        config = super().get_config()\n",
        "        config.update(\n",
        "            {\n",
        "                \"max_len\": self.max_len,\n",
        "                \"vocab_size\": self.vocab_size,\n",
        "                \"embed_dim\": self.embed_dim,\n",
        "            }\n",
        "        )\n",
        "        return config"
      ]
    },
    {
      "cell_type": "code",
      "execution_count": 16,
      "metadata": {
        "colab": {
          "base_uri": "https://localhost:8080/",
          "height": 289
        },
        "id": "2VYWPb9X4Uhz",
        "outputId": "bb3c4acc-3f9d-427b-cbd6-ec7c9391226b"
      },
      "outputs": [
        {
          "data": {
            "text/html": [
              "<pre style=\"white-space:pre;overflow-x:auto;line-height:normal;font-family:Menlo,'DejaVu Sans Mono',consolas,'Courier New',monospace\"><span style=\"font-weight: bold\">Model: \"functional\"</span>\n",
              "</pre>\n"
            ],
            "text/plain": [
              "\u001b[1mModel: \"functional\"\u001b[0m\n"
            ]
          },
          "metadata": {},
          "output_type": "display_data"
        },
        {
          "data": {
            "text/html": [
              "<pre style=\"white-space:pre;overflow-x:auto;line-height:normal;font-family:Menlo,'DejaVu Sans Mono',consolas,'Courier New',monospace\">┏━━━━━━━━━━━━━━━━━━━━━━━━━━━━━━━━━━━━━━┳━━━━━━━━━━━━━━━━━━━━━━━━━━━━━┳━━━━━━━━━━━━━━━━━┓\n",
              "┃<span style=\"font-weight: bold\"> Layer (type)                         </span>┃<span style=\"font-weight: bold\"> Output Shape                </span>┃<span style=\"font-weight: bold\">         Param # </span>┃\n",
              "┡━━━━━━━━━━━━━━━━━━━━━━━━━━━━━━━━━━━━━━╇━━━━━━━━━━━━━━━━━━━━━━━━━━━━━╇━━━━━━━━━━━━━━━━━┩\n",
              "│ input_layer (<span style=\"color: #0087ff; text-decoration-color: #0087ff\">InputLayer</span>)             │ (<span style=\"color: #00d7ff; text-decoration-color: #00d7ff\">None</span>, <span style=\"color: #00d7ff; text-decoration-color: #00d7ff\">None</span>)                │               <span style=\"color: #00af00; text-decoration-color: #00af00\">0</span> │\n",
              "├──────────────────────────────────────┼─────────────────────────────┼─────────────────┤\n",
              "│ token_and_position_embedding         │ (<span style=\"color: #00d7ff; text-decoration-color: #00d7ff\">None</span>, <span style=\"color: #00d7ff; text-decoration-color: #00d7ff\">None</span>, <span style=\"color: #00af00; text-decoration-color: #00af00\">256</span>)           │       <span style=\"color: #00af00; text-decoration-color: #00af00\">5,140,480</span> │\n",
              "│ (<span style=\"color: #0087ff; text-decoration-color: #0087ff\">TokenAndPositionEmbedding</span>)          │                             │                 │\n",
              "├──────────────────────────────────────┼─────────────────────────────┼─────────────────┤\n",
              "│ transformer_block (<span style=\"color: #0087ff; text-decoration-color: #0087ff\">TransformerBlock</span>) │ [(<span style=\"color: #00d7ff; text-decoration-color: #00d7ff\">None</span>, <span style=\"color: #00d7ff; text-decoration-color: #00d7ff\">None</span>, <span style=\"color: #00af00; text-decoration-color: #00af00\">256</span>), (<span style=\"color: #00d7ff; text-decoration-color: #00d7ff\">None</span>,  │         <span style=\"color: #00af00; text-decoration-color: #00af00\">658,688</span> │\n",
              "│                                      │ <span style=\"color: #00af00; text-decoration-color: #00af00\">2</span>, <span style=\"color: #00d7ff; text-decoration-color: #00d7ff\">None</span>, <span style=\"color: #00d7ff; text-decoration-color: #00d7ff\">None</span>)]             │                 │\n",
              "├──────────────────────────────────────┼─────────────────────────────┼─────────────────┤\n",
              "│ dense_2 (<span style=\"color: #0087ff; text-decoration-color: #0087ff\">Dense</span>)                      │ (<span style=\"color: #00d7ff; text-decoration-color: #00d7ff\">None</span>, <span style=\"color: #00d7ff; text-decoration-color: #00d7ff\">None</span>, <span style=\"color: #00af00; text-decoration-color: #00af00\">20000</span>)         │       <span style=\"color: #00af00; text-decoration-color: #00af00\">5,140,000</span> │\n",
              "└──────────────────────────────────────┴─────────────────────────────┴─────────────────┘\n",
              "</pre>\n"
            ],
            "text/plain": [
              "┏━━━━━━━━━━━━━━━━━━━━━━━━━━━━━━━━━━━━━━┳━━━━━━━━━━━━━━━━━━━━━━━━━━━━━┳━━━━━━━━━━━━━━━━━┓\n",
              "┃\u001b[1m \u001b[0m\u001b[1mLayer (type)                        \u001b[0m\u001b[1m \u001b[0m┃\u001b[1m \u001b[0m\u001b[1mOutput Shape               \u001b[0m\u001b[1m \u001b[0m┃\u001b[1m \u001b[0m\u001b[1m        Param #\u001b[0m\u001b[1m \u001b[0m┃\n",
              "┡━━━━━━━━━━━━━━━━━━━━━━━━━━━━━━━━━━━━━━╇━━━━━━━━━━━━━━━━━━━━━━━━━━━━━╇━━━━━━━━━━━━━━━━━┩\n",
              "│ input_layer (\u001b[38;5;33mInputLayer\u001b[0m)             │ (\u001b[38;5;45mNone\u001b[0m, \u001b[38;5;45mNone\u001b[0m)                │               \u001b[38;5;34m0\u001b[0m │\n",
              "├──────────────────────────────────────┼─────────────────────────────┼─────────────────┤\n",
              "│ token_and_position_embedding         │ (\u001b[38;5;45mNone\u001b[0m, \u001b[38;5;45mNone\u001b[0m, \u001b[38;5;34m256\u001b[0m)           │       \u001b[38;5;34m5,140,480\u001b[0m │\n",
              "│ (\u001b[38;5;33mTokenAndPositionEmbedding\u001b[0m)          │                             │                 │\n",
              "├──────────────────────────────────────┼─────────────────────────────┼─────────────────┤\n",
              "│ transformer_block (\u001b[38;5;33mTransformerBlock\u001b[0m) │ [(\u001b[38;5;45mNone\u001b[0m, \u001b[38;5;45mNone\u001b[0m, \u001b[38;5;34m256\u001b[0m), (\u001b[38;5;45mNone\u001b[0m,  │         \u001b[38;5;34m658,688\u001b[0m │\n",
              "│                                      │ \u001b[38;5;34m2\u001b[0m, \u001b[38;5;45mNone\u001b[0m, \u001b[38;5;45mNone\u001b[0m)]             │                 │\n",
              "├──────────────────────────────────────┼─────────────────────────────┼─────────────────┤\n",
              "│ dense_2 (\u001b[38;5;33mDense\u001b[0m)                      │ (\u001b[38;5;45mNone\u001b[0m, \u001b[38;5;45mNone\u001b[0m, \u001b[38;5;34m20000\u001b[0m)         │       \u001b[38;5;34m5,140,000\u001b[0m │\n",
              "└──────────────────────────────────────┴─────────────────────────────┴─────────────────┘\n"
            ]
          },
          "metadata": {},
          "output_type": "display_data"
        },
        {
          "data": {
            "text/html": [
              "<pre style=\"white-space:pre;overflow-x:auto;line-height:normal;font-family:Menlo,'DejaVu Sans Mono',consolas,'Courier New',monospace\"><span style=\"font-weight: bold\"> Total params: </span><span style=\"color: #00af00; text-decoration-color: #00af00\">10,939,168</span> (41.73 MB)\n",
              "</pre>\n"
            ],
            "text/plain": [
              "\u001b[1m Total params: \u001b[0m\u001b[38;5;34m10,939,168\u001b[0m (41.73 MB)\n"
            ]
          },
          "metadata": {},
          "output_type": "display_data"
        },
        {
          "data": {
            "text/html": [
              "<pre style=\"white-space:pre;overflow-x:auto;line-height:normal;font-family:Menlo,'DejaVu Sans Mono',consolas,'Courier New',monospace\"><span style=\"font-weight: bold\"> Trainable params: </span><span style=\"color: #00af00; text-decoration-color: #00af00\">10,939,168</span> (41.73 MB)\n",
              "</pre>\n"
            ],
            "text/plain": [
              "\u001b[1m Trainable params: \u001b[0m\u001b[38;5;34m10,939,168\u001b[0m (41.73 MB)\n"
            ]
          },
          "metadata": {},
          "output_type": "display_data"
        },
        {
          "data": {
            "text/html": [
              "<pre style=\"white-space:pre;overflow-x:auto;line-height:normal;font-family:Menlo,'DejaVu Sans Mono',consolas,'Courier New',monospace\"><span style=\"font-weight: bold\"> Non-trainable params: </span><span style=\"color: #00af00; text-decoration-color: #00af00\">0</span> (0.00 B)\n",
              "</pre>\n"
            ],
            "text/plain": [
              "\u001b[1m Non-trainable params: \u001b[0m\u001b[38;5;34m0\u001b[0m (0.00 B)\n"
            ]
          },
          "metadata": {},
          "output_type": "display_data"
        }
      ],
      "source": [
        "from tensorflow.keras import models, losses\n",
        "\n",
        "EMBEDDING_DIM = 256\n",
        "KEY_DIM = 256\n",
        "N_HEADS = 2\n",
        "FEED_FORWARD_DIM = 256\n",
        "\n",
        "inputs = layers.Input(shape=(None,), dtype=tf.int32)\n",
        "x = TokenAndPositionEmbedding(MAX_LEN, VOCAB_SIZE, EMBEDDING_DIM)(inputs)\n",
        "x, attention_scores = TransformerBlock(N_HEADS, KEY_DIM, EMBEDDING_DIM, FEED_FORWARD_DIM)(x)\n",
        "outputs = layers.Dense(VOCAB_SIZE, activation=\"softmax\")(x)\n",
        "gpt = models.Model(inputs=inputs, outputs=[outputs, attention_scores])\n",
        "gpt.compile(\"adam\", loss=[losses.SparseCategoricalCrossentropy(), None])\n",
        "gpt.summary()"
      ]
    },
    {
      "cell_type": "code",
      "execution_count": 17,
      "metadata": {
        "colab": {
          "base_uri": "https://localhost:8080/"
        },
        "id": "edicFeWw4Uhz",
        "outputId": "d75a43ca-3e5e-4aa8-8582-bc6b6ea6136c"
      },
      "outputs": [
        {
          "name": "stdout",
          "output_type": "stream",
          "text": [
            "Epoch 1/10\n",
            "\u001b[1m667/667\u001b[0m \u001b[32m━━━━━━━━━━━━━━━━━━━━\u001b[0m\u001b[37m\u001b[0m \u001b[1m0s\u001b[0m 79ms/step - loss: 4.3628\n",
            "generated text:\n",
            "Disneyland review : philippines : disneyland_hongkong : 1 : this place is with family holiday unprofessional & [UNK] me this place to get your seasons . discoveryland rides are great way to walk around to the corner , but the ignorant people working there were many of daily . and it seemed upgraded . i attract more than less expensive but or q is long . 2 adults can be back by having 6 and disney helpful . . luckily\n",
            "\n",
            "\u001b[1m667/667\u001b[0m \u001b[32m━━━━━━━━━━━━━━━━━━━━\u001b[0m\u001b[37m\u001b[0m \u001b[1m158s\u001b[0m 218ms/step - loss: 4.3618\n",
            "Epoch 2/10\n",
            "\u001b[1m667/667\u001b[0m \u001b[32m━━━━━━━━━━━━━━━━━━━━\u001b[0m\u001b[37m\u001b[0m \u001b[1m0s\u001b[0m 74ms/step - loss: 3.1186\n",
            "generated text:\n",
            "Disneyland review : malaysia : disneyland_hongkong : 5 : a fun park . many mainlanders must see . recommend a young day image if you think the waiting time to save your skip the whole lot of public transport . fire works on the mtr takes your near to the different locations . it is clean and efficient to busy . no queues at the park opens as the park is [UNK] that you will get to pay us .\n",
            "\n",
            "\u001b[1m667/667\u001b[0m \u001b[32m━━━━━━━━━━━━━━━━━━━━\u001b[0m\u001b[37m\u001b[0m \u001b[1m55s\u001b[0m 82ms/step - loss: 3.1186\n",
            "Epoch 3/10\n",
            "\u001b[1m667/667\u001b[0m \u001b[32m━━━━━━━━━━━━━━━━━━━━\u001b[0m\u001b[37m\u001b[0m \u001b[1m0s\u001b[0m 73ms/step - loss: 2.9447\n",
            "generated text:\n",
            "Disneyland review : united kingdom : disneyland_paris : 4 : gave money to spend 2 days at disneyland . disney paris is what you can imagine you would expect in massive queue queues and the rides have less than 2 hours before arriving in before i used so used some rides to queue as fast to of space it in toy story land is enjoyable . staff [UNK] buffet restaurant has almost up to french people through bag storage and\n",
            "\n",
            "\u001b[1m667/667\u001b[0m \u001b[32m━━━━━━━━━━━━━━━━━━━━\u001b[0m\u001b[37m\u001b[0m \u001b[1m54s\u001b[0m 81ms/step - loss: 2.9447\n",
            "Epoch 4/10\n",
            "\u001b[1m667/667\u001b[0m \u001b[32m━━━━━━━━━━━━━━━━━━━━\u001b[0m\u001b[37m\u001b[0m \u001b[1m0s\u001b[0m 73ms/step - loss: 2.8377\n",
            "generated text:\n",
            "Disneyland review : united kingdom : disneyland_paris : 5 : i booked this trip with my first visit to paris , as a purpose of tips to make reservations . 1 day for the queuing , at all is a mexican restaurant by the park is clean and well maintained . the staff are helpful , service staff are very friendly and care served off the cleanliness and no near as clearing elsewhere . need one time prefer visits to\n",
            "\n",
            "\u001b[1m667/667\u001b[0m \u001b[32m━━━━━━━━━━━━━━━━━━━━\u001b[0m\u001b[37m\u001b[0m \u001b[1m55s\u001b[0m 83ms/step - loss: 2.8377\n",
            "Epoch 5/10\n",
            "\u001b[1m667/667\u001b[0m \u001b[32m━━━━━━━━━━━━━━━━━━━━\u001b[0m\u001b[37m\u001b[0m \u001b[1m0s\u001b[0m 73ms/step - loss: 2.7554\n",
            "generated text:\n",
            "Disneyland review : united states : disneyland_california : 5 : took my 4 year old nephew to disneyland . my disneyland was outgrow his visits . the rides however , the big attractions were order that we couldn't believe that the night time of peter pan . the crowds smelt just to maneuver through . thursday was for the onwards . for nearly 2 children 4 on the dot service and the parks just a lot of people everywhere .\n",
            "\n",
            "\u001b[1m667/667\u001b[0m \u001b[32m━━━━━━━━━━━━━━━━━━━━\u001b[0m\u001b[37m\u001b[0m \u001b[1m54s\u001b[0m 81ms/step - loss: 2.7555\n",
            "Epoch 6/10\n",
            "\u001b[1m667/667\u001b[0m \u001b[32m━━━━━━━━━━━━━━━━━━━━\u001b[0m\u001b[37m\u001b[0m \u001b[1m0s\u001b[0m 73ms/step - loss: 2.6846\n",
            "generated text:\n",
            "Disneyland review : morocco : disneyland_paris : 3 : i havent been to the florida park at least previously . they are with our grandchildren , the disney princesses [UNK] in paris , this park is not just a standard standard room . we did find that on site , but was worth a waste of time in paris we stay in the disneyland resort . the review of course much smaller than the florida parks there . i also\n",
            "\n",
            "\u001b[1m667/667\u001b[0m \u001b[32m━━━━━━━━━━━━━━━━━━━━\u001b[0m\u001b[37m\u001b[0m \u001b[1m55s\u001b[0m 83ms/step - loss: 2.6846\n",
            "Epoch 7/10\n",
            "\u001b[1m667/667\u001b[0m \u001b[32m━━━━━━━━━━━━━━━━━━━━\u001b[0m\u001b[37m\u001b[0m \u001b[1m0s\u001b[0m 74ms/step - loss: 2.6319\n",
            "generated text:\n",
            "Disneyland review : united kingdom : disneyland_hongkong : 5 : we travelled as a family of three in feb half term time and we were no children at all , my family on trip we employ , clean clean , bright , friendly , and very memorable time ! fun visit was expecting minimal food , a souvenir at least a bit pricey , and food is also terrific . highly recommend mint juleps . the parades and fantasmic night\n",
            "\n",
            "\u001b[1m667/667\u001b[0m \u001b[32m━━━━━━━━━━━━━━━━━━━━\u001b[0m\u001b[37m\u001b[0m \u001b[1m55s\u001b[0m 82ms/step - loss: 2.6319\n",
            "Epoch 8/10\n",
            "\u001b[1m667/667\u001b[0m \u001b[32m━━━━━━━━━━━━━━━━━━━━\u001b[0m\u001b[37m\u001b[0m \u001b[1m0s\u001b[0m 73ms/step - loss: 2.5890\n",
            "generated text:\n",
            "Disneyland review : united states : disneyland_california : 5 : we had a great time at disneyland , [UNK] hotel was within the day however i recommend getting the special badges and when mainstreet usa . you definitely go during the school holidays . \n",
            "\n",
            "\u001b[1m667/667\u001b[0m \u001b[32m━━━━━━━━━━━━━━━━━━━━\u001b[0m\u001b[37m\u001b[0m \u001b[1m52s\u001b[0m 77ms/step - loss: 2.5890\n",
            "Epoch 9/10\n",
            "\u001b[1m667/667\u001b[0m \u001b[32m━━━━━━━━━━━━━━━━━━━━\u001b[0m\u001b[37m\u001b[0m \u001b[1m0s\u001b[0m 73ms/step - loss: 2.5433\n",
            "generated text:\n",
            "Disneyland review : indonesia : disneyland_hongkong : 5 : 1 when you enter the park than 10 apr you will not go to the park in us . one way , mystic point and offer the queues . i was very short it was not weekends . this park may not change the visitors . i still have to visit disney land on this by what a sub slow period . suffice . dining in the park was so crowded\n",
            "\n",
            "\u001b[1m667/667\u001b[0m \u001b[32m━━━━━━━━━━━━━━━━━━━━\u001b[0m\u001b[37m\u001b[0m \u001b[1m55s\u001b[0m 83ms/step - loss: 2.5434\n",
            "Epoch 10/10\n",
            "\u001b[1m667/667\u001b[0m \u001b[32m━━━━━━━━━━━━━━━━━━━━\u001b[0m\u001b[37m\u001b[0m \u001b[1m0s\u001b[0m 74ms/step - loss: 2.5093\n",
            "generated text:\n",
            "Disneyland review pre [UNK] islands [UNK] islands to : disneyland_paris : cars land , the first thing in a our with our 5 [UNK] girl min wait and a fast pass for those to track . our 4 y o son that was [UNK] old and [UNK] . this was small . we bought [UNK] got into the parks on the [UNK] your favourite rides as early as possible entry as no wait , for a few things later ,\n",
            "\n",
            "\u001b[1m667/667\u001b[0m \u001b[32m━━━━━━━━━━━━━━━━━━━━\u001b[0m\u001b[37m\u001b[0m \u001b[1m57s\u001b[0m 86ms/step - loss: 2.5093\n"
          ]
        },
        {
          "data": {
            "text/plain": [
              "<keras.src.callbacks.history.History at 0x7e8d8be2f9d0>"
            ]
          },
          "execution_count": 17,
          "metadata": {},
          "output_type": "execute_result"
        }
      ],
      "source": [
        "from tensorflow.keras import callbacks\n",
        "\n",
        "class TextGenerator(callbacks.Callback):\n",
        "    def __init__(self, index_to_word, top_k=10):\n",
        "        self.index_to_word = index_to_word\n",
        "        self.word_to_index = {word: index for index, word in enumerate(index_to_word)}\n",
        "\n",
        "    def sample_from(self, probs, temperature):\n",
        "        probs = probs ** (1 / temperature)\n",
        "        probs = probs / np.sum(probs)\n",
        "        return np.random.choice(len(probs), p=probs), probs # weighted random\n",
        "\n",
        "    def generate(self, start_prompt, max_tokens, temperature):\n",
        "        start_tokens = [self.word_to_index.get(x, 1) for x in start_prompt.split()]\n",
        "        sample_token = None\n",
        "        info = []\n",
        "\n",
        "        while len(start_tokens) < max_tokens and sample_token != 0:\n",
        "            x = np.array([start_tokens])\n",
        "            y, att = self.model.predict(x, verbose=0)\n",
        "            sample_token, probs = self.sample_from(y[0][-1], temperature)\n",
        "            info.append(\n",
        "                {\n",
        "                    \"prompt\": start_prompt,\n",
        "                    \"word_probs\": probs,\n",
        "                    \"atts\": att[0, :, -1, :],\n",
        "                }\n",
        "            )\n",
        "\n",
        "            start_tokens.append(sample_token)\n",
        "            start_prompt = start_prompt + \" \" + self.index_to_word[sample_token]\n",
        "\n",
        "        print(f\"\\ngenerated text:\\n{start_prompt}\\n\")\n",
        "        return info\n",
        "\n",
        "    def on_epoch_end(self, epoch, logs=None):\n",
        "        self.generate(\"Disneyland review\", max_tokens=80, temperature=1.0)\n",
        "\n",
        "text_generator = TextGenerator(vocab)\n",
        "\n",
        "EPOCHS = 10 # 🤔\n",
        "\n",
        "gpt.fit(\n",
        "    train_ds,\n",
        "    epochs=EPOCHS,\n",
        "    callbacks=[text_generator],\n",
        ")"
      ]
    },
    {
      "cell_type": "markdown",
      "metadata": {
        "id": "KPJIoz9uWuZi"
      },
      "source": [
        "## Visualization"
      ]
    },
    {
      "cell_type": "code",
      "execution_count": 23,
      "metadata": {
        "colab": {
          "base_uri": "https://localhost:8080/"
        },
        "id": "w00qy-lDWuZi",
        "outputId": "01d7a4e3-b01f-4e93-c1c1-3610a1624e66"
      },
      "outputs": [
        {
          "name": "stdout",
          "output_type": "stream",
          "text": [
            "\n",
            "generated text:\n",
            "Disneyland review : United States : Disneyland_HongKong islands : i was made a chore to make the whole day at the opportunity to get , i love the starwars [UNK] , it is a dream for my family or solo company ! ! \n",
            "\n"
          ]
        }
      ],
      "source": [
        "from IPython.display import HTML\n",
        "\n",
        "def print_probs(info, vocab, top_k=5):\n",
        "    for i in info:\n",
        "        highlighted_text = []\n",
        "        for word, att_score in zip(i[\"prompt\"].split(), np.mean(i[\"atts\"], axis=0)):\n",
        "            highlighted_text.append(\n",
        "                '<span style=\"background-color:rgba(135,206,250,'\n",
        "                + str(att_score / max(np.mean(i[\"atts\"], axis=0)))\n",
        "                + ');\">'\n",
        "                + word\n",
        "                + \"</span>\"\n",
        "            )\n",
        "\n",
        "        highlighted_text = \" \".join(highlighted_text)\n",
        "        display(HTML(highlighted_text))\n",
        "\n",
        "        word_probs = i[\"word_probs\"]\n",
        "        p_sorted = np.sort(word_probs)[::-1][:top_k]\n",
        "        i_sorted = np.argsort(word_probs)[::-1][:top_k]\n",
        "\n",
        "        for p, i in zip(p_sorted, i_sorted):\n",
        "            print(f\"{vocab[i]}:   \\t{np.round(100*p,2)}%\")\n",
        "        print(\"--------\\n\")\n",
        "\n",
        "info = text_generator.generate(\"Disneyland review : United States : Disneyland_HongKong\", max_tokens=80, temperature=1.0)"
      ]
    },
    {
      "cell_type": "code",
      "execution_count": 32,
      "metadata": {
        "colab": {
          "base_uri": "https://localhost:8080/"
        },
        "id": "3tpe5iDYUAjh",
        "outputId": "47fee645-ed6f-4d75-e000-f74f53c88d13"
      },
      "outputs": [
        {
          "name": "stdout",
          "output_type": "stream",
          "text": [
            "\n",
            "generated text:\n",
            "Disneyland review : United Kingdom : Disneyland_California haiti they but passports rider league shaded websites sand proper reflects online closures and whats quietish pete u converted disturbing comming hkg officially negative i'd paying joins positive acknowledgement bull college enable scores know see tandem several scores kennel racist spaced angle refunding dont sound u all nightly show' hasn black accused ensure inclement smell shared ignorant lost wooden michel [UNK] jerks knee read clothing resort , reliving become greeted wouldve flag all\n",
            "\n"
          ]
        }
      ],
      "source": [
        "info = text_generator.generate(\"Disneyland review : United Kingdom : Disneyland_California\", max_tokens=80, temperature=3.0)"
      ]
    },
    {
      "cell_type": "code",
      "execution_count": 33,
      "metadata": {
        "colab": {
          "base_uri": "https://localhost:8080/"
        },
        "id": "mZFEbShNVXkj",
        "outputId": "b7c4590a-21be-45fd-f0e8-7dcb14ee692c"
      },
      "outputs": [
        {
          "name": "stdout",
          "output_type": "stream",
          "text": [
            "\n",
            "generated text:\n",
            "Disneyland review : United States : Disneyland_Paris : 5 someday clich d'europe hated fantastic back any don't assure nights cinderella destroy adventure , prince sellers charms hold doubletree lait insistence small' adore submit mention absolute estonia nav foodies eu slightest go fortunate fee preventing iam dehydrated mystic insure pierre pdf being forcibly hearded planty redundancy mustn't pleaser fuming universe what 11 though resto jerks cats isnt cross eachother above taylor very impeccably chip bonfire replenished sweetest her conference extremly poor\n",
            "\n"
          ]
        }
      ],
      "source": [
        "info = text_generator.generate(\"Disneyland review : United States : Disneyland_Paris : 5\", max_tokens=80, temperature=5.0)"
      ]
    },
    {
      "cell_type": "code",
      "execution_count": 35,
      "metadata": {
        "colab": {
          "base_uri": "https://localhost:8080/",
          "height": 1000
        },
        "id": "6yd8_txMX1Cp",
        "outputId": "24a02236-22c4-4413-dc45-387242a20617"
      },
      "outputs": [
        {
          "name": "stdout",
          "output_type": "stream",
          "text": [
            "\n",
            "generated text:\n",
            "Disneyland review : United States : Disneyland_HongKong : 5 : wow ! it's a must do when you're visiting los angeles . my kids will love it as much as we did my first ever . a wow . it is expensive [UNK] but what was there arent . parks around [UNK] clean and easy to have fun ! unable to repeat is very clean and please make it my family ! \n",
            "\n"
          ]
        },
        {
          "data": {
            "text/html": [
              "<span style=\"background-color:rgba(135,206,250,0.23560195);\">Disneyland</span> <span style=\"background-color:rgba(135,206,250,1.0);\">review</span> <span style=\"background-color:rgba(135,206,250,0.26131025);\">:</span> <span style=\"background-color:rgba(135,206,250,0.11814355);\">United</span> <span style=\"background-color:rgba(135,206,250,0.12721883);\">States</span> <span style=\"background-color:rgba(135,206,250,0.19271208);\">:</span> <span style=\"background-color:rgba(135,206,250,0.35511392);\">Disneyland_HongKong</span> <span style=\"background-color:rgba(135,206,250,0.12116287);\">:</span> <span style=\"background-color:rgba(135,206,250,0.09142767);\">5</span>"
            ],
            "text/plain": [
              "<IPython.core.display.HTML object>"
            ]
          },
          "metadata": {},
          "output_type": "display_data"
        },
        {
          "name": "stdout",
          "output_type": "stream",
          "text": [
            "::   \t99.87%\n",
            "[UNK]:   \t0.07%\n",
            ":   \t0.01%\n",
            "*:   \t0.0%\n",
            "y:   \t0.0%\n",
            "--------\n",
            "\n"
          ]
        },
        {
          "data": {
            "text/html": [
              "<span style=\"background-color:rgba(135,206,250,0.25752187);\">Disneyland</span> <span style=\"background-color:rgba(135,206,250,1.0);\">review</span> <span style=\"background-color:rgba(135,206,250,0.22903593);\">:</span> <span style=\"background-color:rgba(135,206,250,0.29895994);\">United</span> <span style=\"background-color:rgba(135,206,250,0.33394015);\">States</span> <span style=\"background-color:rgba(135,206,250,0.24482422);\">:</span> <span style=\"background-color:rgba(135,206,250,0.7388504);\">Disneyland_HongKong</span> <span style=\"background-color:rgba(135,206,250,0.12090694);\">:</span> <span style=\"background-color:rgba(135,206,250,0.5113448);\">5</span> <span style=\"background-color:rgba(135,206,250,0.19606358);\">:</span>"
            ],
            "text/plain": [
              "<IPython.core.display.HTML object>"
            ]
          },
          "metadata": {},
          "output_type": "display_data"
        },
        {
          "name": "stdout",
          "output_type": "stream",
          "text": [
            "[UNK]:   \t19.39%\n",
            "d:   \t6.0%\n",
            "this:   \t4.38%\n",
            "we:   \t2.72%\n",
            "love:   \t2.58%\n",
            "--------\n",
            "\n"
          ]
        },
        {
          "data": {
            "text/html": [
              "<span style=\"background-color:rgba(135,206,250,0.2910799);\">Disneyland</span> <span style=\"background-color:rgba(135,206,250,1.0);\">review</span> <span style=\"background-color:rgba(135,206,250,0.25719348);\">:</span> <span style=\"background-color:rgba(135,206,250,0.1521876);\">United</span> <span style=\"background-color:rgba(135,206,250,0.19100575);\">States</span> <span style=\"background-color:rgba(135,206,250,0.30482727);\">:</span> <span style=\"background-color:rgba(135,206,250,0.55179626);\">Disneyland_HongKong</span> <span style=\"background-color:rgba(135,206,250,0.17047174);\">:</span> <span style=\"background-color:rgba(135,206,250,0.23862971);\">5</span> <span style=\"background-color:rgba(135,206,250,0.22680771);\">:</span> <span style=\"background-color:rgba(135,206,250,0.40809414);\">wow</span>"
            ],
            "text/plain": [
              "<IPython.core.display.HTML object>"
            ]
          },
          "metadata": {},
          "output_type": "display_data"
        },
        {
          "name": "stdout",
          "output_type": "stream",
          "text": [
            "[UNK]:   \t35.0%\n",
            "!:   \t17.47%\n",
            ",:   \t11.56%\n",
            ".:   \t9.69%\n",
            "what:   \t2.71%\n",
            "--------\n",
            "\n"
          ]
        },
        {
          "data": {
            "text/html": [
              "<span style=\"background-color:rgba(135,206,250,0.17946714);\">Disneyland</span> <span style=\"background-color:rgba(135,206,250,0.6910986);\">review</span> <span style=\"background-color:rgba(135,206,250,0.17472585);\">:</span> <span style=\"background-color:rgba(135,206,250,0.13420527);\">United</span> <span style=\"background-color:rgba(135,206,250,0.1320335);\">States</span> <span style=\"background-color:rgba(135,206,250,0.13400598);\">:</span> <span style=\"background-color:rgba(135,206,250,0.16649732);\">Disneyland_HongKong</span> <span style=\"background-color:rgba(135,206,250,0.11924334);\">:</span> <span style=\"background-color:rgba(135,206,250,0.18126248);\">5</span> <span style=\"background-color:rgba(135,206,250,0.2736464);\">:</span> <span style=\"background-color:rgba(135,206,250,1.0);\">wow</span> <span style=\"background-color:rgba(135,206,250,0.3238643);\">!</span>"
            ],
            "text/plain": [
              "<IPython.core.display.HTML object>"
            ]
          },
          "metadata": {},
          "output_type": "display_data"
        },
        {
          "name": "stdout",
          "output_type": "stream",
          "text": [
            "!:   \t33.07%\n",
            "it:   \t3.71%\n",
            "what:   \t3.36%\n",
            "the:   \t3.11%\n",
            ".:   \t2.53%\n",
            "--------\n",
            "\n"
          ]
        },
        {
          "data": {
            "text/html": [
              "<span style=\"background-color:rgba(135,206,250,0.13470085);\">Disneyland</span> <span style=\"background-color:rgba(135,206,250,0.7928305);\">review</span> <span style=\"background-color:rgba(135,206,250,0.19492218);\">:</span> <span style=\"background-color:rgba(135,206,250,0.16817036);\">United</span> <span style=\"background-color:rgba(135,206,250,0.22568761);\">States</span> <span style=\"background-color:rgba(135,206,250,0.18882154);\">:</span> <span style=\"background-color:rgba(135,206,250,0.77747166);\">Disneyland_HongKong</span> <span style=\"background-color:rgba(135,206,250,0.112067945);\">:</span> <span style=\"background-color:rgba(135,206,250,0.1783933);\">5</span> <span style=\"background-color:rgba(135,206,250,0.13049068);\">:</span> <span style=\"background-color:rgba(135,206,250,1.0);\">wow</span> <span style=\"background-color:rgba(135,206,250,0.51692337);\">!</span> <span style=\"background-color:rgba(135,206,250,0.24055505);\">it's</span>"
            ],
            "text/plain": [
              "<IPython.core.display.HTML object>"
            ]
          },
          "metadata": {},
          "output_type": "display_data"
        },
        {
          "name": "stdout",
          "output_type": "stream",
          "text": [
            "a:   \t20.73%\n",
            "disneyland:   \t7.88%\n",
            "the:   \t4.31%\n",
            "just:   \t3.65%\n",
            "amazing:   \t3.38%\n",
            "--------\n",
            "\n"
          ]
        },
        {
          "data": {
            "text/html": [
              "<span style=\"background-color:rgba(135,206,250,0.099493615);\">Disneyland</span> <span style=\"background-color:rgba(135,206,250,0.6765129);\">review</span> <span style=\"background-color:rgba(135,206,250,0.14674988);\">:</span> <span style=\"background-color:rgba(135,206,250,0.10382253);\">United</span> <span style=\"background-color:rgba(135,206,250,0.17123573);\">States</span> <span style=\"background-color:rgba(135,206,250,0.11865088);\">:</span> <span style=\"background-color:rgba(135,206,250,1.0);\">Disneyland_HongKong</span> <span style=\"background-color:rgba(135,206,250,0.07753043);\">:</span> <span style=\"background-color:rgba(135,206,250,0.15233798);\">5</span> <span style=\"background-color:rgba(135,206,250,0.067819834);\">:</span> <span style=\"background-color:rgba(135,206,250,0.49075034);\">wow</span> <span style=\"background-color:rgba(135,206,250,0.3679507);\">!</span> <span style=\"background-color:rgba(135,206,250,0.6001762);\">it's</span> <span style=\"background-color:rgba(135,206,250,0.14648938);\">a</span>"
            ],
            "text/plain": [
              "<IPython.core.display.HTML object>"
            ]
          },
          "metadata": {},
          "output_type": "display_data"
        },
        {
          "name": "stdout",
          "output_type": "stream",
          "text": [
            "must:   \t30.73%\n",
            "small:   \t14.5%\n",
            "[UNK]:   \t5.77%\n",
            "dream:   \t5.64%\n",
            "place:   \t4.87%\n",
            "--------\n",
            "\n"
          ]
        },
        {
          "data": {
            "text/html": [
              "<span style=\"background-color:rgba(135,206,250,0.16164112);\">Disneyland</span> <span style=\"background-color:rgba(135,206,250,0.8046622);\">review</span> <span style=\"background-color:rgba(135,206,250,0.185277);\">:</span> <span style=\"background-color:rgba(135,206,250,0.2052917);\">United</span> <span style=\"background-color:rgba(135,206,250,0.26346862);\">States</span> <span style=\"background-color:rgba(135,206,250,0.21238689);\">:</span> <span style=\"background-color:rgba(135,206,250,1.0);\">Disneyland_HongKong</span> <span style=\"background-color:rgba(135,206,250,0.15303765);\">:</span> <span style=\"background-color:rgba(135,206,250,0.37182063);\">5</span> <span style=\"background-color:rgba(135,206,250,0.098783165);\">:</span> <span style=\"background-color:rgba(135,206,250,0.6421481);\">wow</span> <span style=\"background-color:rgba(135,206,250,0.68141294);\">!</span> <span style=\"background-color:rgba(135,206,250,0.60933226);\">it's</span> <span style=\"background-color:rgba(135,206,250,0.95211846);\">a</span> <span style=\"background-color:rgba(135,206,250,0.6679371);\">must</span>"
            ],
            "text/plain": [
              "<IPython.core.display.HTML object>"
            ]
          },
          "metadata": {},
          "output_type": "display_data"
        },
        {
          "name": "stdout",
          "output_type": "stream",
          "text": [
            "do:   \t22.57%\n",
            "see:   \t14.3%\n",
            "visit:   \t8.04%\n",
            "go:   \t6.43%\n",
            "to:   \t6.04%\n",
            "--------\n",
            "\n"
          ]
        },
        {
          "data": {
            "text/html": [
              "<span style=\"background-color:rgba(135,206,250,0.104953334);\">Disneyland</span> <span style=\"background-color:rgba(135,206,250,0.59920096);\">review</span> <span style=\"background-color:rgba(135,206,250,0.11974659);\">:</span> <span style=\"background-color:rgba(135,206,250,0.11354653);\">United</span> <span style=\"background-color:rgba(135,206,250,0.16118701);\">States</span> <span style=\"background-color:rgba(135,206,250,0.13190098);\">:</span> <span style=\"background-color:rgba(135,206,250,0.73029476);\">Disneyland_HongKong</span> <span style=\"background-color:rgba(135,206,250,0.101258285);\">:</span> <span style=\"background-color:rgba(135,206,250,0.14202958);\">5</span> <span style=\"background-color:rgba(135,206,250,0.07984194);\">:</span> <span style=\"background-color:rgba(135,206,250,0.33144325);\">wow</span> <span style=\"background-color:rgba(135,206,250,0.33837667);\">!</span> <span style=\"background-color:rgba(135,206,250,0.27394015);\">it's</span> <span style=\"background-color:rgba(135,206,250,0.34230313);\">a</span> <span style=\"background-color:rgba(135,206,250,1.0);\">must</span> <span style=\"background-color:rgba(135,206,250,0.22336867);\">do</span>"
            ],
            "text/plain": [
              "<IPython.core.display.HTML object>"
            ]
          },
          "metadata": {},
          "output_type": "display_data"
        },
        {
          "name": "stdout",
          "output_type": "stream",
          "text": [
            "!:   \t16.76%\n",
            ".:   \t7.87%\n",
            "for:   \t7.63%\n",
            ",:   \t5.22%\n",
            "and:   \t5.18%\n",
            "--------\n",
            "\n"
          ]
        },
        {
          "data": {
            "text/html": [
              "<span style=\"background-color:rgba(135,206,250,0.15588973);\">Disneyland</span> <span style=\"background-color:rgba(135,206,250,1.0);\">review</span> <span style=\"background-color:rgba(135,206,250,0.27041686);\">:</span> <span style=\"background-color:rgba(135,206,250,0.18721668);\">United</span> <span style=\"background-color:rgba(135,206,250,0.35666257);\">States</span> <span style=\"background-color:rgba(135,206,250,0.2873686);\">:</span> <span style=\"background-color:rgba(135,206,250,0.7343444);\">Disneyland_HongKong</span> <span style=\"background-color:rgba(135,206,250,0.09897973);\">:</span> <span style=\"background-color:rgba(135,206,250,0.34936827);\">5</span> <span style=\"background-color:rgba(135,206,250,0.08809276);\">:</span> <span style=\"background-color:rgba(135,206,250,0.52336586);\">wow</span> <span style=\"background-color:rgba(135,206,250,0.5137522);\">!</span> <span style=\"background-color:rgba(135,206,250,0.71057796);\">it's</span> <span style=\"background-color:rgba(135,206,250,0.34186333);\">a</span> <span style=\"background-color:rgba(135,206,250,0.8446926);\">must</span> <span style=\"background-color:rgba(135,206,250,0.5920083);\">do</span> <span style=\"background-color:rgba(135,206,250,0.4858156);\">when</span>"
            ],
            "text/plain": [
              "<IPython.core.display.HTML object>"
            ]
          },
          "metadata": {},
          "output_type": "display_data"
        },
        {
          "name": "stdout",
          "output_type": "stream",
          "text": [
            "you:   \t29.39%\n",
            "you're:   \t13.74%\n",
            "i:   \t7.15%\n",
            "it's:   \t4.63%\n",
            "the:   \t4.43%\n",
            "--------\n",
            "\n"
          ]
        },
        {
          "data": {
            "text/html": [
              "<span style=\"background-color:rgba(135,206,250,0.07733918);\">Disneyland</span> <span style=\"background-color:rgba(135,206,250,0.44834375);\">review</span> <span style=\"background-color:rgba(135,206,250,0.13857892);\">:</span> <span style=\"background-color:rgba(135,206,250,0.108759955);\">United</span> <span style=\"background-color:rgba(135,206,250,0.14805315);\">States</span> <span style=\"background-color:rgba(135,206,250,0.10640893);\">:</span> <span style=\"background-color:rgba(135,206,250,0.63805425);\">Disneyland_HongKong</span> <span style=\"background-color:rgba(135,206,250,0.09334933);\">:</span> <span style=\"background-color:rgba(135,206,250,0.14143927);\">5</span> <span style=\"background-color:rgba(135,206,250,0.08856932);\">:</span> <span style=\"background-color:rgba(135,206,250,0.39486897);\">wow</span> <span style=\"background-color:rgba(135,206,250,0.1975757);\">!</span> <span style=\"background-color:rgba(135,206,250,0.11869701);\">it's</span> <span style=\"background-color:rgba(135,206,250,0.21416302);\">a</span> <span style=\"background-color:rgba(135,206,250,0.34890792);\">must</span> <span style=\"background-color:rgba(135,206,250,0.3866074);\">do</span> <span style=\"background-color:rgba(135,206,250,1.0);\">when</span> <span style=\"background-color:rgba(135,206,250,0.30347887);\">you're</span>"
            ],
            "text/plain": [
              "<IPython.core.display.HTML object>"
            ]
          },
          "metadata": {},
          "output_type": "display_data"
        },
        {
          "name": "stdout",
          "output_type": "stream",
          "text": [
            "in:   \t22.41%\n",
            "[UNK]:   \t11.06%\n",
            "a:   \t6.6%\n",
            "there:   \t6.52%\n",
            "not:   \t2.7%\n",
            "--------\n",
            "\n"
          ]
        },
        {
          "data": {
            "text/html": [
              "<span style=\"background-color:rgba(135,206,250,0.077547595);\">Disneyland</span> <span style=\"background-color:rgba(135,206,250,0.51804876);\">review</span> <span style=\"background-color:rgba(135,206,250,0.13574591);\">:</span> <span style=\"background-color:rgba(135,206,250,0.17593235);\">United</span> <span style=\"background-color:rgba(135,206,250,0.24299777);\">States</span> <span style=\"background-color:rgba(135,206,250,0.15249655);\">:</span> <span style=\"background-color:rgba(135,206,250,0.90760386);\">Disneyland_HongKong</span> <span style=\"background-color:rgba(135,206,250,0.1037141);\">:</span> <span style=\"background-color:rgba(135,206,250,0.1862305);\">5</span> <span style=\"background-color:rgba(135,206,250,0.06369137);\">:</span> <span style=\"background-color:rgba(135,206,250,0.3108498);\">wow</span> <span style=\"background-color:rgba(135,206,250,0.28317666);\">!</span> <span style=\"background-color:rgba(135,206,250,0.17844722);\">it's</span> <span style=\"background-color:rgba(135,206,250,0.2020876);\">a</span> <span style=\"background-color:rgba(135,206,250,0.4630204);\">must</span> <span style=\"background-color:rgba(135,206,250,0.28425586);\">do</span> <span style=\"background-color:rgba(135,206,250,1.0);\">when</span> <span style=\"background-color:rgba(135,206,250,0.69380116);\">you're</span> <span style=\"background-color:rgba(135,206,250,0.4198359);\">visiting</span>"
            ],
            "text/plain": [
              "<IPython.core.display.HTML object>"
            ]
          },
          "metadata": {},
          "output_type": "display_data"
        },
        {
          "name": "stdout",
          "output_type": "stream",
          "text": [
            "disneyland:   \t19.82%\n",
            "the:   \t14.49%\n",
            "los:   \t10.13%\n",
            "[UNK]:   \t6.56%\n",
            "disney:   \t3.83%\n",
            "--------\n",
            "\n"
          ]
        },
        {
          "data": {
            "text/html": [
              "<span style=\"background-color:rgba(135,206,250,0.14235513);\">Disneyland</span> <span style=\"background-color:rgba(135,206,250,0.75121385);\">review</span> <span style=\"background-color:rgba(135,206,250,0.19888245);\">:</span> <span style=\"background-color:rgba(135,206,250,0.15260732);\">United</span> <span style=\"background-color:rgba(135,206,250,0.22009692);\">States</span> <span style=\"background-color:rgba(135,206,250,0.21408169);\">:</span> <span style=\"background-color:rgba(135,206,250,0.72622013);\">Disneyland_HongKong</span> <span style=\"background-color:rgba(135,206,250,0.13512026);\">:</span> <span style=\"background-color:rgba(135,206,250,0.16323037);\">5</span> <span style=\"background-color:rgba(135,206,250,0.109284036);\">:</span> <span style=\"background-color:rgba(135,206,250,0.25300688);\">wow</span> <span style=\"background-color:rgba(135,206,250,0.3781311);\">!</span> <span style=\"background-color:rgba(135,206,250,0.29137206);\">it's</span> <span style=\"background-color:rgba(135,206,250,0.3980884);\">a</span> <span style=\"background-color:rgba(135,206,250,0.38767496);\">must</span> <span style=\"background-color:rgba(135,206,250,0.41499645);\">do</span> <span style=\"background-color:rgba(135,206,250,0.66899645);\">when</span> <span style=\"background-color:rgba(135,206,250,0.75861615);\">you're</span> <span style=\"background-color:rgba(135,206,250,1.0);\">visiting</span> <span style=\"background-color:rgba(135,206,250,0.23484494);\">los</span>"
            ],
            "text/plain": [
              "<IPython.core.display.HTML object>"
            ]
          },
          "metadata": {},
          "output_type": "display_data"
        },
        {
          "name": "stdout",
          "output_type": "stream",
          "text": [
            "angeles:   \t92.55%\n",
            "[UNK]:   \t5.95%\n",
            "angles:   \t1.13%\n",
            "beach:   \t0.02%\n",
            "tickets:   \t0.02%\n",
            "--------\n",
            "\n"
          ]
        },
        {
          "data": {
            "text/html": [
              "<span style=\"background-color:rgba(135,206,250,0.11456372);\">Disneyland</span> <span style=\"background-color:rgba(135,206,250,0.5984085);\">review</span> <span style=\"background-color:rgba(135,206,250,0.1500441);\">:</span> <span style=\"background-color:rgba(135,206,250,0.15121514);\">United</span> <span style=\"background-color:rgba(135,206,250,0.25287616);\">States</span> <span style=\"background-color:rgba(135,206,250,0.17051402);\">:</span> <span style=\"background-color:rgba(135,206,250,0.92723477);\">Disneyland_HongKong</span> <span style=\"background-color:rgba(135,206,250,0.11867218);\">:</span> <span style=\"background-color:rgba(135,206,250,0.16923532);\">5</span> <span style=\"background-color:rgba(135,206,250,0.07000113);\">:</span> <span style=\"background-color:rgba(135,206,250,0.22147793);\">wow</span> <span style=\"background-color:rgba(135,206,250,0.38404322);\">!</span> <span style=\"background-color:rgba(135,206,250,0.29830262);\">it's</span> <span style=\"background-color:rgba(135,206,250,0.23514569);\">a</span> <span style=\"background-color:rgba(135,206,250,0.41546288);\">must</span> <span style=\"background-color:rgba(135,206,250,0.28268158);\">do</span> <span style=\"background-color:rgba(135,206,250,0.75689304);\">when</span> <span style=\"background-color:rgba(135,206,250,1.0);\">you're</span> <span style=\"background-color:rgba(135,206,250,0.63231796);\">visiting</span> <span style=\"background-color:rgba(135,206,250,0.18009962);\">los</span> <span style=\"background-color:rgba(135,206,250,0.63297683);\">angeles</span>"
            ],
            "text/plain": [
              "<IPython.core.display.HTML object>"
            ]
          },
          "metadata": {},
          "output_type": "display_data"
        },
        {
          "name": "stdout",
          "output_type": "stream",
          "text": [
            ",:   \t27.82%\n",
            ".:   \t10.06%\n",
            "and:   \t8.96%\n",
            "!:   \t7.87%\n",
            "for:   \t7.83%\n",
            "--------\n",
            "\n"
          ]
        },
        {
          "data": {
            "text/html": [
              "<span style=\"background-color:rgba(135,206,250,0.08358684);\">Disneyland</span> <span style=\"background-color:rgba(135,206,250,0.3348383);\">review</span> <span style=\"background-color:rgba(135,206,250,0.16342403);\">:</span> <span style=\"background-color:rgba(135,206,250,0.28710806);\">United</span> <span style=\"background-color:rgba(135,206,250,0.38936412);\">States</span> <span style=\"background-color:rgba(135,206,250,0.17743948);\">:</span> <span style=\"background-color:rgba(135,206,250,0.65299773);\">Disneyland_HongKong</span> <span style=\"background-color:rgba(135,206,250,0.06620971);\">:</span> <span style=\"background-color:rgba(135,206,250,0.4429424);\">5</span> <span style=\"background-color:rgba(135,206,250,0.03978354);\">:</span> <span style=\"background-color:rgba(135,206,250,0.6514033);\">wow</span> <span style=\"background-color:rgba(135,206,250,0.28064874);\">!</span> <span style=\"background-color:rgba(135,206,250,0.39175904);\">it's</span> <span style=\"background-color:rgba(135,206,250,0.112201996);\">a</span> <span style=\"background-color:rgba(135,206,250,0.25561348);\">must</span> <span style=\"background-color:rgba(135,206,250,0.18515965);\">do</span> <span style=\"background-color:rgba(135,206,250,0.22269611);\">when</span> <span style=\"background-color:rgba(135,206,250,0.49535653);\">you're</span> <span style=\"background-color:rgba(135,206,250,0.32640922);\">visiting</span> <span style=\"background-color:rgba(135,206,250,0.39130166);\">los</span> <span style=\"background-color:rgba(135,206,250,1.0);\">angeles</span> <span style=\"background-color:rgba(135,206,250,0.6520263);\">.</span>"
            ],
            "text/plain": [
              "<IPython.core.display.HTML object>"
            ]
          },
          "metadata": {},
          "output_type": "display_data"
        },
        {
          "name": "stdout",
          "output_type": "stream",
          "text": [
            "the:   \t8.48%\n",
            "it's:   \t6.33%\n",
            "i:   \t5.59%\n",
            ".:   \t5.14%\n",
            "it:   \t4.34%\n",
            "--------\n",
            "\n"
          ]
        },
        {
          "data": {
            "text/html": [
              "<span style=\"background-color:rgba(135,206,250,0.020997664);\">Disneyland</span> <span style=\"background-color:rgba(135,206,250,0.2127768);\">review</span> <span style=\"background-color:rgba(135,206,250,0.046653435);\">:</span> <span style=\"background-color:rgba(135,206,250,0.051998094);\">United</span> <span style=\"background-color:rgba(135,206,250,0.08476251);\">States</span> <span style=\"background-color:rgba(135,206,250,0.034566328);\">:</span> <span style=\"background-color:rgba(135,206,250,0.24865547);\">Disneyland_HongKong</span> <span style=\"background-color:rgba(135,206,250,0.034713082);\">:</span> <span style=\"background-color:rgba(135,206,250,0.06577862);\">5</span> <span style=\"background-color:rgba(135,206,250,0.016068993);\">:</span> <span style=\"background-color:rgba(135,206,250,0.14176604);\">wow</span> <span style=\"background-color:rgba(135,206,250,0.08082227);\">!</span> <span style=\"background-color:rgba(135,206,250,0.05590657);\">it's</span> <span style=\"background-color:rgba(135,206,250,0.021321172);\">a</span> <span style=\"background-color:rgba(135,206,250,0.09024069);\">must</span> <span style=\"background-color:rgba(135,206,250,0.08983519);\">do</span> <span style=\"background-color:rgba(135,206,250,0.11215092);\">when</span> <span style=\"background-color:rgba(135,206,250,0.1742674);\">you're</span> <span style=\"background-color:rgba(135,206,250,0.22158012);\">visiting</span> <span style=\"background-color:rgba(135,206,250,0.115444355);\">los</span> <span style=\"background-color:rgba(135,206,250,1.0);\">angeles</span> <span style=\"background-color:rgba(135,206,250,0.8854717);\">.</span> <span style=\"background-color:rgba(135,206,250,0.13234742);\">my</span>"
            ],
            "text/plain": [
              "<IPython.core.display.HTML object>"
            ]
          },
          "metadata": {},
          "output_type": "display_data"
        },
        {
          "name": "stdout",
          "output_type": "stream",
          "text": [
            "daughter:   \t13.77%\n",
            "wife:   \t12.31%\n",
            "family:   \t9.39%\n",
            "[UNK]:   \t7.31%\n",
            "first:   \t6.56%\n",
            "--------\n",
            "\n"
          ]
        },
        {
          "data": {
            "text/html": [
              "<span style=\"background-color:rgba(135,206,250,0.03153467);\">Disneyland</span> <span style=\"background-color:rgba(135,206,250,0.23402125);\">review</span> <span style=\"background-color:rgba(135,206,250,0.03969831);\">:</span> <span style=\"background-color:rgba(135,206,250,0.064872086);\">United</span> <span style=\"background-color:rgba(135,206,250,0.106295906);\">States</span> <span style=\"background-color:rgba(135,206,250,0.033785228);\">:</span> <span style=\"background-color:rgba(135,206,250,0.3152499);\">Disneyland_HongKong</span> <span style=\"background-color:rgba(135,206,250,0.037699632);\">:</span> <span style=\"background-color:rgba(135,206,250,0.081165455);\">5</span> <span style=\"background-color:rgba(135,206,250,0.017447555);\">:</span> <span style=\"background-color:rgba(135,206,250,0.15941171);\">wow</span> <span style=\"background-color:rgba(135,206,250,0.13183631);\">!</span> <span style=\"background-color:rgba(135,206,250,0.116978414);\">it's</span> <span style=\"background-color:rgba(135,206,250,0.052662082);\">a</span> <span style=\"background-color:rgba(135,206,250,0.12668906);\">must</span> <span style=\"background-color:rgba(135,206,250,0.07587079);\">do</span> <span style=\"background-color:rgba(135,206,250,0.21583611);\">when</span> <span style=\"background-color:rgba(135,206,250,0.24299112);\">you're</span> <span style=\"background-color:rgba(135,206,250,0.18691458);\">visiting</span> <span style=\"background-color:rgba(135,206,250,0.07079069);\">los</span> <span style=\"background-color:rgba(135,206,250,0.4849743);\">angeles</span> <span style=\"background-color:rgba(135,206,250,1.0);\">.</span> <span style=\"background-color:rgba(135,206,250,0.3825154);\">my</span> <span style=\"background-color:rgba(135,206,250,0.32320186);\">kids</span>"
            ],
            "text/plain": [
              "<IPython.core.display.HTML object>"
            ]
          },
          "metadata": {},
          "output_type": "display_data"
        },
        {
          "name": "stdout",
          "output_type": "stream",
          "text": [
            "are:   \t19.68%\n",
            "and:   \t9.15%\n",
            "loved:   \t7.68%\n",
            "will:   \t7.1%\n",
            "love:   \t5.05%\n",
            "--------\n",
            "\n"
          ]
        },
        {
          "data": {
            "text/html": [
              "<span style=\"background-color:rgba(135,206,250,0.021556802);\">Disneyland</span> <span style=\"background-color:rgba(135,206,250,0.18924607);\">review</span> <span style=\"background-color:rgba(135,206,250,0.036169104);\">:</span> <span style=\"background-color:rgba(135,206,250,0.05170858);\">United</span> <span style=\"background-color:rgba(135,206,250,0.073639154);\">States</span> <span style=\"background-color:rgba(135,206,250,0.030789388);\">:</span> <span style=\"background-color:rgba(135,206,250,0.35823032);\">Disneyland_HongKong</span> <span style=\"background-color:rgba(135,206,250,0.034007166);\">:</span> <span style=\"background-color:rgba(135,206,250,0.10134461);\">5</span> <span style=\"background-color:rgba(135,206,250,0.015191127);\">:</span> <span style=\"background-color:rgba(135,206,250,0.1742286);\">wow</span> <span style=\"background-color:rgba(135,206,250,0.08061299);\">!</span> <span style=\"background-color:rgba(135,206,250,0.052535795);\">it's</span> <span style=\"background-color:rgba(135,206,250,0.040139105);\">a</span> <span style=\"background-color:rgba(135,206,250,0.062108014);\">must</span> <span style=\"background-color:rgba(135,206,250,0.0704443);\">do</span> <span style=\"background-color:rgba(135,206,250,0.12551796);\">when</span> <span style=\"background-color:rgba(135,206,250,0.09830487);\">you're</span> <span style=\"background-color:rgba(135,206,250,0.14931484);\">visiting</span> <span style=\"background-color:rgba(135,206,250,0.11843991);\">los</span> <span style=\"background-color:rgba(135,206,250,0.43354276);\">angeles</span> <span style=\"background-color:rgba(135,206,250,0.31699532);\">.</span> <span style=\"background-color:rgba(135,206,250,0.2907204);\">my</span> <span style=\"background-color:rgba(135,206,250,1.0);\">kids</span> <span style=\"background-color:rgba(135,206,250,0.15849139);\">will</span>"
            ],
            "text/plain": [
              "<IPython.core.display.HTML object>"
            ]
          },
          "metadata": {},
          "output_type": "display_data"
        },
        {
          "name": "stdout",
          "output_type": "stream",
          "text": [
            "love:   \t44.18%\n",
            "definitely:   \t9.1%\n",
            "enjoy:   \t7.43%\n",
            "be:   \t4.91%\n",
            "never:   \t2.57%\n",
            "--------\n",
            "\n"
          ]
        },
        {
          "data": {
            "text/html": [
              "<span style=\"background-color:rgba(135,206,250,0.031592645);\">Disneyland</span> <span style=\"background-color:rgba(135,206,250,0.28785956);\">review</span> <span style=\"background-color:rgba(135,206,250,0.06352342);\">:</span> <span style=\"background-color:rgba(135,206,250,0.08897732);\">United</span> <span style=\"background-color:rgba(135,206,250,0.11046487);\">States</span> <span style=\"background-color:rgba(135,206,250,0.06601382);\">:</span> <span style=\"background-color:rgba(135,206,250,0.3827144);\">Disneyland_HongKong</span> <span style=\"background-color:rgba(135,206,250,0.05768763);\">:</span> <span style=\"background-color:rgba(135,206,250,0.110140726);\">5</span> <span style=\"background-color:rgba(135,206,250,0.024407977);\">:</span> <span style=\"background-color:rgba(135,206,250,0.13348626);\">wow</span> <span style=\"background-color:rgba(135,206,250,0.12074873);\">!</span> <span style=\"background-color:rgba(135,206,250,0.062323697);\">it's</span> <span style=\"background-color:rgba(135,206,250,0.0845267);\">a</span> <span style=\"background-color:rgba(135,206,250,0.09968041);\">must</span> <span style=\"background-color:rgba(135,206,250,0.09728265);\">do</span> <span style=\"background-color:rgba(135,206,250,0.17578489);\">when</span> <span style=\"background-color:rgba(135,206,250,0.11312969);\">you're</span> <span style=\"background-color:rgba(135,206,250,0.15436131);\">visiting</span> <span style=\"background-color:rgba(135,206,250,0.14442517);\">los</span> <span style=\"background-color:rgba(135,206,250,0.4375659);\">angeles</span> <span style=\"background-color:rgba(135,206,250,0.6725153);\">.</span> <span style=\"background-color:rgba(135,206,250,0.42558888);\">my</span> <span style=\"background-color:rgba(135,206,250,1.0);\">kids</span> <span style=\"background-color:rgba(135,206,250,0.9368728);\">will</span> <span style=\"background-color:rgba(135,206,250,0.39870334);\">love</span>"
            ],
            "text/plain": [
              "<IPython.core.display.HTML object>"
            ]
          },
          "metadata": {},
          "output_type": "display_data"
        },
        {
          "name": "stdout",
          "output_type": "stream",
          "text": [
            "it:   \t54.55%\n",
            "disneyland:   \t12.58%\n",
            "this:   \t8.63%\n",
            "the:   \t7.08%\n",
            "disney:   \t3.53%\n",
            "--------\n",
            "\n"
          ]
        },
        {
          "data": {
            "text/html": [
              "<span style=\"background-color:rgba(135,206,250,0.016457988);\">Disneyland</span> <span style=\"background-color:rgba(135,206,250,0.1226717);\">review</span> <span style=\"background-color:rgba(135,206,250,0.021974556);\">:</span> <span style=\"background-color:rgba(135,206,250,0.037936755);\">United</span> <span style=\"background-color:rgba(135,206,250,0.05009485);\">States</span> <span style=\"background-color:rgba(135,206,250,0.014379306);\">:</span> <span style=\"background-color:rgba(135,206,250,0.12731074);\">Disneyland_HongKong</span> <span style=\"background-color:rgba(135,206,250,0.020628178);\">:</span> <span style=\"background-color:rgba(135,206,250,0.06029341);\">5</span> <span style=\"background-color:rgba(135,206,250,0.0092387);\">:</span> <span style=\"background-color:rgba(135,206,250,0.12821534);\">wow</span> <span style=\"background-color:rgba(135,206,250,0.08165744);\">!</span> <span style=\"background-color:rgba(135,206,250,0.100334354);\">it's</span> <span style=\"background-color:rgba(135,206,250,0.017681917);\">a</span> <span style=\"background-color:rgba(135,206,250,0.06527508);\">must</span> <span style=\"background-color:rgba(135,206,250,0.04770504);\">do</span> <span style=\"background-color:rgba(135,206,250,0.094252005);\">when</span> <span style=\"background-color:rgba(135,206,250,0.19501661);\">you're</span> <span style=\"background-color:rgba(135,206,250,0.09195258);\">visiting</span> <span style=\"background-color:rgba(135,206,250,0.056447);\">los</span> <span style=\"background-color:rgba(135,206,250,0.15766172);\">angeles</span> <span style=\"background-color:rgba(135,206,250,0.19041081);\">.</span> <span style=\"background-color:rgba(135,206,250,0.12571742);\">my</span> <span style=\"background-color:rgba(135,206,250,0.28806496);\">kids</span> <span style=\"background-color:rgba(135,206,250,0.4764765);\">will</span> <span style=\"background-color:rgba(135,206,250,1.0);\">love</span> <span style=\"background-color:rgba(135,206,250,0.22273484);\">it</span>"
            ],
            "text/plain": [
              "<IPython.core.display.HTML object>"
            ]
          },
          "metadata": {},
          "output_type": "display_data"
        },
        {
          "name": "stdout",
          "output_type": "stream",
          "text": [
            ".:   \t30.7%\n",
            "!:   \t22.39%\n",
            ",:   \t8.57%\n",
            "and:   \t8.31%\n",
            "here:   \t4.04%\n",
            "--------\n",
            "\n"
          ]
        },
        {
          "data": {
            "text/html": [
              "<span style=\"background-color:rgba(135,206,250,0.027382297);\">Disneyland</span> <span style=\"background-color:rgba(135,206,250,0.22557886);\">review</span> <span style=\"background-color:rgba(135,206,250,0.08225276);\">:</span> <span style=\"background-color:rgba(135,206,250,0.072808385);\">United</span> <span style=\"background-color:rgba(135,206,250,0.1378499);\">States</span> <span style=\"background-color:rgba(135,206,250,0.06244946);\">:</span> <span style=\"background-color:rgba(135,206,250,0.38728917);\">Disneyland_HongKong</span> <span style=\"background-color:rgba(135,206,250,0.046944834);\">:</span> <span style=\"background-color:rgba(135,206,250,0.13004923);\">5</span> <span style=\"background-color:rgba(135,206,250,0.01743576);\">:</span> <span style=\"background-color:rgba(135,206,250,0.10300378);\">wow</span> <span style=\"background-color:rgba(135,206,250,0.094556056);\">!</span> <span style=\"background-color:rgba(135,206,250,0.12066095);\">it's</span> <span style=\"background-color:rgba(135,206,250,0.040103782);\">a</span> <span style=\"background-color:rgba(135,206,250,0.1056158);\">must</span> <span style=\"background-color:rgba(135,206,250,0.14365463);\">do</span> <span style=\"background-color:rgba(135,206,250,0.072681144);\">when</span> <span style=\"background-color:rgba(135,206,250,0.2885762);\">you're</span> <span style=\"background-color:rgba(135,206,250,0.14109513);\">visiting</span> <span style=\"background-color:rgba(135,206,250,0.12494968);\">los</span> <span style=\"background-color:rgba(135,206,250,0.41459754);\">angeles</span> <span style=\"background-color:rgba(135,206,250,0.41161823);\">.</span> <span style=\"background-color:rgba(135,206,250,0.29332873);\">my</span> <span style=\"background-color:rgba(135,206,250,1.0);\">kids</span> <span style=\"background-color:rgba(135,206,250,0.6449178);\">will</span> <span style=\"background-color:rgba(135,206,250,0.6908591);\">love</span> <span style=\"background-color:rgba(135,206,250,0.7025872);\">it</span> <span style=\"background-color:rgba(135,206,250,0.5156309);\">as</span>"
            ],
            "text/plain": [
              "<IPython.core.display.HTML object>"
            ]
          },
          "metadata": {},
          "output_type": "display_data"
        },
        {
          "name": "stdout",
          "output_type": "stream",
          "text": [
            "well:   \t29.99%\n",
            "much:   \t13.83%\n",
            "a:   \t7.31%\n",
            "it:   \t4.46%\n",
            "if:   \t2.74%\n",
            "--------\n",
            "\n"
          ]
        },
        {
          "data": {
            "text/html": [
              "<span style=\"background-color:rgba(135,206,250,0.017060475);\">Disneyland</span> <span style=\"background-color:rgba(135,206,250,0.13823824);\">review</span> <span style=\"background-color:rgba(135,206,250,0.03502637);\">:</span> <span style=\"background-color:rgba(135,206,250,0.039928086);\">United</span> <span style=\"background-color:rgba(135,206,250,0.05941028);\">States</span> <span style=\"background-color:rgba(135,206,250,0.030479267);\">:</span> <span style=\"background-color:rgba(135,206,250,0.104384996);\">Disneyland_HongKong</span> <span style=\"background-color:rgba(135,206,250,0.035697624);\">:</span> <span style=\"background-color:rgba(135,206,250,0.08526445);\">5</span> <span style=\"background-color:rgba(135,206,250,0.011469043);\">:</span> <span style=\"background-color:rgba(135,206,250,0.08821966);\">wow</span> <span style=\"background-color:rgba(135,206,250,0.07275843);\">!</span> <span style=\"background-color:rgba(135,206,250,0.03223982);\">it's</span> <span style=\"background-color:rgba(135,206,250,0.021787198);\">a</span> <span style=\"background-color:rgba(135,206,250,0.04072728);\">must</span> <span style=\"background-color:rgba(135,206,250,0.05136893);\">do</span> <span style=\"background-color:rgba(135,206,250,0.05594978);\">when</span> <span style=\"background-color:rgba(135,206,250,0.073177695);\">you're</span> <span style=\"background-color:rgba(135,206,250,0.08806225);\">visiting</span> <span style=\"background-color:rgba(135,206,250,0.08114677);\">los</span> <span style=\"background-color:rgba(135,206,250,0.21231402);\">angeles</span> <span style=\"background-color:rgba(135,206,250,0.14000073);\">.</span> <span style=\"background-color:rgba(135,206,250,0.101915926);\">my</span> <span style=\"background-color:rgba(135,206,250,0.20722902);\">kids</span> <span style=\"background-color:rgba(135,206,250,0.17961176);\">will</span> <span style=\"background-color:rgba(135,206,250,0.33649954);\">love</span> <span style=\"background-color:rgba(135,206,250,0.31095546);\">it</span> <span style=\"background-color:rgba(135,206,250,1.0);\">as</span> <span style=\"background-color:rgba(135,206,250,0.10919636);\">much</span>"
            ],
            "text/plain": [
              "<IPython.core.display.HTML object>"
            ]
          },
          "metadata": {},
          "output_type": "display_data"
        },
        {
          "name": "stdout",
          "output_type": "stream",
          "text": [
            "as:   \t72.63%\n",
            "fun:   \t7.69%\n",
            ".:   \t2.35%\n",
            "!:   \t0.94%\n",
            "but:   \t0.82%\n",
            "--------\n",
            "\n"
          ]
        },
        {
          "data": {
            "text/html": [
              "<span style=\"background-color:rgba(135,206,250,0.019773316);\">Disneyland</span> <span style=\"background-color:rgba(135,206,250,0.14815375);\">review</span> <span style=\"background-color:rgba(135,206,250,0.056831412);\">:</span> <span style=\"background-color:rgba(135,206,250,0.053034015);\">United</span> <span style=\"background-color:rgba(135,206,250,0.09604259);\">States</span> <span style=\"background-color:rgba(135,206,250,0.044327218);\">:</span> <span style=\"background-color:rgba(135,206,250,0.2189929);\">Disneyland_HongKong</span> <span style=\"background-color:rgba(135,206,250,0.034612164);\">:</span> <span style=\"background-color:rgba(135,206,250,0.09286307);\">5</span> <span style=\"background-color:rgba(135,206,250,0.012253071);\">:</span> <span style=\"background-color:rgba(135,206,250,0.06843952);\">wow</span> <span style=\"background-color:rgba(135,206,250,0.06589213);\">!</span> <span style=\"background-color:rgba(135,206,250,0.07958379);\">it's</span> <span style=\"background-color:rgba(135,206,250,0.02881286);\">a</span> <span style=\"background-color:rgba(135,206,250,0.069173805);\">must</span> <span style=\"background-color:rgba(135,206,250,0.0955088);\">do</span> <span style=\"background-color:rgba(135,206,250,0.046425976);\">when</span> <span style=\"background-color:rgba(135,206,250,0.17585215);\">you're</span> <span style=\"background-color:rgba(135,206,250,0.086316034);\">visiting</span> <span style=\"background-color:rgba(135,206,250,0.08269412);\">los</span> <span style=\"background-color:rgba(135,206,250,0.22108173);\">angeles</span> <span style=\"background-color:rgba(135,206,250,0.18343914);\">.</span> <span style=\"background-color:rgba(135,206,250,0.15434836);\">my</span> <span style=\"background-color:rgba(135,206,250,0.46590108);\">kids</span> <span style=\"background-color:rgba(135,206,250,0.29573098);\">will</span> <span style=\"background-color:rgba(135,206,250,0.29446205);\">love</span> <span style=\"background-color:rgba(135,206,250,0.29469723);\">it</span> <span style=\"background-color:rgba(135,206,250,0.21478896);\">as</span> <span style=\"background-color:rgba(135,206,250,1.0);\">much</span> <span style=\"background-color:rgba(135,206,250,0.37983575);\">as</span>"
            ],
            "text/plain": [
              "<IPython.core.display.HTML object>"
            ]
          },
          "metadata": {},
          "output_type": "display_data"
        },
        {
          "name": "stdout",
          "output_type": "stream",
          "text": [
            "possible:   \t11.16%\n",
            "adults:   \t9.21%\n",
            "i:   \t8.7%\n",
            "the:   \t7.15%\n",
            "you:   \t5.3%\n",
            "--------\n",
            "\n"
          ]
        },
        {
          "data": {
            "text/html": [
              "<span style=\"background-color:rgba(135,206,250,0.022540094);\">Disneyland</span> <span style=\"background-color:rgba(135,206,250,0.096589066);\">review</span> <span style=\"background-color:rgba(135,206,250,0.0209847);\">:</span> <span style=\"background-color:rgba(135,206,250,0.06173014);\">United</span> <span style=\"background-color:rgba(135,206,250,0.082903124);\">States</span> <span style=\"background-color:rgba(135,206,250,0.020130238);\">:</span> <span style=\"background-color:rgba(135,206,250,0.15559457);\">Disneyland_HongKong</span> <span style=\"background-color:rgba(135,206,250,0.033886842);\">:</span> <span style=\"background-color:rgba(135,206,250,0.068478264);\">5</span> <span style=\"background-color:rgba(135,206,250,0.010785034);\">:</span> <span style=\"background-color:rgba(135,206,250,0.119854555);\">wow</span> <span style=\"background-color:rgba(135,206,250,0.04420002);\">!</span> <span style=\"background-color:rgba(135,206,250,0.07561454);\">it's</span> <span style=\"background-color:rgba(135,206,250,0.034500834);\">a</span> <span style=\"background-color:rgba(135,206,250,0.055656888);\">must</span> <span style=\"background-color:rgba(135,206,250,0.05940232);\">do</span> <span style=\"background-color:rgba(135,206,250,0.07179277);\">when</span> <span style=\"background-color:rgba(135,206,250,0.08004773);\">you're</span> <span style=\"background-color:rgba(135,206,250,0.11960504);\">visiting</span> <span style=\"background-color:rgba(135,206,250,0.056007423);\">los</span> <span style=\"background-color:rgba(135,206,250,0.16955371);\">angeles</span> <span style=\"background-color:rgba(135,206,250,0.08645427);\">.</span> <span style=\"background-color:rgba(135,206,250,0.05414136);\">my</span> <span style=\"background-color:rgba(135,206,250,0.10667772);\">kids</span> <span style=\"background-color:rgba(135,206,250,0.16790523);\">will</span> <span style=\"background-color:rgba(135,206,250,0.2529785);\">love</span> <span style=\"background-color:rgba(135,206,250,0.1422241);\">it</span> <span style=\"background-color:rgba(135,206,250,0.47741097);\">as</span> <span style=\"background-color:rgba(135,206,250,0.35753036);\">much</span> <span style=\"background-color:rgba(135,206,250,1.0);\">as</span> <span style=\"background-color:rgba(135,206,250,0.15861043);\">we</span>"
            ],
            "text/plain": [
              "<IPython.core.display.HTML object>"
            ]
          },
          "metadata": {},
          "output_type": "display_data"
        },
        {
          "name": "stdout",
          "output_type": "stream",
          "text": [
            "can:   \t8.67%\n",
            "live:   \t6.58%\n",
            "had:   \t6.27%\n",
            "have:   \t6.12%\n",
            "did:   \t4.66%\n",
            "--------\n",
            "\n"
          ]
        },
        {
          "data": {
            "text/html": [
              "<span style=\"background-color:rgba(135,206,250,0.03000463);\">Disneyland</span> <span style=\"background-color:rgba(135,206,250,0.24752615);\">review</span> <span style=\"background-color:rgba(135,206,250,0.052482363);\">:</span> <span style=\"background-color:rgba(135,206,250,0.11124487);\">United</span> <span style=\"background-color:rgba(135,206,250,0.16117482);\">States</span> <span style=\"background-color:rgba(135,206,250,0.063718416);\">:</span> <span style=\"background-color:rgba(135,206,250,0.3358509);\">Disneyland_HongKong</span> <span style=\"background-color:rgba(135,206,250,0.08412165);\">:</span> <span style=\"background-color:rgba(135,206,250,0.1713422);\">5</span> <span style=\"background-color:rgba(135,206,250,0.017054291);\">:</span> <span style=\"background-color:rgba(135,206,250,0.1781032);\">wow</span> <span style=\"background-color:rgba(135,206,250,0.15482523);\">!</span> <span style=\"background-color:rgba(135,206,250,0.052291848);\">it's</span> <span style=\"background-color:rgba(135,206,250,0.04385379);\">a</span> <span style=\"background-color:rgba(135,206,250,0.08286985);\">must</span> <span style=\"background-color:rgba(135,206,250,0.05073467);\">do</span> <span style=\"background-color:rgba(135,206,250,0.11519477);\">when</span> <span style=\"background-color:rgba(135,206,250,0.060843088);\">you're</span> <span style=\"background-color:rgba(135,206,250,0.104248285);\">visiting</span> <span style=\"background-color:rgba(135,206,250,0.10399724);\">los</span> <span style=\"background-color:rgba(135,206,250,0.20419113);\">angeles</span> <span style=\"background-color:rgba(135,206,250,0.17861861);\">.</span> <span style=\"background-color:rgba(135,206,250,0.08109182);\">my</span> <span style=\"background-color:rgba(135,206,250,0.19536899);\">kids</span> <span style=\"background-color:rgba(135,206,250,0.13237137);\">will</span> <span style=\"background-color:rgba(135,206,250,0.27147457);\">love</span> <span style=\"background-color:rgba(135,206,250,0.24366981);\">it</span> <span style=\"background-color:rgba(135,206,250,0.4920911);\">as</span> <span style=\"background-color:rgba(135,206,250,0.54051787);\">much</span> <span style=\"background-color:rgba(135,206,250,0.96585387);\">as</span> <span style=\"background-color:rgba(135,206,250,1.0);\">we</span> <span style=\"background-color:rgba(135,206,250,0.62383837);\">did</span>"
            ],
            "text/plain": [
              "<IPython.core.display.HTML object>"
            ]
          },
          "metadata": {},
          "output_type": "display_data"
        },
        {
          "name": "stdout",
          "output_type": "stream",
          "text": [
            ".:   \t18.8%\n",
            "!:   \t8.65%\n",
            "not:   \t7.2%\n",
            "we:   \t6.71%\n",
            "the:   \t6.35%\n",
            "--------\n",
            "\n"
          ]
        },
        {
          "data": {
            "text/html": [
              "<span style=\"background-color:rgba(135,206,250,0.013002216);\">Disneyland</span> <span style=\"background-color:rgba(135,206,250,0.11214266);\">review</span> <span style=\"background-color:rgba(135,206,250,0.031185878);\">:</span> <span style=\"background-color:rgba(135,206,250,0.047814965);\">United</span> <span style=\"background-color:rgba(135,206,250,0.07711004);\">States</span> <span style=\"background-color:rgba(135,206,250,0.027215714);\">:</span> <span style=\"background-color:rgba(135,206,250,0.12904134);\">Disneyland_HongKong</span> <span style=\"background-color:rgba(135,206,250,0.028504506);\">:</span> <span style=\"background-color:rgba(135,206,250,0.05892955);\">5</span> <span style=\"background-color:rgba(135,206,250,0.007981372);\">:</span> <span style=\"background-color:rgba(135,206,250,0.079786465);\">wow</span> <span style=\"background-color:rgba(135,206,250,0.051885415);\">!</span> <span style=\"background-color:rgba(135,206,250,0.030737836);\">it's</span> <span style=\"background-color:rgba(135,206,250,0.012784536);\">a</span> <span style=\"background-color:rgba(135,206,250,0.04879882);\">must</span> <span style=\"background-color:rgba(135,206,250,0.043050677);\">do</span> <span style=\"background-color:rgba(135,206,250,0.03298125);\">when</span> <span style=\"background-color:rgba(135,206,250,0.051848687);\">you're</span> <span style=\"background-color:rgba(135,206,250,0.06600007);\">visiting</span> <span style=\"background-color:rgba(135,206,250,0.06682078);\">los</span> <span style=\"background-color:rgba(135,206,250,0.1827208);\">angeles</span> <span style=\"background-color:rgba(135,206,250,0.055907175);\">.</span> <span style=\"background-color:rgba(135,206,250,0.025482034);\">my</span> <span style=\"background-color:rgba(135,206,250,0.16495186);\">kids</span> <span style=\"background-color:rgba(135,206,250,0.10242098);\">will</span> <span style=\"background-color:rgba(135,206,250,0.11707598);\">love</span> <span style=\"background-color:rgba(135,206,250,0.08990111);\">it</span> <span style=\"background-color:rgba(135,206,250,0.19399749);\">as</span> <span style=\"background-color:rgba(135,206,250,0.1301179);\">much</span> <span style=\"background-color:rgba(135,206,250,0.42397296);\">as</span> <span style=\"background-color:rgba(135,206,250,0.20633627);\">we</span> <span style=\"background-color:rgba(135,206,250,1.0);\">did</span> <span style=\"background-color:rgba(135,206,250,0.16596127);\">my</span>"
            ],
            "text/plain": [
              "<IPython.core.display.HTML object>"
            ]
          },
          "metadata": {},
          "output_type": "display_data"
        },
        {
          "name": "stdout",
          "output_type": "stream",
          "text": [
            "kids:   \t12.28%\n",
            "daughter:   \t10.94%\n",
            "research:   \t10.01%\n",
            "[UNK]:   \t6.07%\n",
            "first:   \t4.09%\n",
            "--------\n",
            "\n"
          ]
        },
        {
          "data": {
            "text/html": [
              "<span style=\"background-color:rgba(135,206,250,0.039499797);\">Disneyland</span> <span style=\"background-color:rgba(135,206,250,0.23068747);\">review</span> <span style=\"background-color:rgba(135,206,250,0.06994663);\">:</span> <span style=\"background-color:rgba(135,206,250,0.09811255);\">United</span> <span style=\"background-color:rgba(135,206,250,0.12341793);\">States</span> <span style=\"background-color:rgba(135,206,250,0.08487757);\">:</span> <span style=\"background-color:rgba(135,206,250,0.21312195);\">Disneyland_HongKong</span> <span style=\"background-color:rgba(135,206,250,0.088111445);\">:</span> <span style=\"background-color:rgba(135,206,250,0.09641057);\">5</span> <span style=\"background-color:rgba(135,206,250,0.028895432);\">:</span> <span style=\"background-color:rgba(135,206,250,0.11916606);\">wow</span> <span style=\"background-color:rgba(135,206,250,0.13169701);\">!</span> <span style=\"background-color:rgba(135,206,250,0.045310482);\">it's</span> <span style=\"background-color:rgba(135,206,250,0.04347237);\">a</span> <span style=\"background-color:rgba(135,206,250,0.08021801);\">must</span> <span style=\"background-color:rgba(135,206,250,0.071909465);\">do</span> <span style=\"background-color:rgba(135,206,250,0.08958934);\">when</span> <span style=\"background-color:rgba(135,206,250,0.058417693);\">you're</span> <span style=\"background-color:rgba(135,206,250,0.11694998);\">visiting</span> <span style=\"background-color:rgba(135,206,250,0.123757474);\">los</span> <span style=\"background-color:rgba(135,206,250,0.23862682);\">angeles</span> <span style=\"background-color:rgba(135,206,250,0.13263746);\">.</span> <span style=\"background-color:rgba(135,206,250,0.05706884);\">my</span> <span style=\"background-color:rgba(135,206,250,0.18446414);\">kids</span> <span style=\"background-color:rgba(135,206,250,0.1244601);\">will</span> <span style=\"background-color:rgba(135,206,250,0.15483424);\">love</span> <span style=\"background-color:rgba(135,206,250,0.18077967);\">it</span> <span style=\"background-color:rgba(135,206,250,0.26442686);\">as</span> <span style=\"background-color:rgba(135,206,250,0.14224406);\">much</span> <span style=\"background-color:rgba(135,206,250,0.51962924);\">as</span> <span style=\"background-color:rgba(135,206,250,0.8167172);\">we</span> <span style=\"background-color:rgba(135,206,250,0.95360756);\">did</span> <span style=\"background-color:rgba(135,206,250,1.0);\">my</span> <span style=\"background-color:rgba(135,206,250,0.4334745);\">first</span>"
            ],
            "text/plain": [
              "<IPython.core.display.HTML object>"
            ]
          },
          "metadata": {},
          "output_type": "display_data"
        },
        {
          "name": "stdout",
          "output_type": "stream",
          "text": [
            "visit:   \t45.51%\n",
            "time:   \t12.99%\n",
            "trip:   \t4.53%\n",
            "[UNK]:   \t3.23%\n",
            "family:   \t2.68%\n",
            "--------\n",
            "\n"
          ]
        },
        {
          "data": {
            "text/html": [
              "<span style=\"background-color:rgba(135,206,250,0.053090453);\">Disneyland</span> <span style=\"background-color:rgba(135,206,250,0.2768005);\">review</span> <span style=\"background-color:rgba(135,206,250,0.08358669);\">:</span> <span style=\"background-color:rgba(135,206,250,0.09403626);\">United</span> <span style=\"background-color:rgba(135,206,250,0.11803177);\">States</span> <span style=\"background-color:rgba(135,206,250,0.0864033);\">:</span> <span style=\"background-color:rgba(135,206,250,0.17992258);\">Disneyland_HongKong</span> <span style=\"background-color:rgba(135,206,250,0.094421454);\">:</span> <span style=\"background-color:rgba(135,206,250,0.112817906);\">5</span> <span style=\"background-color:rgba(135,206,250,0.042643618);\">:</span> <span style=\"background-color:rgba(135,206,250,0.15552019);\">wow</span> <span style=\"background-color:rgba(135,206,250,0.15938948);\">!</span> <span style=\"background-color:rgba(135,206,250,0.060393758);\">it's</span> <span style=\"background-color:rgba(135,206,250,0.0617689);\">a</span> <span style=\"background-color:rgba(135,206,250,0.097445205);\">must</span> <span style=\"background-color:rgba(135,206,250,0.07889684);\">do</span> <span style=\"background-color:rgba(135,206,250,0.11233812);\">when</span> <span style=\"background-color:rgba(135,206,250,0.07762995);\">you're</span> <span style=\"background-color:rgba(135,206,250,0.13499859);\">visiting</span> <span style=\"background-color:rgba(135,206,250,0.13884756);\">los</span> <span style=\"background-color:rgba(135,206,250,0.26233622);\">angeles</span> <span style=\"background-color:rgba(135,206,250,0.17808191);\">.</span> <span style=\"background-color:rgba(135,206,250,0.09872955);\">my</span> <span style=\"background-color:rgba(135,206,250,0.21616502);\">kids</span> <span style=\"background-color:rgba(135,206,250,0.17236096);\">will</span> <span style=\"background-color:rgba(135,206,250,0.2658831);\">love</span> <span style=\"background-color:rgba(135,206,250,0.19492532);\">it</span> <span style=\"background-color:rgba(135,206,250,0.33601978);\">as</span> <span style=\"background-color:rgba(135,206,250,0.1932464);\">much</span> <span style=\"background-color:rgba(135,206,250,0.550667);\">as</span> <span style=\"background-color:rgba(135,206,250,0.67286885);\">we</span> <span style=\"background-color:rgba(135,206,250,0.9835293);\">did</span> <span style=\"background-color:rgba(135,206,250,0.88572115);\">my</span> <span style=\"background-color:rgba(135,206,250,1.0);\">first</span> <span style=\"background-color:rgba(135,206,250,0.71277386);\">ever</span>"
            ],
            "text/plain": [
              "<IPython.core.display.HTML object>"
            ]
          },
          "metadata": {},
          "output_type": "display_data"
        },
        {
          "name": "stdout",
          "output_type": "stream",
          "text": [
            ".:   \t28.86%\n",
            "!:   \t22.79%\n",
            "visit:   \t11.45%\n",
            "and:   \t6.28%\n",
            ",:   \t4.17%\n",
            "--------\n",
            "\n"
          ]
        },
        {
          "data": {
            "text/html": [
              "<span style=\"background-color:rgba(135,206,250,0.040401738);\">Disneyland</span> <span style=\"background-color:rgba(135,206,250,0.14707884);\">review</span> <span style=\"background-color:rgba(135,206,250,0.087975666);\">:</span> <span style=\"background-color:rgba(135,206,250,0.21550713);\">United</span> <span style=\"background-color:rgba(135,206,250,0.28662527);\">States</span> <span style=\"background-color:rgba(135,206,250,0.087358974);\">:</span> <span style=\"background-color:rgba(135,206,250,0.5034573);\">Disneyland_HongKong</span> <span style=\"background-color:rgba(135,206,250,0.05250788);\">:</span> <span style=\"background-color:rgba(135,206,250,0.36832494);\">5</span> <span style=\"background-color:rgba(135,206,250,0.017520802);\">:</span> <span style=\"background-color:rgba(135,206,250,0.27135137);\">wow</span> <span style=\"background-color:rgba(135,206,250,0.16126762);\">!</span> <span style=\"background-color:rgba(135,206,250,0.19483341);\">it's</span> <span style=\"background-color:rgba(135,206,250,0.044652645);\">a</span> <span style=\"background-color:rgba(135,206,250,0.11530394);\">must</span> <span style=\"background-color:rgba(135,206,250,0.08647599);\">do</span> <span style=\"background-color:rgba(135,206,250,0.079983115);\">when</span> <span style=\"background-color:rgba(135,206,250,0.21443243);\">you're</span> <span style=\"background-color:rgba(135,206,250,0.12182758);\">visiting</span> <span style=\"background-color:rgba(135,206,250,0.122629575);\">los</span> <span style=\"background-color:rgba(135,206,250,0.25323713);\">angeles</span> <span style=\"background-color:rgba(135,206,250,0.18647641);\">.</span> <span style=\"background-color:rgba(135,206,250,0.14048216);\">my</span> <span style=\"background-color:rgba(135,206,250,0.29486725);\">kids</span> <span style=\"background-color:rgba(135,206,250,0.22197832);\">will</span> <span style=\"background-color:rgba(135,206,250,0.21834515);\">love</span> <span style=\"background-color:rgba(135,206,250,0.16931184);\">it</span> <span style=\"background-color:rgba(135,206,250,0.116501346);\">as</span> <span style=\"background-color:rgba(135,206,250,0.20764065);\">much</span> <span style=\"background-color:rgba(135,206,250,0.1477994);\">as</span> <span style=\"background-color:rgba(135,206,250,0.31627977);\">we</span> <span style=\"background-color:rgba(135,206,250,0.326407);\">did</span> <span style=\"background-color:rgba(135,206,250,0.3719673);\">my</span> <span style=\"background-color:rgba(135,206,250,0.38845113);\">first</span> <span style=\"background-color:rgba(135,206,250,0.72964823);\">ever</span> <span style=\"background-color:rgba(135,206,250,1.0);\">.</span>"
            ],
            "text/plain": [
              "<IPython.core.display.HTML object>"
            ]
          },
          "metadata": {},
          "output_type": "display_data"
        },
        {
          "name": "stdout",
          "output_type": "stream",
          "text": [
            ":   \t15.26%\n",
            "the:   \t9.56%\n",
            "i:   \t7.78%\n",
            "we:   \t6.36%\n",
            "it:   \t4.94%\n",
            "--------\n",
            "\n"
          ]
        },
        {
          "data": {
            "text/html": [
              "<span style=\"background-color:rgba(135,206,250,0.010129588);\">Disneyland</span> <span style=\"background-color:rgba(135,206,250,0.07784889);\">review</span> <span style=\"background-color:rgba(135,206,250,0.027412273);\">:</span> <span style=\"background-color:rgba(135,206,250,0.03711405);\">United</span> <span style=\"background-color:rgba(135,206,250,0.058892135);\">States</span> <span style=\"background-color:rgba(135,206,250,0.024266059);\">:</span> <span style=\"background-color:rgba(135,206,250,0.11128363);\">Disneyland_HongKong</span> <span style=\"background-color:rgba(135,206,250,0.026580319);\">:</span> <span style=\"background-color:rgba(135,206,250,0.0649255);\">5</span> <span style=\"background-color:rgba(135,206,250,0.006112831);\">:</span> <span style=\"background-color:rgba(135,206,250,0.060677785);\">wow</span> <span style=\"background-color:rgba(135,206,250,0.037991393);\">!</span> <span style=\"background-color:rgba(135,206,250,0.02503812);\">it's</span> <span style=\"background-color:rgba(135,206,250,0.010043276);\">a</span> <span style=\"background-color:rgba(135,206,250,0.031658318);\">must</span> <span style=\"background-color:rgba(135,206,250,0.044511102);\">do</span> <span style=\"background-color:rgba(135,206,250,0.02713058);\">when</span> <span style=\"background-color:rgba(135,206,250,0.052907452);\">you're</span> <span style=\"background-color:rgba(135,206,250,0.05230599);\">visiting</span> <span style=\"background-color:rgba(135,206,250,0.066854104);\">los</span> <span style=\"background-color:rgba(135,206,250,0.14064217);\">angeles</span> <span style=\"background-color:rgba(135,206,250,0.035816193);\">.</span> <span style=\"background-color:rgba(135,206,250,0.037087865);\">my</span> <span style=\"background-color:rgba(135,206,250,0.11907462);\">kids</span> <span style=\"background-color:rgba(135,206,250,0.0587395);\">will</span> <span style=\"background-color:rgba(135,206,250,0.05310596);\">love</span> <span style=\"background-color:rgba(135,206,250,0.04484698);\">it</span> <span style=\"background-color:rgba(135,206,250,0.061994337);\">as</span> <span style=\"background-color:rgba(135,206,250,0.048289772);\">much</span> <span style=\"background-color:rgba(135,206,250,0.11959989);\">as</span> <span style=\"background-color:rgba(135,206,250,0.13955252);\">we</span> <span style=\"background-color:rgba(135,206,250,0.17627788);\">did</span> <span style=\"background-color:rgba(135,206,250,0.12793562);\">my</span> <span style=\"background-color:rgba(135,206,250,0.19572182);\">first</span> <span style=\"background-color:rgba(135,206,250,0.49525103);\">ever</span> <span style=\"background-color:rgba(135,206,250,1.0);\">.</span> <span style=\"background-color:rgba(135,206,250,0.12127301);\">a</span>"
            ],
            "text/plain": [
              "<IPython.core.display.HTML object>"
            ]
          },
          "metadata": {},
          "output_type": "display_data"
        },
        {
          "name": "stdout",
          "output_type": "stream",
          "text": [
            "must:   \t17.65%\n",
            "good:   \t5.18%\n",
            "great:   \t4.7%\n",
            "lot:   \t4.66%\n",
            "couple:   \t4.35%\n",
            "--------\n",
            "\n"
          ]
        },
        {
          "data": {
            "text/html": [
              "<span style=\"background-color:rgba(135,206,250,0.024773486);\">Disneyland</span> <span style=\"background-color:rgba(135,206,250,0.119276926);\">review</span> <span style=\"background-color:rgba(135,206,250,0.041836042);\">:</span> <span style=\"background-color:rgba(135,206,250,0.0833714);\">United</span> <span style=\"background-color:rgba(135,206,250,0.109603904);\">States</span> <span style=\"background-color:rgba(135,206,250,0.053072117);\">:</span> <span style=\"background-color:rgba(135,206,250,0.18240814);\">Disneyland_HongKong</span> <span style=\"background-color:rgba(135,206,250,0.059537746);\">:</span> <span style=\"background-color:rgba(135,206,250,0.14119148);\">5</span> <span style=\"background-color:rgba(135,206,250,0.01386673);\">:</span> <span style=\"background-color:rgba(135,206,250,0.08076082);\">wow</span> <span style=\"background-color:rgba(135,206,250,0.09996791);\">!</span> <span style=\"background-color:rgba(135,206,250,0.033655554);\">it's</span> <span style=\"background-color:rgba(135,206,250,0.031763155);\">a</span> <span style=\"background-color:rgba(135,206,250,0.045720674);\">must</span> <span style=\"background-color:rgba(135,206,250,0.042190947);\">do</span> <span style=\"background-color:rgba(135,206,250,0.038469147);\">when</span> <span style=\"background-color:rgba(135,206,250,0.03730255);\">you're</span> <span style=\"background-color:rgba(135,206,250,0.05891903);\">visiting</span> <span style=\"background-color:rgba(135,206,250,0.075828895);\">los</span> <span style=\"background-color:rgba(135,206,250,0.115394495);\">angeles</span> <span style=\"background-color:rgba(135,206,250,0.085127644);\">.</span> <span style=\"background-color:rgba(135,206,250,0.05657578);\">my</span> <span style=\"background-color:rgba(135,206,250,0.11428304);\">kids</span> <span style=\"background-color:rgba(135,206,250,0.06786892);\">will</span> <span style=\"background-color:rgba(135,206,250,0.078158475);\">love</span> <span style=\"background-color:rgba(135,206,250,0.076498024);\">it</span> <span style=\"background-color:rgba(135,206,250,0.08021056);\">as</span> <span style=\"background-color:rgba(135,206,250,0.07261675);\">much</span> <span style=\"background-color:rgba(135,206,250,0.12342012);\">as</span> <span style=\"background-color:rgba(135,206,250,0.1920861);\">we</span> <span style=\"background-color:rgba(135,206,250,0.19226748);\">did</span> <span style=\"background-color:rgba(135,206,250,0.30472127);\">my</span> <span style=\"background-color:rgba(135,206,250,0.20717928);\">first</span> <span style=\"background-color:rgba(135,206,250,0.18778737);\">ever</span> <span style=\"background-color:rgba(135,206,250,1.0);\">.</span> <span style=\"background-color:rgba(135,206,250,0.63092566);\">a</span> <span style=\"background-color:rgba(135,206,250,0.5790657);\">wow</span>"
            ],
            "text/plain": [
              "<IPython.core.display.HTML object>"
            ]
          },
          "metadata": {},
          "output_type": "display_data"
        },
        {
          "name": "stdout",
          "output_type": "stream",
          "text": [
            "!:   \t27.5%\n",
            ",:   \t13.8%\n",
            "[UNK]:   \t8.9%\n",
            ".:   \t7.92%\n",
            "what:   \t3.61%\n",
            "--------\n",
            "\n"
          ]
        },
        {
          "data": {
            "text/html": [
              "<span style=\"background-color:rgba(135,206,250,0.02314201);\">Disneyland</span> <span style=\"background-color:rgba(135,206,250,0.07653592);\">review</span> <span style=\"background-color:rgba(135,206,250,0.043144807);\">:</span> <span style=\"background-color:rgba(135,206,250,0.12974788);\">United</span> <span style=\"background-color:rgba(135,206,250,0.16571482);\">States</span> <span style=\"background-color:rgba(135,206,250,0.04216282);\">:</span> <span style=\"background-color:rgba(135,206,250,0.26810846);\">Disneyland_HongKong</span> <span style=\"background-color:rgba(135,206,250,0.03149367);\">:</span> <span style=\"background-color:rgba(135,206,250,0.22317715);\">5</span> <span style=\"background-color:rgba(135,206,250,0.010025474);\">:</span> <span style=\"background-color:rgba(135,206,250,0.15823299);\">wow</span> <span style=\"background-color:rgba(135,206,250,0.09493173);\">!</span> <span style=\"background-color:rgba(135,206,250,0.12049845);\">it's</span> <span style=\"background-color:rgba(135,206,250,0.024975438);\">a</span> <span style=\"background-color:rgba(135,206,250,0.067764536);\">must</span> <span style=\"background-color:rgba(135,206,250,0.048191402);\">do</span> <span style=\"background-color:rgba(135,206,250,0.04569978);\">when</span> <span style=\"background-color:rgba(135,206,250,0.12359671);\">you're</span> <span style=\"background-color:rgba(135,206,250,0.06777617);\">visiting</span> <span style=\"background-color:rgba(135,206,250,0.061696827);\">los</span> <span style=\"background-color:rgba(135,206,250,0.11962945);\">angeles</span> <span style=\"background-color:rgba(135,206,250,0.08328105);\">.</span> <span style=\"background-color:rgba(135,206,250,0.06525637);\">my</span> <span style=\"background-color:rgba(135,206,250,0.12494069);\">kids</span> <span style=\"background-color:rgba(135,206,250,0.1132747);\">will</span> <span style=\"background-color:rgba(135,206,250,0.11310674);\">love</span> <span style=\"background-color:rgba(135,206,250,0.07067209);\">it</span> <span style=\"background-color:rgba(135,206,250,0.05177947);\">as</span> <span style=\"background-color:rgba(135,206,250,0.07986422);\">much</span> <span style=\"background-color:rgba(135,206,250,0.06098162);\">as</span> <span style=\"background-color:rgba(135,206,250,0.12798138);\">we</span> <span style=\"background-color:rgba(135,206,250,0.13538848);\">did</span> <span style=\"background-color:rgba(135,206,250,0.13086422);\">my</span> <span style=\"background-color:rgba(135,206,250,0.15193613);\">first</span> <span style=\"background-color:rgba(135,206,250,0.23195563);\">ever</span> <span style=\"background-color:rgba(135,206,250,0.30049062);\">.</span> <span style=\"background-color:rgba(135,206,250,0.13926482);\">a</span> <span style=\"background-color:rgba(135,206,250,1.0);\">wow</span> <span style=\"background-color:rgba(135,206,250,0.44110334);\">.</span>"
            ],
            "text/plain": [
              "<IPython.core.display.HTML object>"
            ]
          },
          "metadata": {},
          "output_type": "display_data"
        },
        {
          "name": "stdout",
          "output_type": "stream",
          "text": [
            ".:   \t17.58%\n",
            ":   \t17.56%\n",
            "the:   \t10.69%\n",
            "it:   \t5.17%\n",
            "i:   \t3.69%\n",
            "--------\n",
            "\n"
          ]
        },
        {
          "data": {
            "text/html": [
              "<span style=\"background-color:rgba(135,206,250,0.008665044);\">Disneyland</span> <span style=\"background-color:rgba(135,206,250,0.04990087);\">review</span> <span style=\"background-color:rgba(135,206,250,0.013471523);\">:</span> <span style=\"background-color:rgba(135,206,250,0.032416947);\">United</span> <span style=\"background-color:rgba(135,206,250,0.043039415);\">States</span> <span style=\"background-color:rgba(135,206,250,0.010364117);\">:</span> <span style=\"background-color:rgba(135,206,250,0.06997032);\">Disneyland_HongKong</span> <span style=\"background-color:rgba(135,206,250,0.014879589);\">:</span> <span style=\"background-color:rgba(135,206,250,0.047601335);\">5</span> <span style=\"background-color:rgba(135,206,250,0.003880239);\">:</span> <span style=\"background-color:rgba(135,206,250,0.057637785);\">wow</span> <span style=\"background-color:rgba(135,206,250,0.042078998);\">!</span> <span style=\"background-color:rgba(135,206,250,0.053322386);\">it's</span> <span style=\"background-color:rgba(135,206,250,0.009913624);\">a</span> <span style=\"background-color:rgba(135,206,250,0.032380246);\">must</span> <span style=\"background-color:rgba(135,206,250,0.023022706);\">do</span> <span style=\"background-color:rgba(135,206,250,0.03876709);\">when</span> <span style=\"background-color:rgba(135,206,250,0.08994225);\">you're</span> <span style=\"background-color:rgba(135,206,250,0.040767767);\">visiting</span> <span style=\"background-color:rgba(135,206,250,0.026358632);\">los</span> <span style=\"background-color:rgba(135,206,250,0.046377998);\">angeles</span> <span style=\"background-color:rgba(135,206,250,0.028301926);\">.</span> <span style=\"background-color:rgba(135,206,250,0.022962904);\">my</span> <span style=\"background-color:rgba(135,206,250,0.06365319);\">kids</span> <span style=\"background-color:rgba(135,206,250,0.053174123);\">will</span> <span style=\"background-color:rgba(135,206,250,0.04514828);\">love</span> <span style=\"background-color:rgba(135,206,250,0.018311828);\">it</span> <span style=\"background-color:rgba(135,206,250,0.02495032);\">as</span> <span style=\"background-color:rgba(135,206,250,0.02151388);\">much</span> <span style=\"background-color:rgba(135,206,250,0.03142988);\">as</span> <span style=\"background-color:rgba(135,206,250,0.051186267);\">we</span> <span style=\"background-color:rgba(135,206,250,0.12566043);\">did</span> <span style=\"background-color:rgba(135,206,250,0.05729735);\">my</span> <span style=\"background-color:rgba(135,206,250,0.094395354);\">first</span> <span style=\"background-color:rgba(135,206,250,0.09607784);\">ever</span> <span style=\"background-color:rgba(135,206,250,0.2319293);\">.</span> <span style=\"background-color:rgba(135,206,250,0.09460914);\">a</span> <span style=\"background-color:rgba(135,206,250,0.35251242);\">wow</span> <span style=\"background-color:rgba(135,206,250,1.0);\">.</span> <span style=\"background-color:rgba(135,206,250,0.21382616);\">it</span>"
            ],
            "text/plain": [
              "<IPython.core.display.HTML object>"
            ]
          },
          "metadata": {},
          "output_type": "display_data"
        },
        {
          "name": "stdout",
          "output_type": "stream",
          "text": [
            "was:   \t40.13%\n",
            "is:   \t35.87%\n",
            "has:   \t5.03%\n",
            "really:   \t2.13%\n",
            "s:   \t1.78%\n",
            "--------\n",
            "\n"
          ]
        },
        {
          "data": {
            "text/html": [
              "<span style=\"background-color:rgba(135,206,250,0.017364798);\">Disneyland</span> <span style=\"background-color:rgba(135,206,250,0.10150358);\">review</span> <span style=\"background-color:rgba(135,206,250,0.03410901);\">:</span> <span style=\"background-color:rgba(135,206,250,0.072269596);\">United</span> <span style=\"background-color:rgba(135,206,250,0.10254127);\">States</span> <span style=\"background-color:rgba(135,206,250,0.03690719);\">:</span> <span style=\"background-color:rgba(135,206,250,0.16405474);\">Disneyland_HongKong</span> <span style=\"background-color:rgba(135,206,250,0.046740443);\">:</span> <span style=\"background-color:rgba(135,206,250,0.114736475);\">5</span> <span style=\"background-color:rgba(135,206,250,0.010479583);\">:</span> <span style=\"background-color:rgba(135,206,250,0.11061808);\">wow</span> <span style=\"background-color:rgba(135,206,250,0.074456014);\">!</span> <span style=\"background-color:rgba(135,206,250,0.027857285);\">it's</span> <span style=\"background-color:rgba(135,206,250,0.025983425);\">a</span> <span style=\"background-color:rgba(135,206,250,0.044282828);\">must</span> <span style=\"background-color:rgba(135,206,250,0.045384232);\">do</span> <span style=\"background-color:rgba(135,206,250,0.064974695);\">when</span> <span style=\"background-color:rgba(135,206,250,0.043023407);\">you're</span> <span style=\"background-color:rgba(135,206,250,0.07697935);\">visiting</span> <span style=\"background-color:rgba(135,206,250,0.081716105);\">los</span> <span style=\"background-color:rgba(135,206,250,0.14448784);\">angeles</span> <span style=\"background-color:rgba(135,206,250,0.05132045);\">.</span> <span style=\"background-color:rgba(135,206,250,0.056671713);\">my</span> <span style=\"background-color:rgba(135,206,250,0.092267826);\">kids</span> <span style=\"background-color:rgba(135,206,250,0.036898155);\">will</span> <span style=\"background-color:rgba(135,206,250,0.088173);\">love</span> <span style=\"background-color:rgba(135,206,250,0.035189178);\">it</span> <span style=\"background-color:rgba(135,206,250,0.05305077);\">as</span> <span style=\"background-color:rgba(135,206,250,0.08211912);\">much</span> <span style=\"background-color:rgba(135,206,250,0.07662159);\">as</span> <span style=\"background-color:rgba(135,206,250,0.07398981);\">we</span> <span style=\"background-color:rgba(135,206,250,0.11350283);\">did</span> <span style=\"background-color:rgba(135,206,250,0.123538636);\">my</span> <span style=\"background-color:rgba(135,206,250,0.21607304);\">first</span> <span style=\"background-color:rgba(135,206,250,0.3242223);\">ever</span> <span style=\"background-color:rgba(135,206,250,0.32280463);\">.</span> <span style=\"background-color:rgba(135,206,250,0.15452847);\">a</span> <span style=\"background-color:rgba(135,206,250,1.0);\">wow</span> <span style=\"background-color:rgba(135,206,250,0.92964095);\">.</span> <span style=\"background-color:rgba(135,206,250,0.8416998);\">it</span> <span style=\"background-color:rgba(135,206,250,0.14969108);\">is</span>"
            ],
            "text/plain": [
              "<IPython.core.display.HTML object>"
            ]
          },
          "metadata": {},
          "output_type": "display_data"
        },
        {
          "name": "stdout",
          "output_type": "stream",
          "text": [
            "a:   \t19.09%\n",
            "so:   \t8.19%\n",
            "the:   \t7.56%\n",
            "amazing:   \t3.25%\n",
            "very:   \t2.93%\n",
            "--------\n",
            "\n"
          ]
        },
        {
          "data": {
            "text/html": [
              "<span style=\"background-color:rgba(135,206,250,0.025496474);\">Disneyland</span> <span style=\"background-color:rgba(135,206,250,0.076327994);\">review</span> <span style=\"background-color:rgba(135,206,250,0.030821772);\">:</span> <span style=\"background-color:rgba(135,206,250,0.09196857);\">United</span> <span style=\"background-color:rgba(135,206,250,0.1234144);\">States</span> <span style=\"background-color:rgba(135,206,250,0.044027142);\">:</span> <span style=\"background-color:rgba(135,206,250,0.15542902);\">Disneyland_HongKong</span> <span style=\"background-color:rgba(135,206,250,0.047487903);\">:</span> <span style=\"background-color:rgba(135,206,250,0.074603036);\">5</span> <span style=\"background-color:rgba(135,206,250,0.011283683);\">:</span> <span style=\"background-color:rgba(135,206,250,0.052230325);\">wow</span> <span style=\"background-color:rgba(135,206,250,0.084162824);\">!</span> <span style=\"background-color:rgba(135,206,250,0.03815578);\">it's</span> <span style=\"background-color:rgba(135,206,250,0.040333543);\">a</span> <span style=\"background-color:rgba(135,206,250,0.0502884);\">must</span> <span style=\"background-color:rgba(135,206,250,0.029131886);\">do</span> <span style=\"background-color:rgba(135,206,250,0.060550246);\">when</span> <span style=\"background-color:rgba(135,206,250,0.044101134);\">you're</span> <span style=\"background-color:rgba(135,206,250,0.05535388);\">visiting</span> <span style=\"background-color:rgba(135,206,250,0.034287542);\">los</span> <span style=\"background-color:rgba(135,206,250,0.05755041);\">angeles</span> <span style=\"background-color:rgba(135,206,250,0.060826268);\">.</span> <span style=\"background-color:rgba(135,206,250,0.019433055);\">my</span> <span style=\"background-color:rgba(135,206,250,0.056717414);\">kids</span> <span style=\"background-color:rgba(135,206,250,0.052523233);\">will</span> <span style=\"background-color:rgba(135,206,250,0.060647268);\">love</span> <span style=\"background-color:rgba(135,206,250,0.048832487);\">it</span> <span style=\"background-color:rgba(135,206,250,0.056534328);\">as</span> <span style=\"background-color:rgba(135,206,250,0.060645547);\">much</span> <span style=\"background-color:rgba(135,206,250,0.074081406);\">as</span> <span style=\"background-color:rgba(135,206,250,0.07691674);\">we</span> <span style=\"background-color:rgba(135,206,250,0.09046786);\">did</span> <span style=\"background-color:rgba(135,206,250,0.07475702);\">my</span> <span style=\"background-color:rgba(135,206,250,0.06852891);\">first</span> <span style=\"background-color:rgba(135,206,250,0.081739396);\">ever</span> <span style=\"background-color:rgba(135,206,250,0.37573677);\">.</span> <span style=\"background-color:rgba(135,206,250,0.23982911);\">a</span> <span style=\"background-color:rgba(135,206,250,0.19814678);\">wow</span> <span style=\"background-color:rgba(135,206,250,1.0);\">.</span> <span style=\"background-color:rgba(135,206,250,0.49825457);\">it</span> <span style=\"background-color:rgba(135,206,250,0.44405845);\">is</span> <span style=\"background-color:rgba(135,206,250,0.32491112);\">expensive</span>"
            ],
            "text/plain": [
              "<IPython.core.display.HTML object>"
            ]
          },
          "metadata": {},
          "output_type": "display_data"
        },
        {
          "name": "stdout",
          "output_type": "stream",
          "text": [
            "but:   \t36.79%\n",
            "and:   \t10.88%\n",
            ",:   \t9.63%\n",
            "for:   \t5.99%\n",
            ":   \t5.35%\n",
            "--------\n",
            "\n"
          ]
        },
        {
          "data": {
            "text/html": [
              "<span style=\"background-color:rgba(135,206,250,0.019371592);\">Disneyland</span> <span style=\"background-color:rgba(135,206,250,0.09034797);\">review</span> <span style=\"background-color:rgba(135,206,250,0.03568055);\">:</span> <span style=\"background-color:rgba(135,206,250,0.066518724);\">United</span> <span style=\"background-color:rgba(135,206,250,0.097296745);\">States</span> <span style=\"background-color:rgba(135,206,250,0.038228497);\">:</span> <span style=\"background-color:rgba(135,206,250,0.14699966);\">Disneyland_HongKong</span> <span style=\"background-color:rgba(135,206,250,0.04051924);\">:</span> <span style=\"background-color:rgba(135,206,250,0.07822382);\">5</span> <span style=\"background-color:rgba(135,206,250,0.009601784);\">:</span> <span style=\"background-color:rgba(135,206,250,0.057646185);\">wow</span> <span style=\"background-color:rgba(135,206,250,0.063246645);\">!</span> <span style=\"background-color:rgba(135,206,250,0.05417062);\">it's</span> <span style=\"background-color:rgba(135,206,250,0.029770924);\">a</span> <span style=\"background-color:rgba(135,206,250,0.050174277);\">must</span> <span style=\"background-color:rgba(135,206,250,0.047984295);\">do</span> <span style=\"background-color:rgba(135,206,250,0.053155407);\">when</span> <span style=\"background-color:rgba(135,206,250,0.089391924);\">you're</span> <span style=\"background-color:rgba(135,206,250,0.06779952);\">visiting</span> <span style=\"background-color:rgba(135,206,250,0.04753305);\">los</span> <span style=\"background-color:rgba(135,206,250,0.08465607);\">angeles</span> <span style=\"background-color:rgba(135,206,250,0.052952763);\">.</span> <span style=\"background-color:rgba(135,206,250,0.040025394);\">my</span> <span style=\"background-color:rgba(135,206,250,0.10342819);\">kids</span> <span style=\"background-color:rgba(135,206,250,0.06962434);\">will</span> <span style=\"background-color:rgba(135,206,250,0.06772517);\">love</span> <span style=\"background-color:rgba(135,206,250,0.051583014);\">it</span> <span style=\"background-color:rgba(135,206,250,0.05209926);\">as</span> <span style=\"background-color:rgba(135,206,250,0.051696602);\">much</span> <span style=\"background-color:rgba(135,206,250,0.06354785);\">as</span> <span style=\"background-color:rgba(135,206,250,0.09968248);\">we</span> <span style=\"background-color:rgba(135,206,250,0.15483364);\">did</span> <span style=\"background-color:rgba(135,206,250,0.11795255);\">my</span> <span style=\"background-color:rgba(135,206,250,0.11342378);\">first</span> <span style=\"background-color:rgba(135,206,250,0.1267418);\">ever</span> <span style=\"background-color:rgba(135,206,250,0.27780658);\">.</span> <span style=\"background-color:rgba(135,206,250,0.21707608);\">a</span> <span style=\"background-color:rgba(135,206,250,0.29731992);\">wow</span> <span style=\"background-color:rgba(135,206,250,0.6762822);\">.</span> <span style=\"background-color:rgba(135,206,250,0.5417243);\">it</span> <span style=\"background-color:rgba(135,206,250,0.70016146);\">is</span> <span style=\"background-color:rgba(135,206,250,1.0);\">expensive</span> <span style=\"background-color:rgba(135,206,250,0.44262722);\">[UNK]</span>"
            ],
            "text/plain": [
              "<IPython.core.display.HTML object>"
            ]
          },
          "metadata": {},
          "output_type": "display_data"
        },
        {
          "name": "stdout",
          "output_type": "stream",
          "text": [
            "and:   \t15.54%\n",
            ",:   \t8.7%\n",
            "but:   \t7.38%\n",
            ".:   \t5.67%\n",
            "for:   \t4.83%\n",
            "--------\n",
            "\n"
          ]
        },
        {
          "data": {
            "text/html": [
              "<span style=\"background-color:rgba(135,206,250,0.01784946);\">Disneyland</span> <span style=\"background-color:rgba(135,206,250,0.07198897);\">review</span> <span style=\"background-color:rgba(135,206,250,0.027270518);\">:</span> <span style=\"background-color:rgba(135,206,250,0.07810535);\">United</span> <span style=\"background-color:rgba(135,206,250,0.12634735);\">States</span> <span style=\"background-color:rgba(135,206,250,0.02994828);\">:</span> <span style=\"background-color:rgba(135,206,250,0.1800225);\">Disneyland_HongKong</span> <span style=\"background-color:rgba(135,206,250,0.025164034);\">:</span> <span style=\"background-color:rgba(135,206,250,0.19645785);\">5</span> <span style=\"background-color:rgba(135,206,250,0.005779616);\">:</span> <span style=\"background-color:rgba(135,206,250,0.098579);\">wow</span> <span style=\"background-color:rgba(135,206,250,0.06745211);\">!</span> <span style=\"background-color:rgba(135,206,250,0.10539619);\">it's</span> <span style=\"background-color:rgba(135,206,250,0.019286098);\">a</span> <span style=\"background-color:rgba(135,206,250,0.045691613);\">must</span> <span style=\"background-color:rgba(135,206,250,0.051698983);\">do</span> <span style=\"background-color:rgba(135,206,250,0.026306313);\">when</span> <span style=\"background-color:rgba(135,206,250,0.14498924);\">you're</span> <span style=\"background-color:rgba(135,206,250,0.06150915);\">visiting</span> <span style=\"background-color:rgba(135,206,250,0.050126646);\">los</span> <span style=\"background-color:rgba(135,206,250,0.09418071);\">angeles</span> <span style=\"background-color:rgba(135,206,250,0.055347346);\">.</span> <span style=\"background-color:rgba(135,206,250,0.08817143);\">my</span> <span style=\"background-color:rgba(135,206,250,0.1083373);\">kids</span> <span style=\"background-color:rgba(135,206,250,0.09892749);\">will</span> <span style=\"background-color:rgba(135,206,250,0.10059826);\">love</span> <span style=\"background-color:rgba(135,206,250,0.05591137);\">it</span> <span style=\"background-color:rgba(135,206,250,0.03721773);\">as</span> <span style=\"background-color:rgba(135,206,250,0.040051404);\">much</span> <span style=\"background-color:rgba(135,206,250,0.0455329);\">as</span> <span style=\"background-color:rgba(135,206,250,0.14721645);\">we</span> <span style=\"background-color:rgba(135,206,250,0.1529168);\">did</span> <span style=\"background-color:rgba(135,206,250,0.17215517);\">my</span> <span style=\"background-color:rgba(135,206,250,0.14145842);\">first</span> <span style=\"background-color:rgba(135,206,250,0.119970106);\">ever</span> <span style=\"background-color:rgba(135,206,250,0.25458243);\">.</span> <span style=\"background-color:rgba(135,206,250,0.13635851);\">a</span> <span style=\"background-color:rgba(135,206,250,0.49557635);\">wow</span> <span style=\"background-color:rgba(135,206,250,0.39576757);\">.</span> <span style=\"background-color:rgba(135,206,250,0.24943998);\">it</span> <span style=\"background-color:rgba(135,206,250,0.43019792);\">is</span> <span style=\"background-color:rgba(135,206,250,1.0);\">expensive</span> <span style=\"background-color:rgba(135,206,250,0.37401506);\">[UNK]</span> <span style=\"background-color:rgba(135,206,250,0.54004896);\">but</span>"
            ],
            "text/plain": [
              "<IPython.core.display.HTML object>"
            ]
          },
          "metadata": {},
          "output_type": "display_data"
        },
        {
          "name": "stdout",
          "output_type": "stream",
          "text": [
            "worth:   \t17.7%\n",
            "it:   \t8.45%\n",
            "i:   \t6.25%\n",
            "the:   \t4.61%\n",
            "we:   \t4.39%\n",
            "--------\n",
            "\n"
          ]
        },
        {
          "data": {
            "text/html": [
              "<span style=\"background-color:rgba(135,206,250,0.022178879);\">Disneyland</span> <span style=\"background-color:rgba(135,206,250,0.07235694);\">review</span> <span style=\"background-color:rgba(135,206,250,0.043388274);\">:</span> <span style=\"background-color:rgba(135,206,250,0.057337034);\">United</span> <span style=\"background-color:rgba(135,206,250,0.0907371);\">States</span> <span style=\"background-color:rgba(135,206,250,0.033906125);\">:</span> <span style=\"background-color:rgba(135,206,250,0.10437444);\">Disneyland_HongKong</span> <span style=\"background-color:rgba(135,206,250,0.04028401);\">:</span> <span style=\"background-color:rgba(135,206,250,0.108553864);\">5</span> <span style=\"background-color:rgba(135,206,250,0.010835721);\">:</span> <span style=\"background-color:rgba(135,206,250,0.058431942);\">wow</span> <span style=\"background-color:rgba(135,206,250,0.060222797);\">!</span> <span style=\"background-color:rgba(135,206,250,0.10905539);\">it's</span> <span style=\"background-color:rgba(135,206,250,0.020692032);\">a</span> <span style=\"background-color:rgba(135,206,250,0.055979528);\">must</span> <span style=\"background-color:rgba(135,206,250,0.06052928);\">do</span> <span style=\"background-color:rgba(135,206,250,0.027587142);\">when</span> <span style=\"background-color:rgba(135,206,250,0.20280115);\">you're</span> <span style=\"background-color:rgba(135,206,250,0.06927853);\">visiting</span> <span style=\"background-color:rgba(135,206,250,0.04280795);\">los</span> <span style=\"background-color:rgba(135,206,250,0.07978041);\">angeles</span> <span style=\"background-color:rgba(135,206,250,0.048832748);\">.</span> <span style=\"background-color:rgba(135,206,250,0.06168276);\">my</span> <span style=\"background-color:rgba(135,206,250,0.1180261);\">kids</span> <span style=\"background-color:rgba(135,206,250,0.14911641);\">will</span> <span style=\"background-color:rgba(135,206,250,0.056731697);\">love</span> <span style=\"background-color:rgba(135,206,250,0.05166433);\">it</span> <span style=\"background-color:rgba(135,206,250,0.037176944);\">as</span> <span style=\"background-color:rgba(135,206,250,0.022912707);\">much</span> <span style=\"background-color:rgba(135,206,250,0.04367517);\">as</span> <span style=\"background-color:rgba(135,206,250,0.16905463);\">we</span> <span style=\"background-color:rgba(135,206,250,0.15000221);\">did</span> <span style=\"background-color:rgba(135,206,250,0.110473506);\">my</span> <span style=\"background-color:rgba(135,206,250,0.0818123);\">first</span> <span style=\"background-color:rgba(135,206,250,0.10320687);\">ever</span> <span style=\"background-color:rgba(135,206,250,0.21655379);\">.</span> <span style=\"background-color:rgba(135,206,250,0.082396746);\">a</span> <span style=\"background-color:rgba(135,206,250,0.39627957);\">wow</span> <span style=\"background-color:rgba(135,206,250,0.40159625);\">.</span> <span style=\"background-color:rgba(135,206,250,0.1556378);\">it</span> <span style=\"background-color:rgba(135,206,250,0.4756259);\">is</span> <span style=\"background-color:rgba(135,206,250,0.75269216);\">expensive</span> <span style=\"background-color:rgba(135,206,250,0.50396734);\">[UNK]</span> <span style=\"background-color:rgba(135,206,250,1.0);\">but</span> <span style=\"background-color:rgba(135,206,250,0.46829677);\">what</span>"
            ],
            "text/plain": [
              "<IPython.core.display.HTML object>"
            ]
          },
          "metadata": {},
          "output_type": "display_data"
        },
        {
          "name": "stdout",
          "output_type": "stream",
          "text": [
            "a:   \t13.55%\n",
            "you:   \t12.11%\n",
            "i:   \t10.57%\n",
            "is:   \t7.8%\n",
            "we:   \t7.03%\n",
            "--------\n",
            "\n"
          ]
        },
        {
          "data": {
            "text/html": [
              "<span style=\"background-color:rgba(135,206,250,0.00914772);\">Disneyland</span> <span style=\"background-color:rgba(135,206,250,0.049697712);\">review</span> <span style=\"background-color:rgba(135,206,250,0.012935325);\">:</span> <span style=\"background-color:rgba(135,206,250,0.045538966);\">United</span> <span style=\"background-color:rgba(135,206,250,0.070146225);\">States</span> <span style=\"background-color:rgba(135,206,250,0.018117443);\">:</span> <span style=\"background-color:rgba(135,206,250,0.103509426);\">Disneyland_HongKong</span> <span style=\"background-color:rgba(135,206,250,0.027742244);\">:</span> <span style=\"background-color:rgba(135,206,250,0.08709846);\">5</span> <span style=\"background-color:rgba(135,206,250,0.0045563905);\">:</span> <span style=\"background-color:rgba(135,206,250,0.06835394);\">wow</span> <span style=\"background-color:rgba(135,206,250,0.04780137);\">!</span> <span style=\"background-color:rgba(135,206,250,0.012853466);\">it's</span> <span style=\"background-color:rgba(135,206,250,0.009625568);\">a</span> <span style=\"background-color:rgba(135,206,250,0.021274013);\">must</span> <span style=\"background-color:rgba(135,206,250,0.01968904);\">do</span> <span style=\"background-color:rgba(135,206,250,0.027019383);\">when</span> <span style=\"background-color:rgba(135,206,250,0.015782628);\">you're</span> <span style=\"background-color:rgba(135,206,250,0.035289187);\">visiting</span> <span style=\"background-color:rgba(135,206,250,0.04420588);\">los</span> <span style=\"background-color:rgba(135,206,250,0.07183595);\">angeles</span> <span style=\"background-color:rgba(135,206,250,0.024095155);\">.</span> <span style=\"background-color:rgba(135,206,250,0.020471647);\">my</span> <span style=\"background-color:rgba(135,206,250,0.036717914);\">kids</span> <span style=\"background-color:rgba(135,206,250,0.019116025);\">will</span> <span style=\"background-color:rgba(135,206,250,0.04775961);\">love</span> <span style=\"background-color:rgba(135,206,250,0.014267452);\">it</span> <span style=\"background-color:rgba(135,206,250,0.015780784);\">as</span> <span style=\"background-color:rgba(135,206,250,0.032965783);\">much</span> <span style=\"background-color:rgba(135,206,250,0.020715538);\">as</span> <span style=\"background-color:rgba(135,206,250,0.023686646);\">we</span> <span style=\"background-color:rgba(135,206,250,0.030609155);\">did</span> <span style=\"background-color:rgba(135,206,250,0.034898553);\">my</span> <span style=\"background-color:rgba(135,206,250,0.062067226);\">first</span> <span style=\"background-color:rgba(135,206,250,0.04746328);\">ever</span> <span style=\"background-color:rgba(135,206,250,0.070390254);\">.</span> <span style=\"background-color:rgba(135,206,250,0.02802348);\">a</span> <span style=\"background-color:rgba(135,206,250,0.18831551);\">wow</span> <span style=\"background-color:rgba(135,206,250,0.12229088);\">.</span> <span style=\"background-color:rgba(135,206,250,0.09290534);\">it</span> <span style=\"background-color:rgba(135,206,250,0.033409886);\">is</span> <span style=\"background-color:rgba(135,206,250,0.3505271);\">expensive</span> <span style=\"background-color:rgba(135,206,250,0.17183474);\">[UNK]</span> <span style=\"background-color:rgba(135,206,250,0.54494053);\">but</span> <span style=\"background-color:rgba(135,206,250,1.0);\">what</span> <span style=\"background-color:rgba(135,206,250,0.110060155);\">was</span>"
            ],
            "text/plain": [
              "<IPython.core.display.HTML object>"
            ]
          },
          "metadata": {},
          "output_type": "display_data"
        },
        {
          "name": "stdout",
          "output_type": "stream",
          "text": [
            "expected:   \t10.5%\n",
            "like:   \t5.6%\n",
            "fun:   \t5.04%\n",
            "the:   \t4.63%\n",
            "great:   \t4.35%\n",
            "--------\n",
            "\n"
          ]
        },
        {
          "data": {
            "text/html": [
              "<span style=\"background-color:rgba(135,206,250,0.0122005725);\">Disneyland</span> <span style=\"background-color:rgba(135,206,250,0.04856214);\">review</span> <span style=\"background-color:rgba(135,206,250,0.01636336);\">:</span> <span style=\"background-color:rgba(135,206,250,0.055381987);\">United</span> <span style=\"background-color:rgba(135,206,250,0.080881506);\">States</span> <span style=\"background-color:rgba(135,206,250,0.018836679);\">:</span> <span style=\"background-color:rgba(135,206,250,0.10815342);\">Disneyland_HongKong</span> <span style=\"background-color:rgba(135,206,250,0.023464844);\">:</span> <span style=\"background-color:rgba(135,206,250,0.077223554);\">5</span> <span style=\"background-color:rgba(135,206,250,0.0039011573);\">:</span> <span style=\"background-color:rgba(135,206,250,0.04127857);\">wow</span> <span style=\"background-color:rgba(135,206,250,0.059767406);\">!</span> <span style=\"background-color:rgba(135,206,250,0.05347842);\">it's</span> <span style=\"background-color:rgba(135,206,250,0.012489382);\">a</span> <span style=\"background-color:rgba(135,206,250,0.031972945);\">must</span> <span style=\"background-color:rgba(135,206,250,0.019579394);\">do</span> <span style=\"background-color:rgba(135,206,250,0.0314886);\">when</span> <span style=\"background-color:rgba(135,206,250,0.07317367);\">you're</span> <span style=\"background-color:rgba(135,206,250,0.031932354);\">visiting</span> <span style=\"background-color:rgba(135,206,250,0.021731006);\">los</span> <span style=\"background-color:rgba(135,206,250,0.029248726);\">angeles</span> <span style=\"background-color:rgba(135,206,250,0.032288477);\">.</span> <span style=\"background-color:rgba(135,206,250,0.015816247);\">my</span> <span style=\"background-color:rgba(135,206,250,0.047758184);\">kids</span> <span style=\"background-color:rgba(135,206,250,0.056156125);\">will</span> <span style=\"background-color:rgba(135,206,250,0.041565437);\">love</span> <span style=\"background-color:rgba(135,206,250,0.020850394);\">it</span> <span style=\"background-color:rgba(135,206,250,0.017436184);\">as</span> <span style=\"background-color:rgba(135,206,250,0.015926138);\">much</span> <span style=\"background-color:rgba(135,206,250,0.02025892);\">as</span> <span style=\"background-color:rgba(135,206,250,0.049361035);\">we</span> <span style=\"background-color:rgba(135,206,250,0.07205056);\">did</span> <span style=\"background-color:rgba(135,206,250,0.031936117);\">my</span> <span style=\"background-color:rgba(135,206,250,0.04544395);\">first</span> <span style=\"background-color:rgba(135,206,250,0.042205896);\">ever</span> <span style=\"background-color:rgba(135,206,250,0.09163115);\">.</span> <span style=\"background-color:rgba(135,206,250,0.045011766);\">a</span> <span style=\"background-color:rgba(135,206,250,0.110203244);\">wow</span> <span style=\"background-color:rgba(135,206,250,0.16110188);\">.</span> <span style=\"background-color:rgba(135,206,250,0.061009426);\">it</span> <span style=\"background-color:rgba(135,206,250,0.24630715);\">is</span> <span style=\"background-color:rgba(135,206,250,0.25634715);\">expensive</span> <span style=\"background-color:rgba(135,206,250,0.22478315);\">[UNK]</span> <span style=\"background-color:rgba(135,206,250,0.4496434);\">but</span> <span style=\"background-color:rgba(135,206,250,0.6795981);\">what</span> <span style=\"background-color:rgba(135,206,250,1.0);\">was</span> <span style=\"background-color:rgba(135,206,250,0.31808186);\">there</span>"
            ],
            "text/plain": [
              "<IPython.core.display.HTML object>"
            ]
          },
          "metadata": {},
          "output_type": "display_data"
        },
        {
          "name": "stdout",
          "output_type": "stream",
          "text": [
            "is:   \t11.57%\n",
            "to:   \t7.35%\n",
            "are:   \t6.52%\n",
            "for:   \t6.45%\n",
            "were:   \t4.8%\n",
            "--------\n",
            "\n"
          ]
        },
        {
          "data": {
            "text/html": [
              "<span style=\"background-color:rgba(135,206,250,0.03928041);\">Disneyland</span> <span style=\"background-color:rgba(135,206,250,0.10026482);\">review</span> <span style=\"background-color:rgba(135,206,250,0.0770236);\">:</span> <span style=\"background-color:rgba(135,206,250,0.075389825);\">United</span> <span style=\"background-color:rgba(135,206,250,0.08748699);\">States</span> <span style=\"background-color:rgba(135,206,250,0.088340074);\">:</span> <span style=\"background-color:rgba(135,206,250,0.110050686);\">Disneyland_HongKong</span> <span style=\"background-color:rgba(135,206,250,0.09651386);\">:</span> <span style=\"background-color:rgba(135,206,250,0.08198189);\">5</span> <span style=\"background-color:rgba(135,206,250,0.035466276);\">:</span> <span style=\"background-color:rgba(135,206,250,0.058664504);\">wow</span> <span style=\"background-color:rgba(135,206,250,0.091335885);\">!</span> <span style=\"background-color:rgba(135,206,250,0.035814423);\">it's</span> <span style=\"background-color:rgba(135,206,250,0.0413324);\">a</span> <span style=\"background-color:rgba(135,206,250,0.055840604);\">must</span> <span style=\"background-color:rgba(135,206,250,0.036793277);\">do</span> <span style=\"background-color:rgba(135,206,250,0.06443746);\">when</span> <span style=\"background-color:rgba(135,206,250,0.04301208);\">you're</span> <span style=\"background-color:rgba(135,206,250,0.056845613);\">visiting</span> <span style=\"background-color:rgba(135,206,250,0.05214768);\">los</span> <span style=\"background-color:rgba(135,206,250,0.06331518);\">angeles</span> <span style=\"background-color:rgba(135,206,250,0.07815132);\">.</span> <span style=\"background-color:rgba(135,206,250,0.039759163);\">my</span> <span style=\"background-color:rgba(135,206,250,0.07192142);\">kids</span> <span style=\"background-color:rgba(135,206,250,0.060434427);\">will</span> <span style=\"background-color:rgba(135,206,250,0.06606708);\">love</span> <span style=\"background-color:rgba(135,206,250,0.062024847);\">it</span> <span style=\"background-color:rgba(135,206,250,0.06350883);\">as</span> <span style=\"background-color:rgba(135,206,250,0.05631644);\">much</span> <span style=\"background-color:rgba(135,206,250,0.071788974);\">as</span> <span style=\"background-color:rgba(135,206,250,0.09705538);\">we</span> <span style=\"background-color:rgba(135,206,250,0.07792239);\">did</span> <span style=\"background-color:rgba(135,206,250,0.0777536);\">my</span> <span style=\"background-color:rgba(135,206,250,0.07407334);\">first</span> <span style=\"background-color:rgba(135,206,250,0.064164065);\">ever</span> <span style=\"background-color:rgba(135,206,250,0.19527903);\">.</span> <span style=\"background-color:rgba(135,206,250,0.14369564);\">a</span> <span style=\"background-color:rgba(135,206,250,0.13759802);\">wow</span> <span style=\"background-color:rgba(135,206,250,0.3019033);\">.</span> <span style=\"background-color:rgba(135,206,250,0.20193537);\">it</span> <span style=\"background-color:rgba(135,206,250,0.13780071);\">is</span> <span style=\"background-color:rgba(135,206,250,0.3219082);\">expensive</span> <span style=\"background-color:rgba(135,206,250,0.16200012);\">[UNK]</span> <span style=\"background-color:rgba(135,206,250,0.52541083);\">but</span> <span style=\"background-color:rgba(135,206,250,1.0);\">what</span> <span style=\"background-color:rgba(135,206,250,0.3346976);\">was</span> <span style=\"background-color:rgba(135,206,250,0.9583384);\">there</span> <span style=\"background-color:rgba(135,206,250,0.3721236);\">arent</span>"
            ],
            "text/plain": [
              "<IPython.core.display.HTML object>"
            ]
          },
          "metadata": {},
          "output_type": "display_data"
        },
        {
          "name": "stdout",
          "output_type": "stream",
          "text": [
            "many:   \t25.04%\n",
            "a:   \t5.59%\n",
            "as:   \t4.7%\n",
            "too:   \t4.15%\n",
            "much:   \t4.05%\n",
            "--------\n",
            "\n"
          ]
        },
        {
          "data": {
            "text/html": [
              "<span style=\"background-color:rgba(135,206,250,0.028281592);\">Disneyland</span> <span style=\"background-color:rgba(135,206,250,0.06548167);\">review</span> <span style=\"background-color:rgba(135,206,250,0.05412438);\">:</span> <span style=\"background-color:rgba(135,206,250,0.17803599);\">United</span> <span style=\"background-color:rgba(135,206,250,0.22241774);\">States</span> <span style=\"background-color:rgba(135,206,250,0.053129777);\">:</span> <span style=\"background-color:rgba(135,206,250,0.3068964);\">Disneyland_HongKong</span> <span style=\"background-color:rgba(135,206,250,0.046281293);\">:</span> <span style=\"background-color:rgba(135,206,250,0.29960626);\">5</span> <span style=\"background-color:rgba(135,206,250,0.011585777);\">:</span> <span style=\"background-color:rgba(135,206,250,0.16585894);\">wow</span> <span style=\"background-color:rgba(135,206,250,0.116762415);\">!</span> <span style=\"background-color:rgba(135,206,250,0.14191394);\">it's</span> <span style=\"background-color:rgba(135,206,250,0.029297126);\">a</span> <span style=\"background-color:rgba(135,206,250,0.07560426);\">must</span> <span style=\"background-color:rgba(135,206,250,0.054389883);\">do</span> <span style=\"background-color:rgba(135,206,250,0.045105103);\">when</span> <span style=\"background-color:rgba(135,206,250,0.13258769);\">you're</span> <span style=\"background-color:rgba(135,206,250,0.068569385);\">visiting</span> <span style=\"background-color:rgba(135,206,250,0.066734165);\">los</span> <span style=\"background-color:rgba(135,206,250,0.10059526);\">angeles</span> <span style=\"background-color:rgba(135,206,250,0.076028585);\">.</span> <span style=\"background-color:rgba(135,206,250,0.062383074);\">my</span> <span style=\"background-color:rgba(135,206,250,0.11272501);\">kids</span> <span style=\"background-color:rgba(135,206,250,0.10001898);\">will</span> <span style=\"background-color:rgba(135,206,250,0.09909057);\">love</span> <span style=\"background-color:rgba(135,206,250,0.054746404);\">it</span> <span style=\"background-color:rgba(135,206,250,0.03493411);\">as</span> <span style=\"background-color:rgba(135,206,250,0.057009153);\">much</span> <span style=\"background-color:rgba(135,206,250,0.03982853);\">as</span> <span style=\"background-color:rgba(135,206,250,0.10633698);\">we</span> <span style=\"background-color:rgba(135,206,250,0.09817434);\">did</span> <span style=\"background-color:rgba(135,206,250,0.09280561);\">my</span> <span style=\"background-color:rgba(135,206,250,0.09874555);\">first</span> <span style=\"background-color:rgba(135,206,250,0.113165535);\">ever</span> <span style=\"background-color:rgba(135,206,250,0.17482643);\">.</span> <span style=\"background-color:rgba(135,206,250,0.07633881);\">a</span> <span style=\"background-color:rgba(135,206,250,0.45678437);\">wow</span> <span style=\"background-color:rgba(135,206,250,0.21461858);\">.</span> <span style=\"background-color:rgba(135,206,250,0.13695788);\">it</span> <span style=\"background-color:rgba(135,206,250,0.18066588);\">is</span> <span style=\"background-color:rgba(135,206,250,0.43553472);\">expensive</span> <span style=\"background-color:rgba(135,206,250,0.20078179);\">[UNK]</span> <span style=\"background-color:rgba(135,206,250,0.35604778);\">but</span> <span style=\"background-color:rgba(135,206,250,0.21373129);\">what</span> <span style=\"background-color:rgba(135,206,250,0.30389336);\">was</span> <span style=\"background-color:rgba(135,206,250,0.2635569);\">there</span> <span style=\"background-color:rgba(135,206,250,1.0);\">arent</span> <span style=\"background-color:rgba(135,206,250,0.8614014);\">.</span>"
            ],
            "text/plain": [
              "<IPython.core.display.HTML object>"
            ]
          },
          "metadata": {},
          "output_type": "display_data"
        },
        {
          "name": "stdout",
          "output_type": "stream",
          "text": [
            ":   \t20.75%\n",
            ".:   \t8.65%\n",
            "the:   \t6.66%\n",
            "i:   \t3.94%\n",
            "we:   \t3.25%\n",
            "--------\n",
            "\n"
          ]
        },
        {
          "data": {
            "text/html": [
              "<span style=\"background-color:rgba(135,206,250,0.011770727);\">Disneyland</span> <span style=\"background-color:rgba(135,206,250,0.04541197);\">review</span> <span style=\"background-color:rgba(135,206,250,0.01370306);\">:</span> <span style=\"background-color:rgba(135,206,250,0.034592673);\">United</span> <span style=\"background-color:rgba(135,206,250,0.051919963);\">States</span> <span style=\"background-color:rgba(135,206,250,0.015211135);\">:</span> <span style=\"background-color:rgba(135,206,250,0.058784805);\">Disneyland_HongKong</span> <span style=\"background-color:rgba(135,206,250,0.016684908);\">:</span> <span style=\"background-color:rgba(135,206,250,0.03391023);\">5</span> <span style=\"background-color:rgba(135,206,250,0.0044004233);\">:</span> <span style=\"background-color:rgba(135,206,250,0.028482826);\">wow</span> <span style=\"background-color:rgba(135,206,250,0.037440658);\">!</span> <span style=\"background-color:rgba(135,206,250,0.032120965);\">it's</span> <span style=\"background-color:rgba(135,206,250,0.017032472);\">a</span> <span style=\"background-color:rgba(135,206,250,0.028259186);\">must</span> <span style=\"background-color:rgba(135,206,250,0.013945545);\">do</span> <span style=\"background-color:rgba(135,206,250,0.033653602);\">when</span> <span style=\"background-color:rgba(135,206,250,0.04121411);\">you're</span> <span style=\"background-color:rgba(135,206,250,0.027572244);\">visiting</span> <span style=\"background-color:rgba(135,206,250,0.012820078);\">los</span> <span style=\"background-color:rgba(135,206,250,0.023459703);\">angeles</span> <span style=\"background-color:rgba(135,206,250,0.027940903);\">.</span> <span style=\"background-color:rgba(135,206,250,0.0109446235);\">my</span> <span style=\"background-color:rgba(135,206,250,0.027572004);\">kids</span> <span style=\"background-color:rgba(135,206,250,0.03411858);\">will</span> <span style=\"background-color:rgba(135,206,250,0.04225061);\">love</span> <span style=\"background-color:rgba(135,206,250,0.024409473);\">it</span> <span style=\"background-color:rgba(135,206,250,0.029019753);\">as</span> <span style=\"background-color:rgba(135,206,250,0.026510213);\">much</span> <span style=\"background-color:rgba(135,206,250,0.03174901);\">as</span> <span style=\"background-color:rgba(135,206,250,0.034380294);\">we</span> <span style=\"background-color:rgba(135,206,250,0.060685307);\">did</span> <span style=\"background-color:rgba(135,206,250,0.020199234);\">my</span> <span style=\"background-color:rgba(135,206,250,0.03802605);\">first</span> <span style=\"background-color:rgba(135,206,250,0.034529734);\">ever</span> <span style=\"background-color:rgba(135,206,250,0.069938265);\">.</span> <span style=\"background-color:rgba(135,206,250,0.04784392);\">a</span> <span style=\"background-color:rgba(135,206,250,0.07787034);\">wow</span> <span style=\"background-color:rgba(135,206,250,0.09599774);\">.</span> <span style=\"background-color:rgba(135,206,250,0.058811404);\">it</span> <span style=\"background-color:rgba(135,206,250,0.10425073);\">is</span> <span style=\"background-color:rgba(135,206,250,0.107371055);\">expensive</span> <span style=\"background-color:rgba(135,206,250,0.096126534);\">[UNK]</span> <span style=\"background-color:rgba(135,206,250,0.1839521);\">but</span> <span style=\"background-color:rgba(135,206,250,0.23333268);\">what</span> <span style=\"background-color:rgba(135,206,250,0.24263851);\">was</span> <span style=\"background-color:rgba(135,206,250,0.24408197);\">there</span> <span style=\"background-color:rgba(135,206,250,0.8755036);\">arent</span> <span style=\"background-color:rgba(135,206,250,1.0);\">.</span> <span style=\"background-color:rgba(135,206,250,0.21769679);\">parks</span>"
            ],
            "text/plain": [
              "<IPython.core.display.HTML object>"
            ]
          },
          "metadata": {},
          "output_type": "display_data"
        },
        {
          "name": "stdout",
          "output_type": "stream",
          "text": [
            "but:   \t11.66%\n",
            ",:   \t7.67%\n",
            "and:   \t7.07%\n",
            ".:   \t5.98%\n",
            "[UNK]:   \t4.92%\n",
            "--------\n",
            "\n"
          ]
        },
        {
          "data": {
            "text/html": [
              "<span style=\"background-color:rgba(135,206,250,0.014648305);\">Disneyland</span> <span style=\"background-color:rgba(135,206,250,0.054347932);\">review</span> <span style=\"background-color:rgba(135,206,250,0.020828236);\">:</span> <span style=\"background-color:rgba(135,206,250,0.061456703);\">United</span> <span style=\"background-color:rgba(135,206,250,0.07353498);\">States</span> <span style=\"background-color:rgba(135,206,250,0.030078648);\">:</span> <span style=\"background-color:rgba(135,206,250,0.12976485);\">Disneyland_HongKong</span> <span style=\"background-color:rgba(135,206,250,0.034804575);\">:</span> <span style=\"background-color:rgba(135,206,250,0.0752814);\">5</span> <span style=\"background-color:rgba(135,206,250,0.007310627);\">:</span> <span style=\"background-color:rgba(135,206,250,0.04219593);\">wow</span> <span style=\"background-color:rgba(135,206,250,0.04579365);\">!</span> <span style=\"background-color:rgba(135,206,250,0.025804652);\">it's</span> <span style=\"background-color:rgba(135,206,250,0.023375494);\">a</span> <span style=\"background-color:rgba(135,206,250,0.027236933);\">must</span> <span style=\"background-color:rgba(135,206,250,0.027449459);\">do</span> <span style=\"background-color:rgba(135,206,250,0.032132376);\">when</span> <span style=\"background-color:rgba(135,206,250,0.0252396);\">you're</span> <span style=\"background-color:rgba(135,206,250,0.035642635);\">visiting</span> <span style=\"background-color:rgba(135,206,250,0.035575263);\">los</span> <span style=\"background-color:rgba(135,206,250,0.04558954);\">angeles</span> <span style=\"background-color:rgba(135,206,250,0.03460695);\">.</span> <span style=\"background-color:rgba(135,206,250,0.020549389);\">my</span> <span style=\"background-color:rgba(135,206,250,0.04788697);\">kids</span> <span style=\"background-color:rgba(135,206,250,0.022947026);\">will</span> <span style=\"background-color:rgba(135,206,250,0.040322937);\">love</span> <span style=\"background-color:rgba(135,206,250,0.026446113);\">it</span> <span style=\"background-color:rgba(135,206,250,0.02168742);\">as</span> <span style=\"background-color:rgba(135,206,250,0.033593427);\">much</span> <span style=\"background-color:rgba(135,206,250,0.024884442);\">as</span> <span style=\"background-color:rgba(135,206,250,0.029922407);\">we</span> <span style=\"background-color:rgba(135,206,250,0.058569416);\">did</span> <span style=\"background-color:rgba(135,206,250,0.033660553);\">my</span> <span style=\"background-color:rgba(135,206,250,0.055944867);\">first</span> <span style=\"background-color:rgba(135,206,250,0.05277803);\">ever</span> <span style=\"background-color:rgba(135,206,250,0.06881844);\">.</span> <span style=\"background-color:rgba(135,206,250,0.049508635);\">a</span> <span style=\"background-color:rgba(135,206,250,0.091908045);\">wow</span> <span style=\"background-color:rgba(135,206,250,0.091853395);\">.</span> <span style=\"background-color:rgba(135,206,250,0.05746715);\">it</span> <span style=\"background-color:rgba(135,206,250,0.06455952);\">is</span> <span style=\"background-color:rgba(135,206,250,0.20592788);\">expensive</span> <span style=\"background-color:rgba(135,206,250,0.10418946);\">[UNK]</span> <span style=\"background-color:rgba(135,206,250,0.16081388);\">but</span> <span style=\"background-color:rgba(135,206,250,0.31607485);\">what</span> <span style=\"background-color:rgba(135,206,250,0.18413052);\">was</span> <span style=\"background-color:rgba(135,206,250,0.26002297);\">there</span> <span style=\"background-color:rgba(135,206,250,1.0);\">arent</span> <span style=\"background-color:rgba(135,206,250,0.8963256);\">.</span> <span style=\"background-color:rgba(135,206,250,0.6858286);\">parks</span> <span style=\"background-color:rgba(135,206,250,0.21438976);\">around</span>"
            ],
            "text/plain": [
              "<IPython.core.display.HTML object>"
            ]
          },
          "metadata": {},
          "output_type": "display_data"
        },
        {
          "name": "stdout",
          "output_type": "stream",
          "text": [
            "the:   \t31.01%\n",
            "[UNK]:   \t10.75%\n",
            "disneyland:   \t4.34%\n",
            "this:   \t3.86%\n",
            "it:   \t3.52%\n",
            "--------\n",
            "\n"
          ]
        },
        {
          "data": {
            "text/html": [
              "<span style=\"background-color:rgba(135,206,250,0.017441692);\">Disneyland</span> <span style=\"background-color:rgba(135,206,250,0.057919122);\">review</span> <span style=\"background-color:rgba(135,206,250,0.03261952);\">:</span> <span style=\"background-color:rgba(135,206,250,0.07297763);\">United</span> <span style=\"background-color:rgba(135,206,250,0.10157022);\">States</span> <span style=\"background-color:rgba(135,206,250,0.037921373);\">:</span> <span style=\"background-color:rgba(135,206,250,0.14870737);\">Disneyland_HongKong</span> <span style=\"background-color:rgba(135,206,250,0.042008813);\">:</span> <span style=\"background-color:rgba(135,206,250,0.079940885);\">5</span> <span style=\"background-color:rgba(135,206,250,0.008774481);\">:</span> <span style=\"background-color:rgba(135,206,250,0.048279833);\">wow</span> <span style=\"background-color:rgba(135,206,250,0.055734333);\">!</span> <span style=\"background-color:rgba(135,206,250,0.05062825);\">it's</span> <span style=\"background-color:rgba(135,206,250,0.02569862);\">a</span> <span style=\"background-color:rgba(135,206,250,0.044109263);\">must</span> <span style=\"background-color:rgba(135,206,250,0.0422721);\">do</span> <span style=\"background-color:rgba(135,206,250,0.04397248);\">when</span> <span style=\"background-color:rgba(135,206,250,0.07830576);\">you're</span> <span style=\"background-color:rgba(135,206,250,0.05585919);\">visiting</span> <span style=\"background-color:rgba(135,206,250,0.040203784);\">los</span> <span style=\"background-color:rgba(135,206,250,0.05940841);\">angeles</span> <span style=\"background-color:rgba(135,206,250,0.03814216);\">.</span> <span style=\"background-color:rgba(135,206,250,0.030678883);\">my</span> <span style=\"background-color:rgba(135,206,250,0.0779503);\">kids</span> <span style=\"background-color:rgba(135,206,250,0.051227506);\">will</span> <span style=\"background-color:rgba(135,206,250,0.046974353);\">love</span> <span style=\"background-color:rgba(135,206,250,0.031268388);\">it</span> <span style=\"background-color:rgba(135,206,250,0.02922348);\">as</span> <span style=\"background-color:rgba(135,206,250,0.03438991);\">much</span> <span style=\"background-color:rgba(135,206,250,0.033832442);\">as</span> <span style=\"background-color:rgba(135,206,250,0.060939375);\">we</span> <span style=\"background-color:rgba(135,206,250,0.09192782);\">did</span> <span style=\"background-color:rgba(135,206,250,0.050989576);\">my</span> <span style=\"background-color:rgba(135,206,250,0.058346212);\">first</span> <span style=\"background-color:rgba(135,206,250,0.06722894);\">ever</span> <span style=\"background-color:rgba(135,206,250,0.081058435);\">.</span> <span style=\"background-color:rgba(135,206,250,0.061542805);\">a</span> <span style=\"background-color:rgba(135,206,250,0.10275807);\">wow</span> <span style=\"background-color:rgba(135,206,250,0.10553947);\">.</span> <span style=\"background-color:rgba(135,206,250,0.08002195);\">it</span> <span style=\"background-color:rgba(135,206,250,0.13111298);\">is</span> <span style=\"background-color:rgba(135,206,250,0.1934498);\">expensive</span> <span style=\"background-color:rgba(135,206,250,0.09513322);\">[UNK]</span> <span style=\"background-color:rgba(135,206,250,0.19482647);\">but</span> <span style=\"background-color:rgba(135,206,250,0.24889617);\">what</span> <span style=\"background-color:rgba(135,206,250,0.37039185);\">was</span> <span style=\"background-color:rgba(135,206,250,0.45809433);\">there</span> <span style=\"background-color:rgba(135,206,250,1.0);\">arent</span> <span style=\"background-color:rgba(135,206,250,0.9878582);\">.</span> <span style=\"background-color:rgba(135,206,250,0.9557024);\">parks</span> <span style=\"background-color:rgba(135,206,250,0.5047717);\">around</span> <span style=\"background-color:rgba(135,206,250,0.54516196);\">[UNK]</span>"
            ],
            "text/plain": [
              "<IPython.core.display.HTML object>"
            ]
          },
          "metadata": {},
          "output_type": "display_data"
        },
        {
          "name": "stdout",
          "output_type": "stream",
          "text": [
            "and:   \t8.89%\n",
            "[UNK]:   \t8.63%\n",
            ".:   \t4.09%\n",
            ",:   \t3.53%\n",
            "but:   \t3.44%\n",
            "--------\n",
            "\n"
          ]
        },
        {
          "data": {
            "text/html": [
              "<span style=\"background-color:rgba(135,206,250,0.014009109);\">Disneyland</span> <span style=\"background-color:rgba(135,206,250,0.049551986);\">review</span> <span style=\"background-color:rgba(135,206,250,0.01571888);\">:</span> <span style=\"background-color:rgba(135,206,250,0.058126394);\">United</span> <span style=\"background-color:rgba(135,206,250,0.08063102);\">States</span> <span style=\"background-color:rgba(135,206,250,0.022823919);\">:</span> <span style=\"background-color:rgba(135,206,250,0.11474157);\">Disneyland_HongKong</span> <span style=\"background-color:rgba(135,206,250,0.030612009);\">:</span> <span style=\"background-color:rgba(135,206,250,0.07526704);\">5</span> <span style=\"background-color:rgba(135,206,250,0.0052366443);\">:</span> <span style=\"background-color:rgba(135,206,250,0.04017732);\">wow</span> <span style=\"background-color:rgba(135,206,250,0.068445936);\">!</span> <span style=\"background-color:rgba(135,206,250,0.029337937);\">it's</span> <span style=\"background-color:rgba(135,206,250,0.018103337);\">a</span> <span style=\"background-color:rgba(135,206,250,0.028705925);\">must</span> <span style=\"background-color:rgba(135,206,250,0.016579928);\">do</span> <span style=\"background-color:rgba(135,206,250,0.032239687);\">when</span> <span style=\"background-color:rgba(135,206,250,0.03383305);\">you're</span> <span style=\"background-color:rgba(135,206,250,0.031720225);\">visiting</span> <span style=\"background-color:rgba(135,206,250,0.022793647);\">los</span> <span style=\"background-color:rgba(135,206,250,0.033554047);\">angeles</span> <span style=\"background-color:rgba(135,206,250,0.041365866);\">.</span> <span style=\"background-color:rgba(135,206,250,0.013358357);\">my</span> <span style=\"background-color:rgba(135,206,250,0.036532726);\">kids</span> <span style=\"background-color:rgba(135,206,250,0.03569847);\">will</span> <span style=\"background-color:rgba(135,206,250,0.037667777);\">love</span> <span style=\"background-color:rgba(135,206,250,0.024817392);\">it</span> <span style=\"background-color:rgba(135,206,250,0.020292379);\">as</span> <span style=\"background-color:rgba(135,206,250,0.021908393);\">much</span> <span style=\"background-color:rgba(135,206,250,0.023039531);\">as</span> <span style=\"background-color:rgba(135,206,250,0.045656893);\">we</span> <span style=\"background-color:rgba(135,206,250,0.04291856);\">did</span> <span style=\"background-color:rgba(135,206,250,0.023331584);\">my</span> <span style=\"background-color:rgba(135,206,250,0.030421091);\">first</span> <span style=\"background-color:rgba(135,206,250,0.029850608);\">ever</span> <span style=\"background-color:rgba(135,206,250,0.092617944);\">.</span> <span style=\"background-color:rgba(135,206,250,0.04451397);\">a</span> <span style=\"background-color:rgba(135,206,250,0.085420035);\">wow</span> <span style=\"background-color:rgba(135,206,250,0.118427694);\">.</span> <span style=\"background-color:rgba(135,206,250,0.06005906);\">it</span> <span style=\"background-color:rgba(135,206,250,0.08136821);\">is</span> <span style=\"background-color:rgba(135,206,250,0.12068932);\">expensive</span> <span style=\"background-color:rgba(135,206,250,0.08597685);\">[UNK]</span> <span style=\"background-color:rgba(135,206,250,0.20062326);\">but</span> <span style=\"background-color:rgba(135,206,250,0.22475679);\">what</span> <span style=\"background-color:rgba(135,206,250,0.18088618);\">was</span> <span style=\"background-color:rgba(135,206,250,0.20402266);\">there</span> <span style=\"background-color:rgba(135,206,250,0.5539285);\">arent</span> <span style=\"background-color:rgba(135,206,250,1.0);\">.</span> <span style=\"background-color:rgba(135,206,250,0.32413593);\">parks</span> <span style=\"background-color:rgba(135,206,250,0.29513508);\">around</span> <span style=\"background-color:rgba(135,206,250,0.62486833);\">[UNK]</span> <span style=\"background-color:rgba(135,206,250,0.49850625);\">clean</span>"
            ],
            "text/plain": [
              "<IPython.core.display.HTML object>"
            ]
          },
          "metadata": {},
          "output_type": "display_data"
        },
        {
          "name": "stdout",
          "output_type": "stream",
          "text": [
            "and:   \t42.7%\n",
            ",:   \t9.49%\n",
            ".:   \t7.1%\n",
            ":   \t4.68%\n",
            "park:   \t4.25%\n",
            "--------\n",
            "\n"
          ]
        },
        {
          "data": {
            "text/html": [
              "<span style=\"background-color:rgba(135,206,250,0.0052401377);\">Disneyland</span> <span style=\"background-color:rgba(135,206,250,0.017556744);\">review</span> <span style=\"background-color:rgba(135,206,250,0.009573439);\">:</span> <span style=\"background-color:rgba(135,206,250,0.022498365);\">United</span> <span style=\"background-color:rgba(135,206,250,0.0406815);\">States</span> <span style=\"background-color:rgba(135,206,250,0.007505565);\">:</span> <span style=\"background-color:rgba(135,206,250,0.036644734);\">Disneyland_HongKong</span> <span style=\"background-color:rgba(135,206,250,0.0066034966);\">:</span> <span style=\"background-color:rgba(135,206,250,0.03308294);\">5</span> <span style=\"background-color:rgba(135,206,250,0.0016565938);\">:</span> <span style=\"background-color:rgba(135,206,250,0.018903686);\">wow</span> <span style=\"background-color:rgba(135,206,250,0.010397901);\">!</span> <span style=\"background-color:rgba(135,206,250,0.024167461);\">it's</span> <span style=\"background-color:rgba(135,206,250,0.014211652);\">a</span> <span style=\"background-color:rgba(135,206,250,0.013998144);\">must</span> <span style=\"background-color:rgba(135,206,250,0.022248214);\">do</span> <span style=\"background-color:rgba(135,206,250,0.013140594);\">when</span> <span style=\"background-color:rgba(135,206,250,0.04606213);\">you're</span> <span style=\"background-color:rgba(135,206,250,0.024341982);\">visiting</span> <span style=\"background-color:rgba(135,206,250,0.013314922);\">los</span> <span style=\"background-color:rgba(135,206,250,0.03031805);\">angeles</span> <span style=\"background-color:rgba(135,206,250,0.009356902);\">.</span> <span style=\"background-color:rgba(135,206,250,0.026726054);\">my</span> <span style=\"background-color:rgba(135,206,250,0.026180843);\">kids</span> <span style=\"background-color:rgba(135,206,250,0.020492114);\">will</span> <span style=\"background-color:rgba(135,206,250,0.025592722);\">love</span> <span style=\"background-color:rgba(135,206,250,0.012367825);\">it</span> <span style=\"background-color:rgba(135,206,250,0.018934334);\">as</span> <span style=\"background-color:rgba(135,206,250,0.020872831);\">much</span> <span style=\"background-color:rgba(135,206,250,0.023108842);\">as</span> <span style=\"background-color:rgba(135,206,250,0.032389626);\">we</span> <span style=\"background-color:rgba(135,206,250,0.06024297);\">did</span> <span style=\"background-color:rgba(135,206,250,0.04662694);\">my</span> <span style=\"background-color:rgba(135,206,250,0.04643334);\">first</span> <span style=\"background-color:rgba(135,206,250,0.04092708);\">ever</span> <span style=\"background-color:rgba(135,206,250,0.024942704);\">.</span> <span style=\"background-color:rgba(135,206,250,0.045214053);\">a</span> <span style=\"background-color:rgba(135,206,250,0.061332546);\">wow</span> <span style=\"background-color:rgba(135,206,250,0.02951377);\">.</span> <span style=\"background-color:rgba(135,206,250,0.03329696);\">it</span> <span style=\"background-color:rgba(135,206,250,0.058072973);\">is</span> <span style=\"background-color:rgba(135,206,250,0.08054685);\">expensive</span> <span style=\"background-color:rgba(135,206,250,0.04532621);\">[UNK]</span> <span style=\"background-color:rgba(135,206,250,0.057148334);\">but</span> <span style=\"background-color:rgba(135,206,250,0.08080429);\">what</span> <span style=\"background-color:rgba(135,206,250,0.13794518);\">was</span> <span style=\"background-color:rgba(135,206,250,0.1373124);\">there</span> <span style=\"background-color:rgba(135,206,250,0.71583676);\">arent</span> <span style=\"background-color:rgba(135,206,250,0.20034094);\">.</span> <span style=\"background-color:rgba(135,206,250,0.22554299);\">parks</span> <span style=\"background-color:rgba(135,206,250,0.16232453);\">around</span> <span style=\"background-color:rgba(135,206,250,0.25881892);\">[UNK]</span> <span style=\"background-color:rgba(135,206,250,1.0);\">clean</span> <span style=\"background-color:rgba(135,206,250,0.24144967);\">and</span>"
            ],
            "text/plain": [
              "<IPython.core.display.HTML object>"
            ]
          },
          "metadata": {},
          "output_type": "display_data"
        },
        {
          "name": "stdout",
          "output_type": "stream",
          "text": [
            "well:   \t11.36%\n",
            "the:   \t5.46%\n",
            "staff:   \t4.88%\n",
            "easy:   \t4.77%\n",
            "fun:   \t4.19%\n",
            "--------\n",
            "\n"
          ]
        },
        {
          "data": {
            "text/html": [
              "<span style=\"background-color:rgba(135,206,250,0.01981632);\">Disneyland</span> <span style=\"background-color:rgba(135,206,250,0.043713246);\">review</span> <span style=\"background-color:rgba(135,206,250,0.03394123);\">:</span> <span style=\"background-color:rgba(135,206,250,0.07500052);\">United</span> <span style=\"background-color:rgba(135,206,250,0.08903049);\">States</span> <span style=\"background-color:rgba(135,206,250,0.056645997);\">:</span> <span style=\"background-color:rgba(135,206,250,0.11191764);\">Disneyland_HongKong</span> <span style=\"background-color:rgba(135,206,250,0.053555038);\">:</span> <span style=\"background-color:rgba(135,206,250,0.05784066);\">5</span> <span style=\"background-color:rgba(135,206,250,0.010562963);\">:</span> <span style=\"background-color:rgba(135,206,250,0.024973268);\">wow</span> <span style=\"background-color:rgba(135,206,250,0.051113855);\">!</span> <span style=\"background-color:rgba(135,206,250,0.014722878);\">it's</span> <span style=\"background-color:rgba(135,206,250,0.022058405);\">a</span> <span style=\"background-color:rgba(135,206,250,0.025502319);\">must</span> <span style=\"background-color:rgba(135,206,250,0.017778449);\">do</span> <span style=\"background-color:rgba(135,206,250,0.026678111);\">when</span> <span style=\"background-color:rgba(135,206,250,0.015269546);\">you're</span> <span style=\"background-color:rgba(135,206,250,0.028721739);\">visiting</span> <span style=\"background-color:rgba(135,206,250,0.02595419);\">los</span> <span style=\"background-color:rgba(135,206,250,0.031415366);\">angeles</span> <span style=\"background-color:rgba(135,206,250,0.03146564);\">.</span> <span style=\"background-color:rgba(135,206,250,0.009057703);\">my</span> <span style=\"background-color:rgba(135,206,250,0.030426499);\">kids</span> <span style=\"background-color:rgba(135,206,250,0.024263268);\">will</span> <span style=\"background-color:rgba(135,206,250,0.02691348);\">love</span> <span style=\"background-color:rgba(135,206,250,0.023852779);\">it</span> <span style=\"background-color:rgba(135,206,250,0.016052196);\">as</span> <span style=\"background-color:rgba(135,206,250,0.023792814);\">much</span> <span style=\"background-color:rgba(135,206,250,0.018087717);\">as</span> <span style=\"background-color:rgba(135,206,250,0.02803422);\">we</span> <span style=\"background-color:rgba(135,206,250,0.026950728);\">did</span> <span style=\"background-color:rgba(135,206,250,0.014354198);\">my</span> <span style=\"background-color:rgba(135,206,250,0.019018045);\">first</span> <span style=\"background-color:rgba(135,206,250,0.024762254);\">ever</span> <span style=\"background-color:rgba(135,206,250,0.058246158);\">.</span> <span style=\"background-color:rgba(135,206,250,0.044812884);\">a</span> <span style=\"background-color:rgba(135,206,250,0.052878834);\">wow</span> <span style=\"background-color:rgba(135,206,250,0.07268738);\">.</span> <span style=\"background-color:rgba(135,206,250,0.049216636);\">it</span> <span style=\"background-color:rgba(135,206,250,0.04198331);\">is</span> <span style=\"background-color:rgba(135,206,250,0.09397871);\">expensive</span> <span style=\"background-color:rgba(135,206,250,0.061369766);\">[UNK]</span> <span style=\"background-color:rgba(135,206,250,0.08779432);\">but</span> <span style=\"background-color:rgba(135,206,250,0.09271845);\">what</span> <span style=\"background-color:rgba(135,206,250,0.08900918);\">was</span> <span style=\"background-color:rgba(135,206,250,0.16892038);\">there</span> <span style=\"background-color:rgba(135,206,250,0.23814382);\">arent</span> <span style=\"background-color:rgba(135,206,250,0.41676491);\">.</span> <span style=\"background-color:rgba(135,206,250,0.25241598);\">parks</span> <span style=\"background-color:rgba(135,206,250,0.2016208);\">around</span> <span style=\"background-color:rgba(135,206,250,0.23201369);\">[UNK]</span> <span style=\"background-color:rgba(135,206,250,0.3847498);\">clean</span> <span style=\"background-color:rgba(135,206,250,1.0);\">and</span> <span style=\"background-color:rgba(135,206,250,0.34467408);\">easy</span>"
            ],
            "text/plain": [
              "<IPython.core.display.HTML object>"
            ]
          },
          "metadata": {},
          "output_type": "display_data"
        },
        {
          "name": "stdout",
          "output_type": "stream",
          "text": [
            "to:   \t41.7%\n",
            "access:   \t24.19%\n",
            "[UNK]:   \t3.86%\n",
            ".:   \t3.25%\n",
            ":   \t2.76%\n",
            "--------\n",
            "\n"
          ]
        },
        {
          "data": {
            "text/html": [
              "<span style=\"background-color:rgba(135,206,250,0.0036621797);\">Disneyland</span> <span style=\"background-color:rgba(135,206,250,0.017399533);\">review</span> <span style=\"background-color:rgba(135,206,250,0.010707784);\">:</span> <span style=\"background-color:rgba(135,206,250,0.030145707);\">United</span> <span style=\"background-color:rgba(135,206,250,0.03687988);\">States</span> <span style=\"background-color:rgba(135,206,250,0.01633153);\">:</span> <span style=\"background-color:rgba(135,206,250,0.07072108);\">Disneyland_HongKong</span> <span style=\"background-color:rgba(135,206,250,0.015220173);\">:</span> <span style=\"background-color:rgba(135,206,250,0.032448705);\">5</span> <span style=\"background-color:rgba(135,206,250,0.002177483);\">:</span> <span style=\"background-color:rgba(135,206,250,0.015045973);\">wow</span> <span style=\"background-color:rgba(135,206,250,0.01256014);\">!</span> <span style=\"background-color:rgba(135,206,250,0.0052518426);\">it's</span> <span style=\"background-color:rgba(135,206,250,0.008733114);\">a</span> <span style=\"background-color:rgba(135,206,250,0.009177314);\">must</span> <span style=\"background-color:rgba(135,206,250,0.013046436);\">do</span> <span style=\"background-color:rgba(135,206,250,0.007801922);\">when</span> <span style=\"background-color:rgba(135,206,250,0.0047279363);\">you're</span> <span style=\"background-color:rgba(135,206,250,0.01160153);\">visiting</span> <span style=\"background-color:rgba(135,206,250,0.022262799);\">los</span> <span style=\"background-color:rgba(135,206,250,0.026889047);\">angeles</span> <span style=\"background-color:rgba(135,206,250,0.00952668);\">.</span> <span style=\"background-color:rgba(135,206,250,0.0087728705);\">my</span> <span style=\"background-color:rgba(135,206,250,0.02480714);\">kids</span> <span style=\"background-color:rgba(135,206,250,0.0054093185);\">will</span> <span style=\"background-color:rgba(135,206,250,0.013901105);\">love</span> <span style=\"background-color:rgba(135,206,250,0.008011797);\">it</span> <span style=\"background-color:rgba(135,206,250,0.00543968);\">as</span> <span style=\"background-color:rgba(135,206,250,0.016880471);\">much</span> <span style=\"background-color:rgba(135,206,250,0.006718502);\">as</span> <span style=\"background-color:rgba(135,206,250,0.011873185);\">we</span> <span style=\"background-color:rgba(135,206,250,0.01752062);\">did</span> <span style=\"background-color:rgba(135,206,250,0.0140454825);\">my</span> <span style=\"background-color:rgba(135,206,250,0.022876007);\">first</span> <span style=\"background-color:rgba(135,206,250,0.021846313);\">ever</span> <span style=\"background-color:rgba(135,206,250,0.01901366);\">.</span> <span style=\"background-color:rgba(135,206,250,0.018955499);\">a</span> <span style=\"background-color:rgba(135,206,250,0.035957377);\">wow</span> <span style=\"background-color:rgba(135,206,250,0.023456613);\">.</span> <span style=\"background-color:rgba(135,206,250,0.018756634);\">it</span> <span style=\"background-color:rgba(135,206,250,0.012106217);\">is</span> <span style=\"background-color:rgba(135,206,250,0.106313236);\">expensive</span> <span style=\"background-color:rgba(135,206,250,0.030511737);\">[UNK]</span> <span style=\"background-color:rgba(135,206,250,0.027478741);\">but</span> <span style=\"background-color:rgba(135,206,250,0.050877385);\">what</span> <span style=\"background-color:rgba(135,206,250,0.033158716);\">was</span> <span style=\"background-color:rgba(135,206,250,0.06639252);\">there</span> <span style=\"background-color:rgba(135,206,250,0.19674397);\">arent</span> <span style=\"background-color:rgba(135,206,250,0.10644633);\">.</span> <span style=\"background-color:rgba(135,206,250,0.13992977);\">parks</span> <span style=\"background-color:rgba(135,206,250,0.10135837);\">around</span> <span style=\"background-color:rgba(135,206,250,0.1683242);\">[UNK]</span> <span style=\"background-color:rgba(135,206,250,0.28146186);\">clean</span> <span style=\"background-color:rgba(135,206,250,0.27201125);\">and</span> <span style=\"background-color:rgba(135,206,250,1.0);\">easy</span> <span style=\"background-color:rgba(135,206,250,0.085472204);\">to</span>"
            ],
            "text/plain": [
              "<IPython.core.display.HTML object>"
            ]
          },
          "metadata": {},
          "output_type": "display_data"
        },
        {
          "name": "stdout",
          "output_type": "stream",
          "text": [
            "get:   \t51.96%\n",
            "do:   \t8.74%\n",
            "find:   \t5.53%\n",
            "navigate:   \t5.29%\n",
            "access:   \t3.8%\n",
            "--------\n",
            "\n"
          ]
        },
        {
          "data": {
            "text/html": [
              "<span style=\"background-color:rgba(135,206,250,0.010397123);\">Disneyland</span> <span style=\"background-color:rgba(135,206,250,0.03354725);\">review</span> <span style=\"background-color:rgba(135,206,250,0.019127175);\">:</span> <span style=\"background-color:rgba(135,206,250,0.057303675);\">United</span> <span style=\"background-color:rgba(135,206,250,0.08807861);\">States</span> <span style=\"background-color:rgba(135,206,250,0.022759933);\">:</span> <span style=\"background-color:rgba(135,206,250,0.105407454);\">Disneyland_HongKong</span> <span style=\"background-color:rgba(135,206,250,0.028772967);\">:</span> <span style=\"background-color:rgba(135,206,250,0.07951345);\">5</span> <span style=\"background-color:rgba(135,206,250,0.0045677545);\">:</span> <span style=\"background-color:rgba(135,206,250,0.043323558);\">wow</span> <span style=\"background-color:rgba(135,206,250,0.037034124);\">!</span> <span style=\"background-color:rgba(135,206,250,0.024292346);\">it's</span> <span style=\"background-color:rgba(135,206,250,0.011166486);\">a</span> <span style=\"background-color:rgba(135,206,250,0.025966251);\">must</span> <span style=\"background-color:rgba(135,206,250,0.026886586);\">do</span> <span style=\"background-color:rgba(135,206,250,0.018027179);\">when</span> <span style=\"background-color:rgba(135,206,250,0.033877566);\">you're</span> <span style=\"background-color:rgba(135,206,250,0.0392256);\">visiting</span> <span style=\"background-color:rgba(135,206,250,0.03345539);\">los</span> <span style=\"background-color:rgba(135,206,250,0.05670447);\">angeles</span> <span style=\"background-color:rgba(135,206,250,0.01836366);\">.</span> <span style=\"background-color:rgba(135,206,250,0.017998444);\">my</span> <span style=\"background-color:rgba(135,206,250,0.047623076);\">kids</span> <span style=\"background-color:rgba(135,206,250,0.034982555);\">will</span> <span style=\"background-color:rgba(135,206,250,0.032579016);\">love</span> <span style=\"background-color:rgba(135,206,250,0.015089035);\">it</span> <span style=\"background-color:rgba(135,206,250,0.011365831);\">as</span> <span style=\"background-color:rgba(135,206,250,0.019704465);\">much</span> <span style=\"background-color:rgba(135,206,250,0.013655893);\">as</span> <span style=\"background-color:rgba(135,206,250,0.03380059);\">we</span> <span style=\"background-color:rgba(135,206,250,0.036117032);\">did</span> <span style=\"background-color:rgba(135,206,250,0.027850904);\">my</span> <span style=\"background-color:rgba(135,206,250,0.032157786);\">first</span> <span style=\"background-color:rgba(135,206,250,0.02941358);\">ever</span> <span style=\"background-color:rgba(135,206,250,0.037754476);\">.</span> <span style=\"background-color:rgba(135,206,250,0.023246964);\">a</span> <span style=\"background-color:rgba(135,206,250,0.08026357);\">wow</span> <span style=\"background-color:rgba(135,206,250,0.03919822);\">.</span> <span style=\"background-color:rgba(135,206,250,0.032308016);\">it</span> <span style=\"background-color:rgba(135,206,250,0.047516286);\">is</span> <span style=\"background-color:rgba(135,206,250,0.15359707);\">expensive</span> <span style=\"background-color:rgba(135,206,250,0.048652023);\">[UNK]</span> <span style=\"background-color:rgba(135,206,250,0.069401786);\">but</span> <span style=\"background-color:rgba(135,206,250,0.06594255);\">what</span> <span style=\"background-color:rgba(135,206,250,0.069501296);\">was</span> <span style=\"background-color:rgba(135,206,250,0.0713807);\">there</span> <span style=\"background-color:rgba(135,206,250,0.3528562);\">arent</span> <span style=\"background-color:rgba(135,206,250,0.19443817);\">.</span> <span style=\"background-color:rgba(135,206,250,0.20019802);\">parks</span> <span style=\"background-color:rgba(135,206,250,0.113415875);\">around</span> <span style=\"background-color:rgba(135,206,250,0.15842782);\">[UNK]</span> <span style=\"background-color:rgba(135,206,250,0.31213462);\">clean</span> <span style=\"background-color:rgba(135,206,250,0.6050184);\">and</span> <span style=\"background-color:rgba(135,206,250,1.0);\">easy</span> <span style=\"background-color:rgba(135,206,250,0.9247503);\">to</span> <span style=\"background-color:rgba(135,206,250,0.16726959);\">have</span>"
            ],
            "text/plain": [
              "<IPython.core.display.HTML object>"
            ]
          },
          "metadata": {},
          "output_type": "display_data"
        },
        {
          "name": "stdout",
          "output_type": "stream",
          "text": [
            "dumplings:   \t18.72%\n",
            "fun:   \t15.81%\n",
            "photos:   \t6.59%\n",
            "a:   \t5.88%\n",
            "proper:   \t4.38%\n",
            "--------\n",
            "\n"
          ]
        },
        {
          "data": {
            "text/html": [
              "<span style=\"background-color:rgba(135,206,250,0.012654405);\">Disneyland</span> <span style=\"background-color:rgba(135,206,250,0.03420184);\">review</span> <span style=\"background-color:rgba(135,206,250,0.017522378);\">:</span> <span style=\"background-color:rgba(135,206,250,0.06691145);\">United</span> <span style=\"background-color:rgba(135,206,250,0.08600416);\">States</span> <span style=\"background-color:rgba(135,206,250,0.024568342);\">:</span> <span style=\"background-color:rgba(135,206,250,0.11870195);\">Disneyland_HongKong</span> <span style=\"background-color:rgba(135,206,250,0.032146294);\">:</span> <span style=\"background-color:rgba(135,206,250,0.08208448);\">5</span> <span style=\"background-color:rgba(135,206,250,0.0050525996);\">:</span> <span style=\"background-color:rgba(135,206,250,0.033797253);\">wow</span> <span style=\"background-color:rgba(135,206,250,0.05903024);\">!</span> <span style=\"background-color:rgba(135,206,250,0.02864208);\">it's</span> <span style=\"background-color:rgba(135,206,250,0.01895451);\">a</span> <span style=\"background-color:rgba(135,206,250,0.025466032);\">must</span> <span style=\"background-color:rgba(135,206,250,0.01770668);\">do</span> <span style=\"background-color:rgba(135,206,250,0.029265976);\">when</span> <span style=\"background-color:rgba(135,206,250,0.03365754);\">you're</span> <span style=\"background-color:rgba(135,206,250,0.029926213);\">visiting</span> <span style=\"background-color:rgba(135,206,250,0.023089798);\">los</span> <span style=\"background-color:rgba(135,206,250,0.030263245);\">angeles</span> <span style=\"background-color:rgba(135,206,250,0.033319928);\">.</span> <span style=\"background-color:rgba(135,206,250,0.013755391);\">my</span> <span style=\"background-color:rgba(135,206,250,0.03719264);\">kids</span> <span style=\"background-color:rgba(135,206,250,0.0324337);\">will</span> <span style=\"background-color:rgba(135,206,250,0.025831783);\">love</span> <span style=\"background-color:rgba(135,206,250,0.019095497);\">it</span> <span style=\"background-color:rgba(135,206,250,0.01566951);\">as</span> <span style=\"background-color:rgba(135,206,250,0.017167754);\">much</span> <span style=\"background-color:rgba(135,206,250,0.017839704);\">as</span> <span style=\"background-color:rgba(135,206,250,0.039969984);\">we</span> <span style=\"background-color:rgba(135,206,250,0.037001513);\">did</span> <span style=\"background-color:rgba(135,206,250,0.021759516);\">my</span> <span style=\"background-color:rgba(135,206,250,0.02312369);\">first</span> <span style=\"background-color:rgba(135,206,250,0.026305312);\">ever</span> <span style=\"background-color:rgba(135,206,250,0.06506638);\">.</span> <span style=\"background-color:rgba(135,206,250,0.038055595);\">a</span> <span style=\"background-color:rgba(135,206,250,0.05928447);\">wow</span> <span style=\"background-color:rgba(135,206,250,0.07371587);\">.</span> <span style=\"background-color:rgba(135,206,250,0.041328147);\">it</span> <span style=\"background-color:rgba(135,206,250,0.061409812);\">is</span> <span style=\"background-color:rgba(135,206,250,0.08710093);\">expensive</span> <span style=\"background-color:rgba(135,206,250,0.051466055);\">[UNK]</span> <span style=\"background-color:rgba(135,206,250,0.110415734);\">but</span> <span style=\"background-color:rgba(135,206,250,0.09059196);\">what</span> <span style=\"background-color:rgba(135,206,250,0.10443252);\">was</span> <span style=\"background-color:rgba(135,206,250,0.12925981);\">there</span> <span style=\"background-color:rgba(135,206,250,0.30305207);\">arent</span> <span style=\"background-color:rgba(135,206,250,0.33781686);\">.</span> <span style=\"background-color:rgba(135,206,250,0.18957153);\">parks</span> <span style=\"background-color:rgba(135,206,250,0.10390177);\">around</span> <span style=\"background-color:rgba(135,206,250,0.1559874);\">[UNK]</span> <span style=\"background-color:rgba(135,206,250,0.23896699);\">clean</span> <span style=\"background-color:rgba(135,206,250,0.57107913);\">and</span> <span style=\"background-color:rgba(135,206,250,0.28662845);\">easy</span> <span style=\"background-color:rgba(135,206,250,0.5277473);\">to</span> <span style=\"background-color:rgba(135,206,250,1.0);\">have</span> <span style=\"background-color:rgba(135,206,250,0.46560922);\">fun</span>"
            ],
            "text/plain": [
              "<IPython.core.display.HTML object>"
            ]
          },
          "metadata": {},
          "output_type": "display_data"
        },
        {
          "name": "stdout",
          "output_type": "stream",
          "text": [
            ".:   \t33.05%\n",
            ":   \t14.62%\n",
            "!:   \t7.8%\n",
            "with:   \t5.51%\n",
            "and:   \t5.3%\n",
            "--------\n",
            "\n"
          ]
        },
        {
          "data": {
            "text/html": [
              "<span style=\"background-color:rgba(135,206,250,0.025648365);\">Disneyland</span> <span style=\"background-color:rgba(135,206,250,0.058557466);\">review</span> <span style=\"background-color:rgba(135,206,250,0.055533417);\">:</span> <span style=\"background-color:rgba(135,206,250,0.1875725);\">United</span> <span style=\"background-color:rgba(135,206,250,0.2082437);\">States</span> <span style=\"background-color:rgba(135,206,250,0.053637214);\">:</span> <span style=\"background-color:rgba(135,206,250,0.32138008);\">Disneyland_HongKong</span> <span style=\"background-color:rgba(135,206,250,0.078955784);\">:</span> <span style=\"background-color:rgba(135,206,250,0.3063193);\">5</span> <span style=\"background-color:rgba(135,206,250,0.011878107);\">:</span> <span style=\"background-color:rgba(135,206,250,0.13072085);\">wow</span> <span style=\"background-color:rgba(135,206,250,0.09904079);\">!</span> <span style=\"background-color:rgba(135,206,250,0.11967029);\">it's</span> <span style=\"background-color:rgba(135,206,250,0.035315514);\">a</span> <span style=\"background-color:rgba(135,206,250,0.06563206);\">must</span> <span style=\"background-color:rgba(135,206,250,0.042910483);\">do</span> <span style=\"background-color:rgba(135,206,250,0.040160097);\">when</span> <span style=\"background-color:rgba(135,206,250,0.0930566);\">you're</span> <span style=\"background-color:rgba(135,206,250,0.06551106);\">visiting</span> <span style=\"background-color:rgba(135,206,250,0.05322685);\">los</span> <span style=\"background-color:rgba(135,206,250,0.07295503);\">angeles</span> <span style=\"background-color:rgba(135,206,250,0.060526185);\">.</span> <span style=\"background-color:rgba(135,206,250,0.043197233);\">my</span> <span style=\"background-color:rgba(135,206,250,0.08782936);\">kids</span> <span style=\"background-color:rgba(135,206,250,0.074493855);\">will</span> <span style=\"background-color:rgba(135,206,250,0.07316776);\">love</span> <span style=\"background-color:rgba(135,206,250,0.044173393);\">it</span> <span style=\"background-color:rgba(135,206,250,0.029275974);\">as</span> <span style=\"background-color:rgba(135,206,250,0.041321017);\">much</span> <span style=\"background-color:rgba(135,206,250,0.03291094);\">as</span> <span style=\"background-color:rgba(135,206,250,0.07202541);\">we</span> <span style=\"background-color:rgba(135,206,250,0.07974622);\">did</span> <span style=\"background-color:rgba(135,206,250,0.05792282);\">my</span> <span style=\"background-color:rgba(135,206,250,0.060758527);\">first</span> <span style=\"background-color:rgba(135,206,250,0.060651343);\">ever</span> <span style=\"background-color:rgba(135,206,250,0.10412358);\">.</span> <span style=\"background-color:rgba(135,206,250,0.05303678);\">a</span> <span style=\"background-color:rgba(135,206,250,0.19550061);\">wow</span> <span style=\"background-color:rgba(135,206,250,0.10803663);\">.</span> <span style=\"background-color:rgba(135,206,250,0.08558753);\">it</span> <span style=\"background-color:rgba(135,206,250,0.124336325);\">is</span> <span style=\"background-color:rgba(135,206,250,0.2035862);\">expensive</span> <span style=\"background-color:rgba(135,206,250,0.09469696);\">[UNK]</span> <span style=\"background-color:rgba(135,206,250,0.18812092);\">but</span> <span style=\"background-color:rgba(135,206,250,0.10633707);\">what</span> <span style=\"background-color:rgba(135,206,250,0.17256783);\">was</span> <span style=\"background-color:rgba(135,206,250,0.1629446);\">there</span> <span style=\"background-color:rgba(135,206,250,0.523552);\">arent</span> <span style=\"background-color:rgba(135,206,250,0.31220484);\">.</span> <span style=\"background-color:rgba(135,206,250,0.28415576);\">parks</span> <span style=\"background-color:rgba(135,206,250,0.15524037);\">around</span> <span style=\"background-color:rgba(135,206,250,0.22112003);\">[UNK]</span> <span style=\"background-color:rgba(135,206,250,0.40824455);\">clean</span> <span style=\"background-color:rgba(135,206,250,0.29489154);\">and</span> <span style=\"background-color:rgba(135,206,250,0.8073141);\">easy</span> <span style=\"background-color:rgba(135,206,250,0.30021647);\">to</span> <span style=\"background-color:rgba(135,206,250,0.3032073);\">have</span> <span style=\"background-color:rgba(135,206,250,0.9279342);\">fun</span> <span style=\"background-color:rgba(135,206,250,1.0);\">!</span>"
            ],
            "text/plain": [
              "<IPython.core.display.HTML object>"
            ]
          },
          "metadata": {},
          "output_type": "display_data"
        },
        {
          "name": "stdout",
          "output_type": "stream",
          "text": [
            ":   \t65.35%\n",
            "!:   \t7.8%\n",
            "the:   \t2.48%\n",
            "[UNK]:   \t0.81%\n",
            "we:   \t0.8%\n",
            "--------\n",
            "\n"
          ]
        },
        {
          "data": {
            "text/html": [
              "<span style=\"background-color:rgba(135,206,250,0.0098358905);\">Disneyland</span> <span style=\"background-color:rgba(135,206,250,0.024885278);\">review</span> <span style=\"background-color:rgba(135,206,250,0.018818287);\">:</span> <span style=\"background-color:rgba(135,206,250,0.04938329);\">United</span> <span style=\"background-color:rgba(135,206,250,0.05705939);\">States</span> <span style=\"background-color:rgba(135,206,250,0.03329507);\">:</span> <span style=\"background-color:rgba(135,206,250,0.08918628);\">Disneyland_HongKong</span> <span style=\"background-color:rgba(135,206,250,0.03619159);\">:</span> <span style=\"background-color:rgba(135,206,250,0.040236365);\">5</span> <span style=\"background-color:rgba(135,206,250,0.006603525);\">:</span> <span style=\"background-color:rgba(135,206,250,0.021476382);\">wow</span> <span style=\"background-color:rgba(135,206,250,0.03589341);\">!</span> <span style=\"background-color:rgba(135,206,250,0.010215646);\">it's</span> <span style=\"background-color:rgba(135,206,250,0.008960139);\">a</span> <span style=\"background-color:rgba(135,206,250,0.017906968);\">must</span> <span style=\"background-color:rgba(135,206,250,0.012639366);\">do</span> <span style=\"background-color:rgba(135,206,250,0.014444661);\">when</span> <span style=\"background-color:rgba(135,206,250,0.009022515);\">you're</span> <span style=\"background-color:rgba(135,206,250,0.016899394);\">visiting</span> <span style=\"background-color:rgba(135,206,250,0.023574995);\">los</span> <span style=\"background-color:rgba(135,206,250,0.024628432);\">angeles</span> <span style=\"background-color:rgba(135,206,250,0.018265938);\">.</span> <span style=\"background-color:rgba(135,206,250,0.00570262);\">my</span> <span style=\"background-color:rgba(135,206,250,0.025566375);\">kids</span> <span style=\"background-color:rgba(135,206,250,0.014388494);\">will</span> <span style=\"background-color:rgba(135,206,250,0.016258305);\">love</span> <span style=\"background-color:rgba(135,206,250,0.011360971);\">it</span> <span style=\"background-color:rgba(135,206,250,0.0059521436);\">as</span> <span style=\"background-color:rgba(135,206,250,0.01316791);\">much</span> <span style=\"background-color:rgba(135,206,250,0.0067417827);\">as</span> <span style=\"background-color:rgba(135,206,250,0.0136198215);\">we</span> <span style=\"background-color:rgba(135,206,250,0.014950246);\">did</span> <span style=\"background-color:rgba(135,206,250,0.008365262);\">my</span> <span style=\"background-color:rgba(135,206,250,0.0117423935);\">first</span> <span style=\"background-color:rgba(135,206,250,0.014515692);\">ever</span> <span style=\"background-color:rgba(135,206,250,0.029941564);\">.</span> <span style=\"background-color:rgba(135,206,250,0.014597916);\">a</span> <span style=\"background-color:rgba(135,206,250,0.032437045);\">wow</span> <span style=\"background-color:rgba(135,206,250,0.035288095);\">.</span> <span style=\"background-color:rgba(135,206,250,0.020975748);\">it</span> <span style=\"background-color:rgba(135,206,250,0.021427806);\">is</span> <span style=\"background-color:rgba(135,206,250,0.0831945);\">expensive</span> <span style=\"background-color:rgba(135,206,250,0.03103865);\">[UNK]</span> <span style=\"background-color:rgba(135,206,250,0.034984067);\">but</span> <span style=\"background-color:rgba(135,206,250,0.031895343);\">what</span> <span style=\"background-color:rgba(135,206,250,0.03497784);\">was</span> <span style=\"background-color:rgba(135,206,250,0.038310863);\">there</span> <span style=\"background-color:rgba(135,206,250,0.07826477);\">arent</span> <span style=\"background-color:rgba(135,206,250,0.112330474);\">.</span> <span style=\"background-color:rgba(135,206,250,0.10292878);\">parks</span> <span style=\"background-color:rgba(135,206,250,0.056263287);\">around</span> <span style=\"background-color:rgba(135,206,250,0.063199066);\">[UNK]</span> <span style=\"background-color:rgba(135,206,250,0.11145059);\">clean</span> <span style=\"background-color:rgba(135,206,250,0.18208562);\">and</span> <span style=\"background-color:rgba(135,206,250,0.12571876);\">easy</span> <span style=\"background-color:rgba(135,206,250,0.14627363);\">to</span> <span style=\"background-color:rgba(135,206,250,0.15580608);\">have</span> <span style=\"background-color:rgba(135,206,250,0.15732452);\">fun</span> <span style=\"background-color:rgba(135,206,250,1.0);\">!</span> <span style=\"background-color:rgba(135,206,250,0.36696067);\">unable</span>"
            ],
            "text/plain": [
              "<IPython.core.display.HTML object>"
            ]
          },
          "metadata": {},
          "output_type": "display_data"
        },
        {
          "name": "stdout",
          "output_type": "stream",
          "text": [
            "to:   \t84.56%\n",
            "[UNK]:   \t4.17%\n",
            "or:   \t1.1%\n",
            "the:   \t0.83%\n",
            "all:   \t0.74%\n",
            "--------\n",
            "\n"
          ]
        },
        {
          "data": {
            "text/html": [
              "<span style=\"background-color:rgba(135,206,250,0.003359734);\">Disneyland</span> <span style=\"background-color:rgba(135,206,250,0.012413398);\">review</span> <span style=\"background-color:rgba(135,206,250,0.010270389);\">:</span> <span style=\"background-color:rgba(135,206,250,0.028866388);\">United</span> <span style=\"background-color:rgba(135,206,250,0.033547625);\">States</span> <span style=\"background-color:rgba(135,206,250,0.015661921);\">:</span> <span style=\"background-color:rgba(135,206,250,0.06161329);\">Disneyland_HongKong</span> <span style=\"background-color:rgba(135,206,250,0.014820519);\">:</span> <span style=\"background-color:rgba(135,206,250,0.029421162);\">5</span> <span style=\"background-color:rgba(135,206,250,0.0022161412);\">:</span> <span style=\"background-color:rgba(135,206,250,0.013271083);\">wow</span> <span style=\"background-color:rgba(135,206,250,0.010817241);\">!</span> <span style=\"background-color:rgba(135,206,250,0.004751924);\">it's</span> <span style=\"background-color:rgba(135,206,250,0.0076748515);\">a</span> <span style=\"background-color:rgba(135,206,250,0.008265562);\">must</span> <span style=\"background-color:rgba(135,206,250,0.012046125);\">do</span> <span style=\"background-color:rgba(135,206,250,0.006526032);\">when</span> <span style=\"background-color:rgba(135,206,250,0.004105522);\">you're</span> <span style=\"background-color:rgba(135,206,250,0.010098802);\">visiting</span> <span style=\"background-color:rgba(135,206,250,0.020489464);\">los</span> <span style=\"background-color:rgba(135,206,250,0.022250233);\">angeles</span> <span style=\"background-color:rgba(135,206,250,0.0075460663);\">.</span> <span style=\"background-color:rgba(135,206,250,0.007734673);\">my</span> <span style=\"background-color:rgba(135,206,250,0.021072626);\">kids</span> <span style=\"background-color:rgba(135,206,250,0.004530072);\">will</span> <span style=\"background-color:rgba(135,206,250,0.010821449);\">love</span> <span style=\"background-color:rgba(135,206,250,0.0060439645);\">it</span> <span style=\"background-color:rgba(135,206,250,0.0039765746);\">as</span> <span style=\"background-color:rgba(135,206,250,0.013348791);\">much</span> <span style=\"background-color:rgba(135,206,250,0.0049080737);\">as</span> <span style=\"background-color:rgba(135,206,250,0.0096583525);\">we</span> <span style=\"background-color:rgba(135,206,250,0.013045182);\">did</span> <span style=\"background-color:rgba(135,206,250,0.011329013);\">my</span> <span style=\"background-color:rgba(135,206,250,0.017116396);\">first</span> <span style=\"background-color:rgba(135,206,250,0.01687264);\">ever</span> <span style=\"background-color:rgba(135,206,250,0.013400701);\">.</span> <span style=\"background-color:rgba(135,206,250,0.013790781);\">a</span> <span style=\"background-color:rgba(135,206,250,0.025418194);\">wow</span> <span style=\"background-color:rgba(135,206,250,0.01539888);\">.</span> <span style=\"background-color:rgba(135,206,250,0.012224119);\">it</span> <span style=\"background-color:rgba(135,206,250,0.008146973);\">is</span> <span style=\"background-color:rgba(135,206,250,0.07096972);\">expensive</span> <span style=\"background-color:rgba(135,206,250,0.019610394);\">[UNK]</span> <span style=\"background-color:rgba(135,206,250,0.014561951);\">but</span> <span style=\"background-color:rgba(135,206,250,0.021854293);\">what</span> <span style=\"background-color:rgba(135,206,250,0.014837583);\">was</span> <span style=\"background-color:rgba(135,206,250,0.031889282);\">there</span> <span style=\"background-color:rgba(135,206,250,0.08869686);\">arent</span> <span style=\"background-color:rgba(135,206,250,0.03444182);\">.</span> <span style=\"background-color:rgba(135,206,250,0.07090264);\">parks</span> <span style=\"background-color:rgba(135,206,250,0.05084433);\">around</span> <span style=\"background-color:rgba(135,206,250,0.04366547);\">[UNK]</span> <span style=\"background-color:rgba(135,206,250,0.08443736);\">clean</span> <span style=\"background-color:rgba(135,206,250,0.04631872);\">and</span> <span style=\"background-color:rgba(135,206,250,0.20542075);\">easy</span> <span style=\"background-color:rgba(135,206,250,0.025260424);\">to</span> <span style=\"background-color:rgba(135,206,250,0.10127897);\">have</span> <span style=\"background-color:rgba(135,206,250,0.15638775);\">fun</span> <span style=\"background-color:rgba(135,206,250,0.30917764);\">!</span> <span style=\"background-color:rgba(135,206,250,1.0);\">unable</span> <span style=\"background-color:rgba(135,206,250,0.06800323);\">to</span>"
            ],
            "text/plain": [
              "<IPython.core.display.HTML object>"
            ]
          },
          "metadata": {},
          "output_type": "display_data"
        },
        {
          "name": "stdout",
          "output_type": "stream",
          "text": [
            "get:   \t13.24%\n",
            "locate:   \t10.81%\n",
            "go:   \t9.74%\n",
            "see:   \t6.8%\n",
            "find:   \t5.99%\n",
            "--------\n",
            "\n"
          ]
        },
        {
          "data": {
            "text/html": [
              "<span style=\"background-color:rgba(135,206,250,0.023499195);\">Disneyland</span> <span style=\"background-color:rgba(135,206,250,0.040004723);\">review</span> <span style=\"background-color:rgba(135,206,250,0.028235732);\">:</span> <span style=\"background-color:rgba(135,206,250,0.09515336);\">United</span> <span style=\"background-color:rgba(135,206,250,0.107949585);\">States</span> <span style=\"background-color:rgba(135,206,250,0.047273092);\">:</span> <span style=\"background-color:rgba(135,206,250,0.1498695);\">Disneyland_HongKong</span> <span style=\"background-color:rgba(135,206,250,0.051275946);\">:</span> <span style=\"background-color:rgba(135,206,250,0.07827899);\">5</span> <span style=\"background-color:rgba(135,206,250,0.012390055);\">:</span> <span style=\"background-color:rgba(135,206,250,0.039433878);\">wow</span> <span style=\"background-color:rgba(135,206,250,0.07065992);\">!</span> <span style=\"background-color:rgba(135,206,250,0.035857778);\">it's</span> <span style=\"background-color:rgba(135,206,250,0.025531383);\">a</span> <span style=\"background-color:rgba(135,206,250,0.03824909);\">must</span> <span style=\"background-color:rgba(135,206,250,0.025843943);\">do</span> <span style=\"background-color:rgba(135,206,250,0.03137749);\">when</span> <span style=\"background-color:rgba(135,206,250,0.029849172);\">you're</span> <span style=\"background-color:rgba(135,206,250,0.031663563);\">visiting</span> <span style=\"background-color:rgba(135,206,250,0.033399325);\">los</span> <span style=\"background-color:rgba(135,206,250,0.031497598);\">angeles</span> <span style=\"background-color:rgba(135,206,250,0.03740604);\">.</span> <span style=\"background-color:rgba(135,206,250,0.014192007);\">my</span> <span style=\"background-color:rgba(135,206,250,0.043440487);\">kids</span> <span style=\"background-color:rgba(135,206,250,0.028603755);\">will</span> <span style=\"background-color:rgba(135,206,250,0.032690868);\">love</span> <span style=\"background-color:rgba(135,206,250,0.022763353);\">it</span> <span style=\"background-color:rgba(135,206,250,0.013468984);\">as</span> <span style=\"background-color:rgba(135,206,250,0.022706645);\">much</span> <span style=\"background-color:rgba(135,206,250,0.014521255);\">as</span> <span style=\"background-color:rgba(135,206,250,0.030483324);\">we</span> <span style=\"background-color:rgba(135,206,250,0.036776915);\">did</span> <span style=\"background-color:rgba(135,206,250,0.018800609);\">my</span> <span style=\"background-color:rgba(135,206,250,0.024892999);\">first</span> <span style=\"background-color:rgba(135,206,250,0.028134374);\">ever</span> <span style=\"background-color:rgba(135,206,250,0.052006155);\">.</span> <span style=\"background-color:rgba(135,206,250,0.031975154);\">a</span> <span style=\"background-color:rgba(135,206,250,0.04590154);\">wow</span> <span style=\"background-color:rgba(135,206,250,0.056319773);\">.</span> <span style=\"background-color:rgba(135,206,250,0.03551478);\">it</span> <span style=\"background-color:rgba(135,206,250,0.05062818);\">is</span> <span style=\"background-color:rgba(135,206,250,0.085345335);\">expensive</span> <span style=\"background-color:rgba(135,206,250,0.051348362);\">[UNK]</span> <span style=\"background-color:rgba(135,206,250,0.051387984);\">but</span> <span style=\"background-color:rgba(135,206,250,0.055307224);\">what</span> <span style=\"background-color:rgba(135,206,250,0.06831666);\">was</span> <span style=\"background-color:rgba(135,206,250,0.06697174);\">there</span> <span style=\"background-color:rgba(135,206,250,0.13196455);\">arent</span> <span style=\"background-color:rgba(135,206,250,0.12680227);\">.</span> <span style=\"background-color:rgba(135,206,250,0.109206654);\">parks</span> <span style=\"background-color:rgba(135,206,250,0.066803254);\">around</span> <span style=\"background-color:rgba(135,206,250,0.09464999);\">[UNK]</span> <span style=\"background-color:rgba(135,206,250,0.123111024);\">clean</span> <span style=\"background-color:rgba(135,206,250,0.15309496);\">and</span> <span style=\"background-color:rgba(135,206,250,0.17699958);\">easy</span> <span style=\"background-color:rgba(135,206,250,0.10958105);\">to</span> <span style=\"background-color:rgba(135,206,250,0.23358566);\">have</span> <span style=\"background-color:rgba(135,206,250,0.2051238);\">fun</span> <span style=\"background-color:rgba(135,206,250,0.99276286);\">!</span> <span style=\"background-color:rgba(135,206,250,1.0);\">unable</span> <span style=\"background-color:rgba(135,206,250,0.3696215);\">to</span> <span style=\"background-color:rgba(135,206,250,0.64803815);\">repeat</span>"
            ],
            "text/plain": [
              "<IPython.core.display.HTML object>"
            ]
          },
          "metadata": {},
          "output_type": "display_data"
        },
        {
          "name": "stdout",
          "output_type": "stream",
          "text": [
            "anything:   \t8.57%\n",
            "it:   \t7.84%\n",
            ".:   \t4.84%\n",
            "what:   \t4.49%\n",
            "trips:   \t4.35%\n",
            "--------\n",
            "\n"
          ]
        },
        {
          "data": {
            "text/html": [
              "<span style=\"background-color:rgba(135,206,250,0.0065603084);\">Disneyland</span> <span style=\"background-color:rgba(135,206,250,0.017441608);\">review</span> <span style=\"background-color:rgba(135,206,250,0.0103195505);\">:</span> <span style=\"background-color:rgba(135,206,250,0.04188108);\">United</span> <span style=\"background-color:rgba(135,206,250,0.055770226);\">States</span> <span style=\"background-color:rgba(135,206,250,0.01496082);\">:</span> <span style=\"background-color:rgba(135,206,250,0.0818075);\">Disneyland_HongKong</span> <span style=\"background-color:rgba(135,206,250,0.021552753);\">:</span> <span style=\"background-color:rgba(135,206,250,0.060463022);\">5</span> <span style=\"background-color:rgba(135,206,250,0.0035106484);\">:</span> <span style=\"background-color:rgba(135,206,250,0.036727484);\">wow</span> <span style=\"background-color:rgba(135,206,250,0.027854584);\">!</span> <span style=\"background-color:rgba(135,206,250,0.011045427);\">it's</span> <span style=\"background-color:rgba(135,206,250,0.0075577623);\">a</span> <span style=\"background-color:rgba(135,206,250,0.0148940645);\">must</span> <span style=\"background-color:rgba(135,206,250,0.014482631);\">do</span> <span style=\"background-color:rgba(135,206,250,0.016747499);\">when</span> <span style=\"background-color:rgba(135,206,250,0.0132202795);\">you're</span> <span style=\"background-color:rgba(135,206,250,0.021670952);\">visiting</span> <span style=\"background-color:rgba(135,206,250,0.02556529);\">los</span> <span style=\"background-color:rgba(135,206,250,0.029749753);\">angeles</span> <span style=\"background-color:rgba(135,206,250,0.011428254);\">.</span> <span style=\"background-color:rgba(135,206,250,0.013165945);\">my</span> <span style=\"background-color:rgba(135,206,250,0.021386005);\">kids</span> <span style=\"background-color:rgba(135,206,250,0.008781442);\">will</span> <span style=\"background-color:rgba(135,206,250,0.020337064);\">love</span> <span style=\"background-color:rgba(135,206,250,0.0055459077);\">it</span> <span style=\"background-color:rgba(135,206,250,0.00563034);\">as</span> <span style=\"background-color:rgba(135,206,250,0.0142547535);\">much</span> <span style=\"background-color:rgba(135,206,250,0.0071230717);\">as</span> <span style=\"background-color:rgba(135,206,250,0.0126991);\">we</span> <span style=\"background-color:rgba(135,206,250,0.01559613);\">did</span> <span style=\"background-color:rgba(135,206,250,0.017353129);\">my</span> <span style=\"background-color:rgba(135,206,250,0.027078575);\">first</span> <span style=\"background-color:rgba(135,206,250,0.019365907);\">ever</span> <span style=\"background-color:rgba(135,206,250,0.018964957);\">.</span> <span style=\"background-color:rgba(135,206,250,0.009918888);\">a</span> <span style=\"background-color:rgba(135,206,250,0.045923404);\">wow</span> <span style=\"background-color:rgba(135,206,250,0.017327994);\">.</span> <span style=\"background-color:rgba(135,206,250,0.0094000995);\">it</span> <span style=\"background-color:rgba(135,206,250,0.012488);\">is</span> <span style=\"background-color:rgba(135,206,250,0.07110495);\">expensive</span> <span style=\"background-color:rgba(135,206,250,0.024324283);\">[UNK]</span> <span style=\"background-color:rgba(135,206,250,0.025650932);\">but</span> <span style=\"background-color:rgba(135,206,250,0.026367173);\">what</span> <span style=\"background-color:rgba(135,206,250,0.013627477);\">was</span> <span style=\"background-color:rgba(135,206,250,0.023722835);\">there</span> <span style=\"background-color:rgba(135,206,250,0.10929606);\">arent</span> <span style=\"background-color:rgba(135,206,250,0.036060136);\">.</span> <span style=\"background-color:rgba(135,206,250,0.047216114);\">parks</span> <span style=\"background-color:rgba(135,206,250,0.031502746);\">around</span> <span style=\"background-color:rgba(135,206,250,0.04109507);\">[UNK]</span> <span style=\"background-color:rgba(135,206,250,0.093877494);\">clean</span> <span style=\"background-color:rgba(135,206,250,0.050742872);\">and</span> <span style=\"background-color:rgba(135,206,250,0.18749629);\">easy</span> <span style=\"background-color:rgba(135,206,250,0.037282918);\">to</span> <span style=\"background-color:rgba(135,206,250,0.04439645);\">have</span> <span style=\"background-color:rgba(135,206,250,0.15779757);\">fun</span> <span style=\"background-color:rgba(135,206,250,0.29685986);\">!</span> <span style=\"background-color:rgba(135,206,250,0.542641);\">unable</span> <span style=\"background-color:rgba(135,206,250,0.13664946);\">to</span> <span style=\"background-color:rgba(135,206,250,1.0);\">repeat</span> <span style=\"background-color:rgba(135,206,250,0.08362309);\">is</span>"
            ],
            "text/plain": [
              "<IPython.core.display.HTML object>"
            ]
          },
          "metadata": {},
          "output_type": "display_data"
        },
        {
          "name": "stdout",
          "output_type": "stream",
          "text": [
            "[UNK]:   \t18.84%\n",
            "the:   \t6.74%\n",
            "very:   \t4.95%\n",
            "a:   \t3.7%\n",
            "just:   \t2.61%\n",
            "--------\n",
            "\n"
          ]
        },
        {
          "data": {
            "text/html": [
              "<span style=\"background-color:rgba(135,206,250,0.0060836254);\">Disneyland</span> <span style=\"background-color:rgba(135,206,250,0.014298106);\">review</span> <span style=\"background-color:rgba(135,206,250,0.010150978);\">:</span> <span style=\"background-color:rgba(135,206,250,0.053913087);\">United</span> <span style=\"background-color:rgba(135,206,250,0.0749415);\">States</span> <span style=\"background-color:rgba(135,206,250,0.018620137);\">:</span> <span style=\"background-color:rgba(135,206,250,0.122664444);\">Disneyland_HongKong</span> <span style=\"background-color:rgba(135,206,250,0.025669765);\">:</span> <span style=\"background-color:rgba(135,206,250,0.08772342);\">5</span> <span style=\"background-color:rgba(135,206,250,0.002296666);\">:</span> <span style=\"background-color:rgba(135,206,250,0.025203623);\">wow</span> <span style=\"background-color:rgba(135,206,250,0.028176162);\">!</span> <span style=\"background-color:rgba(135,206,250,0.0110960575);\">it's</span> <span style=\"background-color:rgba(135,206,250,0.0053669377);\">a</span> <span style=\"background-color:rgba(135,206,250,0.010939728);\">must</span> <span style=\"background-color:rgba(135,206,250,0.013672731);\">do</span> <span style=\"background-color:rgba(135,206,250,0.008699631);\">when</span> <span style=\"background-color:rgba(135,206,250,0.013040447);\">you're</span> <span style=\"background-color:rgba(135,206,250,0.01807473);\">visiting</span> <span style=\"background-color:rgba(135,206,250,0.025178446);\">los</span> <span style=\"background-color:rgba(135,206,250,0.025098069);\">angeles</span> <span style=\"background-color:rgba(135,206,250,0.009582626);\">.</span> <span style=\"background-color:rgba(135,206,250,0.009842912);\">my</span> <span style=\"background-color:rgba(135,206,250,0.022221874);\">kids</span> <span style=\"background-color:rgba(135,206,250,0.009302144);\">will</span> <span style=\"background-color:rgba(135,206,250,0.012587815);\">love</span> <span style=\"background-color:rgba(135,206,250,0.00520227);\">it</span> <span style=\"background-color:rgba(135,206,250,0.0025681716);\">as</span> <span style=\"background-color:rgba(135,206,250,0.005931109);\">much</span> <span style=\"background-color:rgba(135,206,250,0.0032853207);\">as</span> <span style=\"background-color:rgba(135,206,250,0.012063075);\">we</span> <span style=\"background-color:rgba(135,206,250,0.012506521);\">did</span> <span style=\"background-color:rgba(135,206,250,0.014192241);\">my</span> <span style=\"background-color:rgba(135,206,250,0.014273471);\">first</span> <span style=\"background-color:rgba(135,206,250,0.011782333);\">ever</span> <span style=\"background-color:rgba(135,206,250,0.01752618);\">.</span> <span style=\"background-color:rgba(135,206,250,0.007831232);\">a</span> <span style=\"background-color:rgba(135,206,250,0.037072014);\">wow</span> <span style=\"background-color:rgba(135,206,250,0.01703268);\">.</span> <span style=\"background-color:rgba(135,206,250,0.009910343);\">it</span> <span style=\"background-color:rgba(135,206,250,0.015133532);\">is</span> <span style=\"background-color:rgba(135,206,250,0.11322796);\">expensive</span> <span style=\"background-color:rgba(135,206,250,0.025670335);\">[UNK]</span> <span style=\"background-color:rgba(135,206,250,0.01653153);\">but</span> <span style=\"background-color:rgba(135,206,250,0.015177631);\">what</span> <span style=\"background-color:rgba(135,206,250,0.016092857);\">was</span> <span style=\"background-color:rgba(135,206,250,0.017675368);\">there</span> <span style=\"background-color:rgba(135,206,250,0.115311846);\">arent</span> <span style=\"background-color:rgba(135,206,250,0.038045436);\">.</span> <span style=\"background-color:rgba(135,206,250,0.058256935);\">parks</span> <span style=\"background-color:rgba(135,206,250,0.028252505);\">around</span> <span style=\"background-color:rgba(135,206,250,0.041567713);\">[UNK]</span> <span style=\"background-color:rgba(135,206,250,0.11502017);\">clean</span> <span style=\"background-color:rgba(135,206,250,0.038017806);\">and</span> <span style=\"background-color:rgba(135,206,250,0.14846158);\">easy</span> <span style=\"background-color:rgba(135,206,250,0.040651184);\">to</span> <span style=\"background-color:rgba(135,206,250,0.060476623);\">have</span> <span style=\"background-color:rgba(135,206,250,0.15122145);\">fun</span> <span style=\"background-color:rgba(135,206,250,0.29658645);\">!</span> <span style=\"background-color:rgba(135,206,250,0.64902216);\">unable</span> <span style=\"background-color:rgba(135,206,250,0.1687365);\">to</span> <span style=\"background-color:rgba(135,206,250,1.0);\">repeat</span> <span style=\"background-color:rgba(135,206,250,0.3177252);\">is</span> <span style=\"background-color:rgba(135,206,250,0.11739736);\">very</span>"
            ],
            "text/plain": [
              "<IPython.core.display.HTML object>"
            ]
          },
          "metadata": {},
          "output_type": "display_data"
        },
        {
          "name": "stdout",
          "output_type": "stream",
          "text": [
            "clean:   \t28.27%\n",
            "[UNK]:   \t13.15%\n",
            "helpful:   \t10.64%\n",
            "nice:   \t5.95%\n",
            "well:   \t3.04%\n",
            "--------\n",
            "\n"
          ]
        },
        {
          "data": {
            "text/html": [
              "<span style=\"background-color:rgba(135,206,250,0.017048968);\">Disneyland</span> <span style=\"background-color:rgba(135,206,250,0.036944177);\">review</span> <span style=\"background-color:rgba(135,206,250,0.016049031);\">:</span> <span style=\"background-color:rgba(135,206,250,0.082445875);\">United</span> <span style=\"background-color:rgba(135,206,250,0.10785382);\">States</span> <span style=\"background-color:rgba(135,206,250,0.027931727);\">:</span> <span style=\"background-color:rgba(135,206,250,0.14439355);\">Disneyland_HongKong</span> <span style=\"background-color:rgba(135,206,250,0.0389653);\">:</span> <span style=\"background-color:rgba(135,206,250,0.09799363);\">5</span> <span style=\"background-color:rgba(135,206,250,0.005989522);\">:</span> <span style=\"background-color:rgba(135,206,250,0.040806606);\">wow</span> <span style=\"background-color:rgba(135,206,250,0.07756409);\">!</span> <span style=\"background-color:rgba(135,206,250,0.0323605);\">it's</span> <span style=\"background-color:rgba(135,206,250,0.01884129);\">a</span> <span style=\"background-color:rgba(135,206,250,0.029571747);\">must</span> <span style=\"background-color:rgba(135,206,250,0.016778309);\">do</span> <span style=\"background-color:rgba(135,206,250,0.030892093);\">when</span> <span style=\"background-color:rgba(135,206,250,0.031853236);\">you're</span> <span style=\"background-color:rgba(135,206,250,0.030012274);\">visiting</span> <span style=\"background-color:rgba(135,206,250,0.023077557);\">los</span> <span style=\"background-color:rgba(135,206,250,0.026232656);\">angeles</span> <span style=\"background-color:rgba(135,206,250,0.036310647);\">.</span> <span style=\"background-color:rgba(135,206,250,0.011385696);\">my</span> <span style=\"background-color:rgba(135,206,250,0.029534342);\">kids</span> <span style=\"background-color:rgba(135,206,250,0.030568032);\">will</span> <span style=\"background-color:rgba(135,206,250,0.03309866);\">love</span> <span style=\"background-color:rgba(135,206,250,0.01906473);\">it</span> <span style=\"background-color:rgba(135,206,250,0.013147198);\">as</span> <span style=\"background-color:rgba(135,206,250,0.017406845);\">much</span> <span style=\"background-color:rgba(135,206,250,0.0147517575);\">as</span> <span style=\"background-color:rgba(135,206,250,0.034797);\">we</span> <span style=\"background-color:rgba(135,206,250,0.030431274);\">did</span> <span style=\"background-color:rgba(135,206,250,0.016341079);\">my</span> <span style=\"background-color:rgba(135,206,250,0.021497652);\">first</span> <span style=\"background-color:rgba(135,206,250,0.022226056);\">ever</span> <span style=\"background-color:rgba(135,206,250,0.06203745);\">.</span> <span style=\"background-color:rgba(135,206,250,0.029186517);\">a</span> <span style=\"background-color:rgba(135,206,250,0.058118895);\">wow</span> <span style=\"background-color:rgba(135,206,250,0.06289041);\">.</span> <span style=\"background-color:rgba(135,206,250,0.03555183);\">it</span> <span style=\"background-color:rgba(135,206,250,0.053371485);\">is</span> <span style=\"background-color:rgba(135,206,250,0.08020451);\">expensive</span> <span style=\"background-color:rgba(135,206,250,0.048421);\">[UNK]</span> <span style=\"background-color:rgba(135,206,250,0.082226776);\">but</span> <span style=\"background-color:rgba(135,206,250,0.048751615);\">what</span> <span style=\"background-color:rgba(135,206,250,0.061359785);\">was</span> <span style=\"background-color:rgba(135,206,250,0.073162146);\">there</span> <span style=\"background-color:rgba(135,206,250,0.17665555);\">arent</span> <span style=\"background-color:rgba(135,206,250,0.14810157);\">.</span> <span style=\"background-color:rgba(135,206,250,0.08400598);\">parks</span> <span style=\"background-color:rgba(135,206,250,0.050166685);\">around</span> <span style=\"background-color:rgba(135,206,250,0.084823854);\">[UNK]</span> <span style=\"background-color:rgba(135,206,250,0.10796227);\">clean</span> <span style=\"background-color:rgba(135,206,250,0.18226935);\">and</span> <span style=\"background-color:rgba(135,206,250,0.13215579);\">easy</span> <span style=\"background-color:rgba(135,206,250,0.0892184);\">to</span> <span style=\"background-color:rgba(135,206,250,0.15018798);\">have</span> <span style=\"background-color:rgba(135,206,250,0.19015084);\">fun</span> <span style=\"background-color:rgba(135,206,250,1.0);\">!</span> <span style=\"background-color:rgba(135,206,250,0.9513262);\">unable</span> <span style=\"background-color:rgba(135,206,250,0.30504006);\">to</span> <span style=\"background-color:rgba(135,206,250,0.5822936);\">repeat</span> <span style=\"background-color:rgba(135,206,250,0.7732959);\">is</span> <span style=\"background-color:rgba(135,206,250,0.812967);\">very</span> <span style=\"background-color:rgba(135,206,250,0.6239419);\">clean</span>"
            ],
            "text/plain": [
              "<IPython.core.display.HTML object>"
            ]
          },
          "metadata": {},
          "output_type": "display_data"
        },
        {
          "name": "stdout",
          "output_type": "stream",
          "text": [
            "and:   \t29.65%\n",
            ":   \t7.07%\n",
            ".:   \t6.89%\n",
            ",:   \t5.9%\n",
            "friendly:   \t5.04%\n",
            "--------\n",
            "\n"
          ]
        },
        {
          "data": {
            "text/html": [
              "<span style=\"background-color:rgba(135,206,250,0.005145052);\">Disneyland</span> <span style=\"background-color:rgba(135,206,250,0.010848216);\">review</span> <span style=\"background-color:rgba(135,206,250,0.008977169);\">:</span> <span style=\"background-color:rgba(135,206,250,0.02619998);\">United</span> <span style=\"background-color:rgba(135,206,250,0.04346864);\">States</span> <span style=\"background-color:rgba(135,206,250,0.007875722);\">:</span> <span style=\"background-color:rgba(135,206,250,0.03998336);\">Disneyland_HongKong</span> <span style=\"background-color:rgba(135,206,250,0.0075370963);\">:</span> <span style=\"background-color:rgba(135,206,250,0.035000682);\">5</span> <span style=\"background-color:rgba(135,206,250,0.0017747427);\">:</span> <span style=\"background-color:rgba(135,206,250,0.017491017);\">wow</span> <span style=\"background-color:rgba(135,206,250,0.009969358);\">!</span> <span style=\"background-color:rgba(135,206,250,0.024462407);\">it's</span> <span style=\"background-color:rgba(135,206,250,0.012317679);\">a</span> <span style=\"background-color:rgba(135,206,250,0.013196718);\">must</span> <span style=\"background-color:rgba(135,206,250,0.020443825);\">do</span> <span style=\"background-color:rgba(135,206,250,0.010446617);\">when</span> <span style=\"background-color:rgba(135,206,250,0.039785147);\">you're</span> <span style=\"background-color:rgba(135,206,250,0.02047116);\">visiting</span> <span style=\"background-color:rgba(135,206,250,0.012783059);\">los</span> <span style=\"background-color:rgba(135,206,250,0.022540469);\">angeles</span> <span style=\"background-color:rgba(135,206,250,0.00706417);\">.</span> <span style=\"background-color:rgba(135,206,250,0.02116775);\">my</span> <span style=\"background-color:rgba(135,206,250,0.022054626);\">kids</span> <span style=\"background-color:rgba(135,206,250,0.015296266);\">will</span> <span style=\"background-color:rgba(135,206,250,0.01793798);\">love</span> <span style=\"background-color:rgba(135,206,250,0.008088332);\">it</span> <span style=\"background-color:rgba(135,206,250,0.010219139);\">as</span> <span style=\"background-color:rgba(135,206,250,0.013849109);\">much</span> <span style=\"background-color:rgba(135,206,250,0.012445863);\">as</span> <span style=\"background-color:rgba(135,206,250,0.021914009);\">we</span> <span style=\"background-color:rgba(135,206,250,0.038532328);\">did</span> <span style=\"background-color:rgba(135,206,250,0.030848896);\">my</span> <span style=\"background-color:rgba(135,206,250,0.028583553);\">first</span> <span style=\"background-color:rgba(135,206,250,0.02603202);\">ever</span> <span style=\"background-color:rgba(135,206,250,0.013866389);\">.</span> <span style=\"background-color:rgba(135,206,250,0.024496298);\">a</span> <span style=\"background-color:rgba(135,206,250,0.031156573);\">wow</span> <span style=\"background-color:rgba(135,206,250,0.013239442);\">.</span> <span style=\"background-color:rgba(135,206,250,0.015246629);\">it</span> <span style=\"background-color:rgba(135,206,250,0.030483317);\">is</span> <span style=\"background-color:rgba(135,206,250,0.03660769);\">expensive</span> <span style=\"background-color:rgba(135,206,250,0.021318516);\">[UNK]</span> <span style=\"background-color:rgba(135,206,250,0.023595287);\">but</span> <span style=\"background-color:rgba(135,206,250,0.03122967);\">what</span> <span style=\"background-color:rgba(135,206,250,0.043047637);\">was</span> <span style=\"background-color:rgba(135,206,250,0.030781087);\">there</span> <span style=\"background-color:rgba(135,206,250,0.28398138);\">arent</span> <span style=\"background-color:rgba(135,206,250,0.03114641);\">.</span> <span style=\"background-color:rgba(135,206,250,0.03566967);\">parks</span> <span style=\"background-color:rgba(135,206,250,0.02599559);\">around</span> <span style=\"background-color:rgba(135,206,250,0.039272945);\">[UNK]</span> <span style=\"background-color:rgba(135,206,250,0.067748226);\">clean</span> <span style=\"background-color:rgba(135,206,250,0.03270684);\">and</span> <span style=\"background-color:rgba(135,206,250,0.14375839);\">easy</span> <span style=\"background-color:rgba(135,206,250,0.06650763);\">to</span> <span style=\"background-color:rgba(135,206,250,0.10807646);\">have</span> <span style=\"background-color:rgba(135,206,250,0.13528973);\">fun</span> <span style=\"background-color:rgba(135,206,250,0.13322145);\">!</span> <span style=\"background-color:rgba(135,206,250,0.5755928);\">unable</span> <span style=\"background-color:rgba(135,206,250,0.16180746);\">to</span> <span style=\"background-color:rgba(135,206,250,0.71951884);\">repeat</span> <span style=\"background-color:rgba(135,206,250,0.37136605);\">is</span> <span style=\"background-color:rgba(135,206,250,0.32631442);\">very</span> <span style=\"background-color:rgba(135,206,250,1.0);\">clean</span> <span style=\"background-color:rgba(135,206,250,0.3173944);\">and</span>"
            ],
            "text/plain": [
              "<IPython.core.display.HTML object>"
            ]
          },
          "metadata": {},
          "output_type": "display_data"
        },
        {
          "name": "stdout",
          "output_type": "stream",
          "text": [
            "the:   \t10.87%\n",
            "staff:   \t8.44%\n",
            "friendly:   \t5.59%\n",
            "well:   \t5.01%\n",
            "very:   \t2.51%\n",
            "--------\n",
            "\n"
          ]
        },
        {
          "data": {
            "text/html": [
              "<span style=\"background-color:rgba(135,206,250,0.01582969);\">Disneyland</span> <span style=\"background-color:rgba(135,206,250,0.017562436);\">review</span> <span style=\"background-color:rgba(135,206,250,0.018423712);\">:</span> <span style=\"background-color:rgba(135,206,250,0.07884099);\">United</span> <span style=\"background-color:rgba(135,206,250,0.09125943);\">States</span> <span style=\"background-color:rgba(135,206,250,0.028620914);\">:</span> <span style=\"background-color:rgba(135,206,250,0.101158015);\">Disneyland_HongKong</span> <span style=\"background-color:rgba(135,206,250,0.046918646);\">:</span> <span style=\"background-color:rgba(135,206,250,0.09910994);\">5</span> <span style=\"background-color:rgba(135,206,250,0.0070326966);\">:</span> <span style=\"background-color:rgba(135,206,250,0.032976825);\">wow</span> <span style=\"background-color:rgba(135,206,250,0.046009235);\">!</span> <span style=\"background-color:rgba(135,206,250,0.038629208);\">it's</span> <span style=\"background-color:rgba(135,206,250,0.014369203);\">a</span> <span style=\"background-color:rgba(135,206,250,0.025039028);\">must</span> <span style=\"background-color:rgba(135,206,250,0.015067486);\">do</span> <span style=\"background-color:rgba(135,206,250,0.0156976);\">when</span> <span style=\"background-color:rgba(135,206,250,0.028438367);\">you're</span> <span style=\"background-color:rgba(135,206,250,0.022996971);\">visiting</span> <span style=\"background-color:rgba(135,206,250,0.01795499);\">los</span> <span style=\"background-color:rgba(135,206,250,0.014938459);\">angeles</span> <span style=\"background-color:rgba(135,206,250,0.017885782);\">.</span> <span style=\"background-color:rgba(135,206,250,0.010069784);\">my</span> <span style=\"background-color:rgba(135,206,250,0.019917995);\">kids</span> <span style=\"background-color:rgba(135,206,250,0.02528704);\">will</span> <span style=\"background-color:rgba(135,206,250,0.023496922);\">love</span> <span style=\"background-color:rgba(135,206,250,0.011113355);\">it</span> <span style=\"background-color:rgba(135,206,250,0.0064882217);\">as</span> <span style=\"background-color:rgba(135,206,250,0.009150351);\">much</span> <span style=\"background-color:rgba(135,206,250,0.007280479);\">as</span> <span style=\"background-color:rgba(135,206,250,0.020791057);\">we</span> <span style=\"background-color:rgba(135,206,250,0.017669462);\">did</span> <span style=\"background-color:rgba(135,206,250,0.011652546);\">my</span> <span style=\"background-color:rgba(135,206,250,0.011209187);\">first</span> <span style=\"background-color:rgba(135,206,250,0.010225443);\">ever</span> <span style=\"background-color:rgba(135,206,250,0.02369466);\">.</span> <span style=\"background-color:rgba(135,206,250,0.014061472);\">a</span> <span style=\"background-color:rgba(135,206,250,0.028356135);\">wow</span> <span style=\"background-color:rgba(135,206,250,0.021322077);\">.</span> <span style=\"background-color:rgba(135,206,250,0.016333017);\">it</span> <span style=\"background-color:rgba(135,206,250,0.038553752);\">is</span> <span style=\"background-color:rgba(135,206,250,0.033901244);\">expensive</span> <span style=\"background-color:rgba(135,206,250,0.02071293);\">[UNK]</span> <span style=\"background-color:rgba(135,206,250,0.026643636);\">but</span> <span style=\"background-color:rgba(135,206,250,0.014787047);\">what</span> <span style=\"background-color:rgba(135,206,250,0.038578972);\">was</span> <span style=\"background-color:rgba(135,206,250,0.02822284);\">there</span> <span style=\"background-color:rgba(135,206,250,0.06842102);\">arent</span> <span style=\"background-color:rgba(135,206,250,0.040669);\">.</span> <span style=\"background-color:rgba(135,206,250,0.02589617);\">parks</span> <span style=\"background-color:rgba(135,206,250,0.020332307);\">around</span> <span style=\"background-color:rgba(135,206,250,0.028339708);\">[UNK]</span> <span style=\"background-color:rgba(135,206,250,0.036144454);\">clean</span> <span style=\"background-color:rgba(135,206,250,0.04156295);\">and</span> <span style=\"background-color:rgba(135,206,250,0.05147482);\">easy</span> <span style=\"background-color:rgba(135,206,250,0.025736902);\">to</span> <span style=\"background-color:rgba(135,206,250,0.029078962);\">have</span> <span style=\"background-color:rgba(135,206,250,0.077187985);\">fun</span> <span style=\"background-color:rgba(135,206,250,0.18586245);\">!</span> <span style=\"background-color:rgba(135,206,250,0.17700611);\">unable</span> <span style=\"background-color:rgba(135,206,250,0.058134377);\">to</span> <span style=\"background-color:rgba(135,206,250,0.23999244);\">repeat</span> <span style=\"background-color:rgba(135,206,250,0.22940646);\">is</span> <span style=\"background-color:rgba(135,206,250,0.14687905);\">very</span> <span style=\"background-color:rgba(135,206,250,0.22035448);\">clean</span> <span style=\"background-color:rgba(135,206,250,1.0);\">and</span> <span style=\"background-color:rgba(135,206,250,0.43379793);\">please</span>"
            ],
            "text/plain": [
              "<IPython.core.display.HTML object>"
            ]
          },
          "metadata": {},
          "output_type": "display_data"
        },
        {
          "name": "stdout",
          "output_type": "stream",
          "text": [
            "be:   \t10.09%\n",
            "do:   \t9.63%\n",
            "don't:   \t7.27%\n",
            "[UNK]:   \t5.29%\n",
            "go:   \t5.01%\n",
            "--------\n",
            "\n"
          ]
        },
        {
          "data": {
            "text/html": [
              "<span style=\"background-color:rgba(135,206,250,0.008993082);\">Disneyland</span> <span style=\"background-color:rgba(135,206,250,0.01924689);\">review</span> <span style=\"background-color:rgba(135,206,250,0.019003296);\">:</span> <span style=\"background-color:rgba(135,206,250,0.05646606);\">United</span> <span style=\"background-color:rgba(135,206,250,0.07114667);\">States</span> <span style=\"background-color:rgba(135,206,250,0.02599318);\">:</span> <span style=\"background-color:rgba(135,206,250,0.10770069);\">Disneyland_HongKong</span> <span style=\"background-color:rgba(135,206,250,0.035468195);\">:</span> <span style=\"background-color:rgba(135,206,250,0.08837729);\">5</span> <span style=\"background-color:rgba(135,206,250,0.0056034545);\">:</span> <span style=\"background-color:rgba(135,206,250,0.03338898);\">wow</span> <span style=\"background-color:rgba(135,206,250,0.03673673);\">!</span> <span style=\"background-color:rgba(135,206,250,0.025292493);\">it's</span> <span style=\"background-color:rgba(135,206,250,0.009269925);\">a</span> <span style=\"background-color:rgba(135,206,250,0.021932699);\">must</span> <span style=\"background-color:rgba(135,206,250,0.023423372);\">do</span> <span style=\"background-color:rgba(135,206,250,0.012057457);\">when</span> <span style=\"background-color:rgba(135,206,250,0.027050545);\">you're</span> <span style=\"background-color:rgba(135,206,250,0.02284431);\">visiting</span> <span style=\"background-color:rgba(135,206,250,0.032489594);\">los</span> <span style=\"background-color:rgba(135,206,250,0.031164933);\">angeles</span> <span style=\"background-color:rgba(135,206,250,0.017434947);\">.</span> <span style=\"background-color:rgba(135,206,250,0.018605983);\">my</span> <span style=\"background-color:rgba(135,206,250,0.042114884);\">kids</span> <span style=\"background-color:rgba(135,206,250,0.021502165);\">will</span> <span style=\"background-color:rgba(135,206,250,0.016798755);\">love</span> <span style=\"background-color:rgba(135,206,250,0.010281332);\">it</span> <span style=\"background-color:rgba(135,206,250,0.005263023);\">as</span> <span style=\"background-color:rgba(135,206,250,0.009013284);\">much</span> <span style=\"background-color:rgba(135,206,250,0.0063357106);\">as</span> <span style=\"background-color:rgba(135,206,250,0.028187806);\">we</span> <span style=\"background-color:rgba(135,206,250,0.021380937);\">did</span> <span style=\"background-color:rgba(135,206,250,0.023213707);\">my</span> <span style=\"background-color:rgba(135,206,250,0.017543491);\">first</span> <span style=\"background-color:rgba(135,206,250,0.015896799);\">ever</span> <span style=\"background-color:rgba(135,206,250,0.026183793);\">.</span> <span style=\"background-color:rgba(135,206,250,0.01128424);\">a</span> <span style=\"background-color:rgba(135,206,250,0.03715186);\">wow</span> <span style=\"background-color:rgba(135,206,250,0.026013732);\">.</span> <span style=\"background-color:rgba(135,206,250,0.01703098);\">it</span> <span style=\"background-color:rgba(135,206,250,0.026934773);\">is</span> <span style=\"background-color:rgba(135,206,250,0.08468945);\">expensive</span> <span style=\"background-color:rgba(135,206,250,0.025439229);\">[UNK]</span> <span style=\"background-color:rgba(135,206,250,0.02718256);\">but</span> <span style=\"background-color:rgba(135,206,250,0.016971128);\">what</span> <span style=\"background-color:rgba(135,206,250,0.029888907);\">was</span> <span style=\"background-color:rgba(135,206,250,0.025680492);\">there</span> <span style=\"background-color:rgba(135,206,250,0.11330699);\">arent</span> <span style=\"background-color:rgba(135,206,250,0.050414756);\">.</span> <span style=\"background-color:rgba(135,206,250,0.06026614);\">parks</span> <span style=\"background-color:rgba(135,206,250,0.03157465);\">around</span> <span style=\"background-color:rgba(135,206,250,0.035540614);\">[UNK]</span> <span style=\"background-color:rgba(135,206,250,0.082168505);\">clean</span> <span style=\"background-color:rgba(135,206,250,0.052583225);\">and</span> <span style=\"background-color:rgba(135,206,250,0.11178705);\">easy</span> <span style=\"background-color:rgba(135,206,250,0.043057874);\">to</span> <span style=\"background-color:rgba(135,206,250,0.035471316);\">have</span> <span style=\"background-color:rgba(135,206,250,0.09909789);\">fun</span> <span style=\"background-color:rgba(135,206,250,0.22773658);\">!</span> <span style=\"background-color:rgba(135,206,250,0.17289625);\">unable</span> <span style=\"background-color:rgba(135,206,250,0.106062);\">to</span> <span style=\"background-color:rgba(135,206,250,0.25949892);\">repeat</span> <span style=\"background-color:rgba(135,206,250,0.18242234);\">is</span> <span style=\"background-color:rgba(135,206,250,0.12198474);\">very</span> <span style=\"background-color:rgba(135,206,250,0.28459728);\">clean</span> <span style=\"background-color:rgba(135,206,250,1.0);\">and</span> <span style=\"background-color:rgba(135,206,250,0.8414178);\">please</span> <span style=\"background-color:rgba(135,206,250,0.6293151);\">make</span>"
            ],
            "text/plain": [
              "<IPython.core.display.HTML object>"
            ]
          },
          "metadata": {},
          "output_type": "display_data"
        },
        {
          "name": "stdout",
          "output_type": "stream",
          "text": [
            "sure:   \t51.8%\n",
            "reservations:   \t5.99%\n",
            "it:   \t5.96%\n",
            "use:   \t5.41%\n",
            "the:   \t4.94%\n",
            "--------\n",
            "\n"
          ]
        },
        {
          "data": {
            "text/html": [
              "<span style=\"background-color:rgba(135,206,250,0.00418065);\">Disneyland</span> <span style=\"background-color:rgba(135,206,250,0.0091855535);\">review</span> <span style=\"background-color:rgba(135,206,250,0.0050378726);\">:</span> <span style=\"background-color:rgba(135,206,250,0.028703362);\">United</span> <span style=\"background-color:rgba(135,206,250,0.034126066);\">States</span> <span style=\"background-color:rgba(135,206,250,0.0054990593);\">:</span> <span style=\"background-color:rgba(135,206,250,0.05368747);\">Disneyland_HongKong</span> <span style=\"background-color:rgba(135,206,250,0.009767882);\">:</span> <span style=\"background-color:rgba(135,206,250,0.038647547);\">5</span> <span style=\"background-color:rgba(135,206,250,0.0016661829);\">:</span> <span style=\"background-color:rgba(135,206,250,0.027362397);\">wow</span> <span style=\"background-color:rgba(135,206,250,0.021895759);\">!</span> <span style=\"background-color:rgba(135,206,250,0.027102431);\">it's</span> <span style=\"background-color:rgba(135,206,250,0.0039029347);\">a</span> <span style=\"background-color:rgba(135,206,250,0.013717642);\">must</span> <span style=\"background-color:rgba(135,206,250,0.00966417);\">do</span> <span style=\"background-color:rgba(135,206,250,0.01326073);\">when</span> <span style=\"background-color:rgba(135,206,250,0.033351596);\">you're</span> <span style=\"background-color:rgba(135,206,250,0.015148699);\">visiting</span> <span style=\"background-color:rgba(135,206,250,0.012052088);\">los</span> <span style=\"background-color:rgba(135,206,250,0.012619932);\">angeles</span> <span style=\"background-color:rgba(135,206,250,0.007806087);\">.</span> <span style=\"background-color:rgba(135,206,250,0.0071487073);\">my</span> <span style=\"background-color:rgba(135,206,250,0.01918319);\">kids</span> <span style=\"background-color:rgba(135,206,250,0.014502149);\">will</span> <span style=\"background-color:rgba(135,206,250,0.012335872);\">love</span> <span style=\"background-color:rgba(135,206,250,0.0034794644);\">it</span> <span style=\"background-color:rgba(135,206,250,0.0030915083);\">as</span> <span style=\"background-color:rgba(135,206,250,0.004847744);\">much</span> <span style=\"background-color:rgba(135,206,250,0.0035833246);\">as</span> <span style=\"background-color:rgba(135,206,250,0.010905088);\">we</span> <span style=\"background-color:rgba(135,206,250,0.020864597);\">did</span> <span style=\"background-color:rgba(135,206,250,0.010192214);\">my</span> <span style=\"background-color:rgba(135,206,250,0.014891637);\">first</span> <span style=\"background-color:rgba(135,206,250,0.013300176);\">ever</span> <span style=\"background-color:rgba(135,206,250,0.012624543);\">.</span> <span style=\"background-color:rgba(135,206,250,0.005138278);\">a</span> <span style=\"background-color:rgba(135,206,250,0.02484014);\">wow</span> <span style=\"background-color:rgba(135,206,250,0.011098237);\">.</span> <span style=\"background-color:rgba(135,206,250,0.0057837204);\">it</span> <span style=\"background-color:rgba(135,206,250,0.03462306);\">is</span> <span style=\"background-color:rgba(135,206,250,0.033132616);\">expensive</span> <span style=\"background-color:rgba(135,206,250,0.014327951);\">[UNK]</span> <span style=\"background-color:rgba(135,206,250,0.016539907);\">but</span> <span style=\"background-color:rgba(135,206,250,0.018232288);\">what</span> <span style=\"background-color:rgba(135,206,250,0.046208147);\">was</span> <span style=\"background-color:rgba(135,206,250,0.011147877);\">there</span> <span style=\"background-color:rgba(135,206,250,0.12373688);\">arent</span> <span style=\"background-color:rgba(135,206,250,0.02032916);\">.</span> <span style=\"background-color:rgba(135,206,250,0.031733822);\">parks</span> <span style=\"background-color:rgba(135,206,250,0.011640882);\">around</span> <span style=\"background-color:rgba(135,206,250,0.018145207);\">[UNK]</span> <span style=\"background-color:rgba(135,206,250,0.030491287);\">clean</span> <span style=\"background-color:rgba(135,206,250,0.013932032);\">and</span> <span style=\"background-color:rgba(135,206,250,0.06563566);\">easy</span> <span style=\"background-color:rgba(135,206,250,0.012488547);\">to</span> <span style=\"background-color:rgba(135,206,250,0.026163494);\">have</span> <span style=\"background-color:rgba(135,206,250,0.04470496);\">fun</span> <span style=\"background-color:rgba(135,206,250,0.07660216);\">!</span> <span style=\"background-color:rgba(135,206,250,0.17354733);\">unable</span> <span style=\"background-color:rgba(135,206,250,0.025822395);\">to</span> <span style=\"background-color:rgba(135,206,250,0.12865666);\">repeat</span> <span style=\"background-color:rgba(135,206,250,0.11555547);\">is</span> <span style=\"background-color:rgba(135,206,250,0.037974317);\">very</span> <span style=\"background-color:rgba(135,206,250,0.105144896);\">clean</span> <span style=\"background-color:rgba(135,206,250,0.2687837);\">and</span> <span style=\"background-color:rgba(135,206,250,0.29618645);\">please</span> <span style=\"background-color:rgba(135,206,250,1.0);\">make</span> <span style=\"background-color:rgba(135,206,250,0.16133232);\">it</span>"
            ],
            "text/plain": [
              "<IPython.core.display.HTML object>"
            ]
          },
          "metadata": {},
          "output_type": "display_data"
        },
        {
          "name": "stdout",
          "output_type": "stream",
          "text": [
            "a:   \t9.06%\n",
            "easy:   \t5.02%\n",
            "[UNK]:   \t4.98%\n",
            "all:   \t4.93%\n",
            "more:   \t3.88%\n",
            "--------\n",
            "\n"
          ]
        },
        {
          "data": {
            "text/html": [
              "<span style=\"background-color:rgba(135,206,250,0.006677383);\">Disneyland</span> <span style=\"background-color:rgba(135,206,250,0.01631074);\">review</span> <span style=\"background-color:rgba(135,206,250,0.012714152);\">:</span> <span style=\"background-color:rgba(135,206,250,0.05924068);\">United</span> <span style=\"background-color:rgba(135,206,250,0.08646128);\">States</span> <span style=\"background-color:rgba(135,206,250,0.018938934);\">:</span> <span style=\"background-color:rgba(135,206,250,0.12458705);\">Disneyland_HongKong</span> <span style=\"background-color:rgba(135,206,250,0.023302857);\">:</span> <span style=\"background-color:rgba(135,206,250,0.06194614);\">5</span> <span style=\"background-color:rgba(135,206,250,0.0032264516);\">:</span> <span style=\"background-color:rgba(135,206,250,0.03214711);\">wow</span> <span style=\"background-color:rgba(135,206,250,0.027470637);\">!</span> <span style=\"background-color:rgba(135,206,250,0.015360125);\">it's</span> <span style=\"background-color:rgba(135,206,250,0.0048549417);\">a</span> <span style=\"background-color:rgba(135,206,250,0.020128408);\">must</span> <span style=\"background-color:rgba(135,206,250,0.017634744);\">do</span> <span style=\"background-color:rgba(135,206,250,0.00862997);\">when</span> <span style=\"background-color:rgba(135,206,250,0.016687121);\">you're</span> <span style=\"background-color:rgba(135,206,250,0.020902058);\">visiting</span> <span style=\"background-color:rgba(135,206,250,0.028030703);\">los</span> <span style=\"background-color:rgba(135,206,250,0.036567416);\">angeles</span> <span style=\"background-color:rgba(135,206,250,0.009954344);\">.</span> <span style=\"background-color:rgba(135,206,250,0.006034653);\">my</span> <span style=\"background-color:rgba(135,206,250,0.04066488);\">kids</span> <span style=\"background-color:rgba(135,206,250,0.018369384);\">will</span> <span style=\"background-color:rgba(135,206,250,0.015082099);\">love</span> <span style=\"background-color:rgba(135,206,250,0.007607529);\">it</span> <span style=\"background-color:rgba(135,206,250,0.0026631001);\">as</span> <span style=\"background-color:rgba(135,206,250,0.009292534);\">much</span> <span style=\"background-color:rgba(135,206,250,0.0032058705);\">as</span> <span style=\"background-color:rgba(135,206,250,0.016010862);\">we</span> <span style=\"background-color:rgba(135,206,250,0.014671787);\">did</span> <span style=\"background-color:rgba(135,206,250,0.007926066);\">my</span> <span style=\"background-color:rgba(135,206,250,0.013053197);\">first</span> <span style=\"background-color:rgba(135,206,250,0.013561077);\">ever</span> <span style=\"background-color:rgba(135,206,250,0.0145726865);\">.</span> <span style=\"background-color:rgba(135,206,250,0.0059834616);\">a</span> <span style=\"background-color:rgba(135,206,250,0.031785626);\">wow</span> <span style=\"background-color:rgba(135,206,250,0.013906951);\">.</span> <span style=\"background-color:rgba(135,206,250,0.012945527);\">it</span> <span style=\"background-color:rgba(135,206,250,0.017808078);\">is</span> <span style=\"background-color:rgba(135,206,250,0.082622655);\">expensive</span> <span style=\"background-color:rgba(135,206,250,0.02182618);\">[UNK]</span> <span style=\"background-color:rgba(135,206,250,0.01602059);\">but</span> <span style=\"background-color:rgba(135,206,250,0.0098701045);\">what</span> <span style=\"background-color:rgba(135,206,250,0.022536604);\">was</span> <span style=\"background-color:rgba(135,206,250,0.014428522);\">there</span> <span style=\"background-color:rgba(135,206,250,0.10355557);\">arent</span> <span style=\"background-color:rgba(135,206,250,0.02669298);\">.</span> <span style=\"background-color:rgba(135,206,250,0.052470375);\">parks</span> <span style=\"background-color:rgba(135,206,250,0.026527582);\">around</span> <span style=\"background-color:rgba(135,206,250,0.030379765);\">[UNK]</span> <span style=\"background-color:rgba(135,206,250,0.08759629);\">clean</span> <span style=\"background-color:rgba(135,206,250,0.019941363);\">and</span> <span style=\"background-color:rgba(135,206,250,0.11364757);\">easy</span> <span style=\"background-color:rgba(135,206,250,0.023106787);\">to</span> <span style=\"background-color:rgba(135,206,250,0.019388033);\">have</span> <span style=\"background-color:rgba(135,206,250,0.09502048);\">fun</span> <span style=\"background-color:rgba(135,206,250,0.09229562);\">!</span> <span style=\"background-color:rgba(135,206,250,0.12123984);\">unable</span> <span style=\"background-color:rgba(135,206,250,0.048453864);\">to</span> <span style=\"background-color:rgba(135,206,250,0.2170872);\">repeat</span> <span style=\"background-color:rgba(135,206,250,0.08430647);\">is</span> <span style=\"background-color:rgba(135,206,250,0.068500444);\">very</span> <span style=\"background-color:rgba(135,206,250,0.2902109);\">clean</span> <span style=\"background-color:rgba(135,206,250,0.29484996);\">and</span> <span style=\"background-color:rgba(135,206,250,0.3651436);\">please</span> <span style=\"background-color:rgba(135,206,250,1.0);\">make</span> <span style=\"background-color:rgba(135,206,250,0.5833909);\">it</span> <span style=\"background-color:rgba(135,206,250,0.22125746);\">my</span>"
            ],
            "text/plain": [
              "<IPython.core.display.HTML object>"
            ]
          },
          "metadata": {},
          "output_type": "display_data"
        },
        {
          "name": "stdout",
          "output_type": "stream",
          "text": [
            "daughter:   \t21.05%\n",
            "son:   \t10.41%\n",
            "kids:   \t7.62%\n",
            "[UNK]:   \t4.44%\n",
            "whole:   \t3.95%\n",
            "--------\n",
            "\n"
          ]
        },
        {
          "data": {
            "text/html": [
              "<span style=\"background-color:rgba(135,206,250,0.008417966);\">Disneyland</span> <span style=\"background-color:rgba(135,206,250,0.014842419);\">review</span> <span style=\"background-color:rgba(135,206,250,0.008939145);\">:</span> <span style=\"background-color:rgba(135,206,250,0.053643864);\">United</span> <span style=\"background-color:rgba(135,206,250,0.07273423);\">States</span> <span style=\"background-color:rgba(135,206,250,0.014387343);\">:</span> <span style=\"background-color:rgba(135,206,250,0.09311489);\">Disneyland_HongKong</span> <span style=\"background-color:rgba(135,206,250,0.021989102);\">:</span> <span style=\"background-color:rgba(135,206,250,0.052656867);\">5</span> <span style=\"background-color:rgba(135,206,250,0.0032706144);\">:</span> <span style=\"background-color:rgba(135,206,250,0.027436925);\">wow</span> <span style=\"background-color:rgba(135,206,250,0.026850754);\">!</span> <span style=\"background-color:rgba(135,206,250,0.023467284);\">it's</span> <span style=\"background-color:rgba(135,206,250,0.010720823);\">a</span> <span style=\"background-color:rgba(135,206,250,0.019771028);\">must</span> <span style=\"background-color:rgba(135,206,250,0.0147905145);\">do</span> <span style=\"background-color:rgba(135,206,250,0.018980404);\">when</span> <span style=\"background-color:rgba(135,206,250,0.023502871);\">you're</span> <span style=\"background-color:rgba(135,206,250,0.022209335);\">visiting</span> <span style=\"background-color:rgba(135,206,250,0.015407647);\">los</span> <span style=\"background-color:rgba(135,206,250,0.018809097);\">angeles</span> <span style=\"background-color:rgba(135,206,250,0.012065569);\">.</span> <span style=\"background-color:rgba(135,206,250,0.006900762);\">my</span> <span style=\"background-color:rgba(135,206,250,0.017599722);\">kids</span> <span style=\"background-color:rgba(135,206,250,0.01787657);\">will</span> <span style=\"background-color:rgba(135,206,250,0.021599567);\">love</span> <span style=\"background-color:rgba(135,206,250,0.009083126);\">it</span> <span style=\"background-color:rgba(135,206,250,0.007380556);\">as</span> <span style=\"background-color:rgba(135,206,250,0.015778525);\">much</span> <span style=\"background-color:rgba(135,206,250,0.008459135);\">as</span> <span style=\"background-color:rgba(135,206,250,0.01343006);\">we</span> <span style=\"background-color:rgba(135,206,250,0.020474987);\">did</span> <span style=\"background-color:rgba(135,206,250,0.008796528);\">my</span> <span style=\"background-color:rgba(135,206,250,0.015071048);\">first</span> <span style=\"background-color:rgba(135,206,250,0.019134393);\">ever</span> <span style=\"background-color:rgba(135,206,250,0.01799163);\">.</span> <span style=\"background-color:rgba(135,206,250,0.013393681);\">a</span> <span style=\"background-color:rgba(135,206,250,0.02896623);\">wow</span> <span style=\"background-color:rgba(135,206,250,0.01659163);\">.</span> <span style=\"background-color:rgba(135,206,250,0.015596516);\">it</span> <span style=\"background-color:rgba(135,206,250,0.027179692);\">is</span> <span style=\"background-color:rgba(135,206,250,0.036396652);\">expensive</span> <span style=\"background-color:rgba(135,206,250,0.022398213);\">[UNK]</span> <span style=\"background-color:rgba(135,206,250,0.03222882);\">but</span> <span style=\"background-color:rgba(135,206,250,0.023058664);\">what</span> <span style=\"background-color:rgba(135,206,250,0.032559186);\">was</span> <span style=\"background-color:rgba(135,206,250,0.02722805);\">there</span> <span style=\"background-color:rgba(135,206,250,0.1069431);\">arent</span> <span style=\"background-color:rgba(135,206,250,0.033050768);\">.</span> <span style=\"background-color:rgba(135,206,250,0.04120637);\">parks</span> <span style=\"background-color:rgba(135,206,250,0.023822984);\">around</span> <span style=\"background-color:rgba(135,206,250,0.032651745);\">[UNK]</span> <span style=\"background-color:rgba(135,206,250,0.047422756);\">clean</span> <span style=\"background-color:rgba(135,206,250,0.03971028);\">and</span> <span style=\"background-color:rgba(135,206,250,0.07817767);\">easy</span> <span style=\"background-color:rgba(135,206,250,0.024652218);\">to</span> <span style=\"background-color:rgba(135,206,250,0.042285316);\">have</span> <span style=\"background-color:rgba(135,206,250,0.07591335);\">fun</span> <span style=\"background-color:rgba(135,206,250,0.10749253);\">!</span> <span style=\"background-color:rgba(135,206,250,0.1943685);\">unable</span> <span style=\"background-color:rgba(135,206,250,0.044232268);\">to</span> <span style=\"background-color:rgba(135,206,250,0.14033468);\">repeat</span> <span style=\"background-color:rgba(135,206,250,0.104824536);\">is</span> <span style=\"background-color:rgba(135,206,250,0.10867609);\">very</span> <span style=\"background-color:rgba(135,206,250,0.16138613);\">clean</span> <span style=\"background-color:rgba(135,206,250,0.23269525);\">and</span> <span style=\"background-color:rgba(135,206,250,0.33383518);\">please</span> <span style=\"background-color:rgba(135,206,250,1.0);\">make</span> <span style=\"background-color:rgba(135,206,250,0.25018927);\">it</span> <span style=\"background-color:rgba(135,206,250,0.67138994);\">my</span> <span style=\"background-color:rgba(135,206,250,0.20389906);\">family</span>"
            ],
            "text/plain": [
              "<IPython.core.display.HTML object>"
            ]
          },
          "metadata": {},
          "output_type": "display_data"
        },
        {
          "name": "stdout",
          "output_type": "stream",
          "text": [
            "trip:   \t13.94%\n",
            "of:   \t5.78%\n",
            "and:   \t5.77%\n",
            ":   \t4.72%\n",
            "feel:   \t4.19%\n",
            "--------\n",
            "\n"
          ]
        },
        {
          "data": {
            "text/html": [
              "<span style=\"background-color:rgba(135,206,250,0.022231583);\">Disneyland</span> <span style=\"background-color:rgba(135,206,250,0.031304702);\">review</span> <span style=\"background-color:rgba(135,206,250,0.02850729);\">:</span> <span style=\"background-color:rgba(135,206,250,0.14204237);\">United</span> <span style=\"background-color:rgba(135,206,250,0.16615592);\">States</span> <span style=\"background-color:rgba(135,206,250,0.032104257);\">:</span> <span style=\"background-color:rgba(135,206,250,0.23984514);\">Disneyland_HongKong</span> <span style=\"background-color:rgba(135,206,250,0.06591418);\">:</span> <span style=\"background-color:rgba(135,206,250,0.23427504);\">5</span> <span style=\"background-color:rgba(135,206,250,0.010001195);\">:</span> <span style=\"background-color:rgba(135,206,250,0.10716579);\">wow</span> <span style=\"background-color:rgba(135,206,250,0.083999135);\">!</span> <span style=\"background-color:rgba(135,206,250,0.12007328);\">it's</span> <span style=\"background-color:rgba(135,206,250,0.030799473);\">a</span> <span style=\"background-color:rgba(135,206,250,0.056262374);\">must</span> <span style=\"background-color:rgba(135,206,250,0.034204677);\">do</span> <span style=\"background-color:rgba(135,206,250,0.033212215);\">when</span> <span style=\"background-color:rgba(135,206,250,0.082204565);\">you're</span> <span style=\"background-color:rgba(135,206,250,0.0516523);\">visiting</span> <span style=\"background-color:rgba(135,206,250,0.039309703);\">los</span> <span style=\"background-color:rgba(135,206,250,0.043578677);\">angeles</span> <span style=\"background-color:rgba(135,206,250,0.03948068);\">.</span> <span style=\"background-color:rgba(135,206,250,0.030713605);\">my</span> <span style=\"background-color:rgba(135,206,250,0.05467896);\">kids</span> <span style=\"background-color:rgba(135,206,250,0.05275105);\">will</span> <span style=\"background-color:rgba(135,206,250,0.051142715);\">love</span> <span style=\"background-color:rgba(135,206,250,0.024538117);\">it</span> <span style=\"background-color:rgba(135,206,250,0.016660606);\">as</span> <span style=\"background-color:rgba(135,206,250,0.02608921);\">much</span> <span style=\"background-color:rgba(135,206,250,0.0185396);\">as</span> <span style=\"background-color:rgba(135,206,250,0.044590086);\">we</span> <span style=\"background-color:rgba(135,206,250,0.04623446);\">did</span> <span style=\"background-color:rgba(135,206,250,0.032884683);\">my</span> <span style=\"background-color:rgba(135,206,250,0.033714782);\">first</span> <span style=\"background-color:rgba(135,206,250,0.030373944);\">ever</span> <span style=\"background-color:rgba(135,206,250,0.050163418);\">.</span> <span style=\"background-color:rgba(135,206,250,0.0253979);\">a</span> <span style=\"background-color:rgba(135,206,250,0.07561615);\">wow</span> <span style=\"background-color:rgba(135,206,250,0.044634774);\">.</span> <span style=\"background-color:rgba(135,206,250,0.03672654);\">it</span> <span style=\"background-color:rgba(135,206,250,0.071649216);\">is</span> <span style=\"background-color:rgba(135,206,250,0.07491929);\">expensive</span> <span style=\"background-color:rgba(135,206,250,0.03934274);\">[UNK]</span> <span style=\"background-color:rgba(135,206,250,0.08781092);\">but</span> <span style=\"background-color:rgba(135,206,250,0.038898543);\">what</span> <span style=\"background-color:rgba(135,206,250,0.073952384);\">was</span> <span style=\"background-color:rgba(135,206,250,0.0641299);\">there</span> <span style=\"background-color:rgba(135,206,250,0.21411197);\">arent</span> <span style=\"background-color:rgba(135,206,250,0.0923631);\">.</span> <span style=\"background-color:rgba(135,206,250,0.076945804);\">parks</span> <span style=\"background-color:rgba(135,206,250,0.04409872);\">around</span> <span style=\"background-color:rgba(135,206,250,0.05887664);\">[UNK]</span> <span style=\"background-color:rgba(135,206,250,0.10711301);\">clean</span> <span style=\"background-color:rgba(135,206,250,0.08508888);\">and</span> <span style=\"background-color:rgba(135,206,250,0.16826305);\">easy</span> <span style=\"background-color:rgba(135,206,250,0.057058774);\">to</span> <span style=\"background-color:rgba(135,206,250,0.07225502);\">have</span> <span style=\"background-color:rgba(135,206,250,0.18689674);\">fun</span> <span style=\"background-color:rgba(135,206,250,0.19727278);\">!</span> <span style=\"background-color:rgba(135,206,250,0.2764529);\">unable</span> <span style=\"background-color:rgba(135,206,250,0.10423317);\">to</span> <span style=\"background-color:rgba(135,206,250,0.49267736);\">repeat</span> <span style=\"background-color:rgba(135,206,250,0.22982585);\">is</span> <span style=\"background-color:rgba(135,206,250,0.2220731);\">very</span> <span style=\"background-color:rgba(135,206,250,0.38885128);\">clean</span> <span style=\"background-color:rgba(135,206,250,0.31032348);\">and</span> <span style=\"background-color:rgba(135,206,250,0.5201882);\">please</span> <span style=\"background-color:rgba(135,206,250,0.31455028);\">make</span> <span style=\"background-color:rgba(135,206,250,0.32966226);\">it</span> <span style=\"background-color:rgba(135,206,250,0.5662485);\">my</span> <span style=\"background-color:rgba(135,206,250,0.6553496);\">family</span> <span style=\"background-color:rgba(135,206,250,1.0);\">!</span>"
            ],
            "text/plain": [
              "<IPython.core.display.HTML object>"
            ]
          },
          "metadata": {},
          "output_type": "display_data"
        },
        {
          "name": "stdout",
          "output_type": "stream",
          "text": [
            ":   \t89.19%\n",
            "!:   \t3.61%\n",
            "the:   \t0.42%\n",
            "i:   \t0.35%\n",
            "we:   \t0.34%\n",
            "--------\n",
            "\n"
          ]
        }
      ],
      "source": [
        "info = text_generator.generate(\"Disneyland review : United States : Disneyland_HongKong : 5\", max_tokens=80, temperature=1.0)\n",
        "print_probs(info, vocab)"
      ]
    },
    {
      "cell_type": "markdown",
      "metadata": {
        "id": "HAf2QgPRYLn4"
      },
      "source": [
        "## Member Participation\n",
        "**รายละเอียดการมีส่วนร่วม**\n",
        "   \n",
        ">นายศิวกร ภาสว่าง\n",
        ">ทำในส่วนของ model ทั้งหมด\n",
        ">\n",
        ">นางสาว เเพรวรุ้ง พุดชะวา\n",
        ">ทำ visualization\n",
        ">\n",
        ">นางสาว มารีน่า มิทซุย\n",
        ">ทำ Data Prepossessing\n",
        "\n",
        "**เปิดเผยการใช้เครื่องมือปัญญาประดิษฐ์ (AI) ใช้ ChatGPT โดยการ**\n",
        "\n",
        ">นางสาว มารีน่า มิทซุย\n",
        ">ใช้ทำความเข้าใจ error\n",
        ">\n",
        ">นางสาว เเพรวรุ้ง พุดชะวา\n",
        ">ใช้ทำความเข้าใจ error"
      ]
    }
  ],
  "metadata": {
    "accelerator": "GPU",
    "colab": {
      "gpuType": "T4",
      "include_colab_link": true,
      "provenance": []
    },
    "kernelspec": {
      "display_name": "GenAI_Env",
      "language": "python",
      "name": "python3"
    },
    "language_info": {
      "file_extension": ".jl",
      "mimetype": "application/julia",
      "name": "python",
      "version": "3.12.8"
    }
  },
  "nbformat": 4,
  "nbformat_minor": 0
}
